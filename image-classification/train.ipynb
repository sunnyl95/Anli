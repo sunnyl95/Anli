{
 "cells": [
  {
   "cell_type": "markdown",
   "metadata": {},
   "source": [
    "\n",
    "**<font size=3>导入平台数据集</font>**\n",
    "\n",
    "**数据集插件 -> 添加数据集 -> 数据集列表 -> 插入代码**\n",
    "\n",
    "导入平台数据集并调试好代码后，点击代码编辑区的【运行全量】按钮，查看在全量数据的运行结果，全量数据运行结果的调用方式可参考：[《用户手册-全量运行代码调用》](/#/user-manual/experiment/experiment-debug)\n",
    "\n",
    "全量运行之后，获取全量运行结果的主要流程：\n",
    "**上传模型文件 -> 申报审核文件 -> 审核通过 ->下载文件**\n",
    "\n",
    "上传模型文件接口示例：\n",
    "\n",
    "```python\n",
    "import wfio\n",
    "wfio.upload_to_oss(server_path,local_path) \n",
    "#server_path是上传到服务器的文件名称，可以自定义\n",
    "#local_path是本地上传的文件路径, 必须是本地已经存在的文件路径。\n",
    "```\n"
   ]
  },
  {
   "cell_type": "code",
   "execution_count": 1,
   "metadata": {},
   "outputs": [
    {
     "name": "stdout",
     "output_type": "stream",
     "text": [
      "Requirement already satisfied: torch in /opt/conda/lib/python3.7/site-packages (1.8.1)\n",
      "Requirement already satisfied: typing-extensions in /opt/conda/lib/python3.7/site-packages (from torch) (3.7.4.3)\n",
      "Requirement already satisfied: numpy in /opt/conda/lib/python3.7/site-packages (from torch) (1.19.5)\n"
     ]
    }
   ],
   "source": [
    "!pip install torch"
   ]
  },
  {
   "cell_type": "code",
   "execution_count": 2,
   "metadata": {},
   "outputs": [
    {
     "name": "stdout",
     "output_type": "stream",
     "text": [
      "Requirement already satisfied: torchvision in /opt/conda/lib/python3.7/site-packages (0.9.1)\n",
      "Requirement already satisfied: torch==1.8.1 in /opt/conda/lib/python3.7/site-packages (from torchvision) (1.8.1)\n",
      "Requirement already satisfied: numpy in /opt/conda/lib/python3.7/site-packages (from torchvision) (1.19.5)\n",
      "Requirement already satisfied: pillow>=4.1.1 in /opt/conda/lib/python3.7/site-packages (from torchvision) (6.2.1)\n",
      "Requirement already satisfied: typing-extensions in /opt/conda/lib/python3.7/site-packages (from torch==1.8.1->torchvision) (3.7.4.3)\n"
     ]
    }
   ],
   "source": [
    "!pip install torchvision"
   ]
  },
  {
   "cell_type": "code",
   "execution_count": 3,
   "metadata": {},
   "outputs": [
    {
     "name": "stdout",
     "output_type": "stream",
     "text": [
      "Downloading 200 files...\n",
      "All files download completed\n"
     ]
    }
   ],
   "source": [
    "#从S3将训练数据集下载到当前目录下的\"./traindata\"文件夹下\n",
    "\n",
    "import wfio\n",
    "_INPUT1 = '{\"type\":25,\"uri\":\"awss33ead09ff7f3b4555808852ce782a8afc:/\"}'   #文件的路径\n",
    "marker = \"\"\n",
    "while True:\n",
    "    ret = wfio.listdir(_INPUT1, marker=marker)\n",
    "    print(\"Downloading {0} files...\".format(len(ret[\"file_list\"])))\n",
    "    wfio.download(\n",
    "        _INPUT1,\n",
    "        local_path=\"traindata\",                 # 文件下载保存的目录，为None则表示下载到当前目录\n",
    "        selected_files=ret[\"file_list\"], # 下载的文件名称列表，至少指定一个文件名称\n",
    "        overwrite=False                  # 是否覆盖同名文件\n",
    "    )\n",
    "    if not ret[\"has_more\"]:              # 判断是否有更多文件\n",
    "        print(\"All files download completed\")\n",
    "        break\n",
    "    marker = ret[\"next_marker\"]          # 下一次分页查询的开始标识"
   ]
  },
  {
   "cell_type": "code",
   "execution_count": 4,
   "metadata": {},
   "outputs": [
    {
     "name": "stdout",
     "output_type": "stream",
     "text": [
      "Downloading 36 files...\n",
      "All files download completed\n"
     ]
    }
   ],
   "source": [
    "#从S3将测试数据集下载到当前目录下的\"./testdata\"文件夹下\n",
    "\n",
    "import wfio\n",
    "_INPUT2 = '{\"type\":25,\"uri\":\"awss393cee53c4066485bab9fa721272e90df:/\"}'   #文件的路径\n",
    "marker = \"\"\n",
    "while True:\n",
    "    ret = wfio.listdir(_INPUT2, marker=marker)\n",
    "    print(\"Downloading {0} files...\".format(len(ret[\"file_list\"])))\n",
    "    wfio.download(\n",
    "        _INPUT2,\n",
    "        local_path=\"testdata\",                 # 文件下载保存的目录，为None则表示下载到当前目录\n",
    "        selected_files=ret[\"file_list\"], # 下载的文件名称列表，至少指定一个文件名称\n",
    "        overwrite=False                  # 是否覆盖同名文件\n",
    "    )\n",
    "    if not ret[\"has_more\"]:              # 判断是否有更多文件\n",
    "        print(\"All files download completed\")\n",
    "        break\n",
    "    marker = ret[\"next_marker\"]          # 下一次分页查询的开始标识"
   ]
  },
  {
   "cell_type": "code",
   "execution_count": 5,
   "metadata": {},
   "outputs": [],
   "source": [
    "#导入必要的包\n",
    "import os\n",
    "import pandas as pd\n",
    "from PIL import Image\n",
    "import torch\n",
    "import torchvision.transforms as transforms\n",
    "import torch.optim as optim\n",
    "from torch.utils.data import DataLoader, Dataset\n",
    "import torch.nn as nn\n",
    "import torch.nn.functional as F\n",
    "import time\n",
    "import matplotlib.pyplot as plt\n",
    "from wf_analyse.analyse import base\n",
    "import numpy as np"
   ]
  },
  {
   "cell_type": "code",
   "execution_count": 6,
   "metadata": {},
   "outputs": [],
   "source": [
    "#定义数据集\n",
    "class Corel5kDataset(Dataset):\n",
    "    def __init__(self, label_dic, root_path, transform=None, target_transform=None):\n",
    "        imgs_path = []\n",
    "        imgs_label = []\n",
    "        for root,dir_list,file_list in os.walk(root_path):  \n",
    "            for file_name in file_list: \n",
    "                #print(os.path.join(root, file_name))\n",
    "                img_path = os.path.join(root, file_name)\n",
    "                imgs_path.append(img_path)\n",
    "                imgs_label.append(label_dic[root.split(\"/\")[-1]])\n",
    "\n",
    "        self.imgs_path = imgs_path\n",
    "        self.imgs_label = imgs_label\n",
    "        self.transform = transform\n",
    "        self.target_transform = target_transform\n",
    " \n",
    "    def __len__(self):\n",
    "        return len(self.imgs_label)\n",
    " \n",
    "    def __getitem__(self, idx):\n",
    "        image = Image.open(self.imgs_path[idx])\n",
    "        label = self.imgs_label[idx]\n",
    "        if self.transform:\n",
    "            image = self.transform(image)\n",
    "        if self.target_transform:\n",
    "            label = self.target_transform(label)\n",
    "        sample = {\"image\": image, \"label\": label}\n",
    "        return sample"
   ]
  },
  {
   "cell_type": "code",
   "execution_count": 7,
   "metadata": {},
   "outputs": [],
   "source": [
    "#自定义简单CNN，输入是224*224\n",
    "class Net(nn.Module):\n",
    "    def __init__(self, classes_num = 4):\n",
    "        super(Net, self).__init__()\n",
    "        self.conv1 = nn.Conv2d(3, 128,3,3)\n",
    "        self.pool = nn.MaxPool2d(2, 2)\n",
    "        self.conv2 = nn.Conv2d(128, 16,3, 3)\n",
    "        self.fc1 = nn.Linear(16 * 6 * 6, 120)\n",
    "        self.fc2 = nn.Linear(120, classes_num)\n",
    " \n",
    "    def forward(self, x):\n",
    "        x = self.pool(F.relu(self.conv1(x)))\n",
    "        x = self.pool(F.relu(self.conv2(x)))\n",
    "        x = x.view(-1, 16 * 6 * 6)\n",
    "        x = F.relu(self.fc1(x))\n",
    "        x = self.fc2(x)\n",
    "        return x\n"
   ]
  },
  {
   "cell_type": "code",
   "execution_count": 8,
   "metadata": {},
   "outputs": [],
   "source": [
    "def train_model(model, criterion, optimizer,  dataloaders,dataset_sizes,num_epochs=100):\n",
    "    best_loss = 100\n",
    "    best_acc = 0\n",
    "    train_loss_list = []\n",
    "    train_acc_list = []\n",
    "    test_loss_list = []\n",
    "    test_acc_list = []\n",
    "    \n",
    "    print(\"\\nStart Train......\")\n",
    "    #创建模型保存的文件夹\n",
    "    if not  os.path.exists(\"./models\"):\n",
    "        os.makedirs(\"./models\")\n",
    "        \n",
    "    for epoch in range(num_epochs):\n",
    "        start = time.time()\n",
    "        print('\\nEpoch: {}/{}'.format(epoch + 1, num_epochs))\n",
    "        print('-' * 10)\n",
    "        for phase in ['train', 'test']:\n",
    "            if phase == 'train':\n",
    "                model.train()\n",
    "            else:\n",
    "                model.eval()\n",
    "            running_loss = 0.0\n",
    "            running_corrects = 0\n",
    "\n",
    "            for i, data in enumerate(dataloaders[phase], 0):\n",
    "                batch_img, batch_labels = data['image'], data['label']\n",
    "                optimizer.zero_grad()\n",
    "                with torch.set_grad_enabled(phase == 'train'):\n",
    "                    outputs = model(batch_img)\n",
    "                    preds = torch.argmax(outputs, dim=1)\n",
    "                    loss = criterion(outputs, batch_labels)\n",
    "                    \n",
    "                    #训练模式进行反向传播，更新参数\n",
    "                    if phase == 'train':\n",
    "                        loss.backward()\n",
    "                        optimizer.step()\n",
    "                        \n",
    "                running_loss += loss.item() * batch_img.size(0)\n",
    "                running_corrects += torch.sum(preds.float() == batch_labels.float())\n",
    "            end = time.time()\n",
    "            \n",
    "            epoch_loss = running_loss / dataset_sizes[phase]\n",
    "            epoch_acc = running_corrects.double() / dataset_sizes[phase]\n",
    "    \n",
    "            print('{} Loss: {:.4f} Acc: {:.4f}'.format(phase, epoch_loss, epoch_acc))\n",
    "            \n",
    "            #保存acc最佳的模型\n",
    "            if phase == 'test' and epoch_acc > best_acc:\n",
    "                best_acc = epoch_acc\n",
    "                torch.save(model, './models/mycnn.pth')\n",
    "            \n",
    "            if phase == 'test' and epoch_loss < best_loss:\n",
    "                best_loss = epoch_loss\n",
    "            \n",
    "            #保存训练过程loss与acc值\n",
    "            if phase == \"train\":\n",
    "                train_loss_list.append(epoch_loss)\n",
    "                train_acc_list.append(epoch_acc)\n",
    "            else:\n",
    "                test_loss_list.append(epoch_loss)\n",
    "                test_acc_list.append(epoch_acc)\n",
    "            \n",
    "        \n",
    "        \n",
    "        print('Training complete in {:.4f} mins'.format((end - start)/60))\n",
    "        print('Best val Loss: {:4f}\\n'.format(best_loss))\n",
    "        print('Best val acc: {:4f}\\n'.format(best_acc))\n",
    "    \n",
    "    \n",
    "    print(\"End Train......\\n\")\n",
    "    \n",
    "    #在全量运行时，保存训练集在训练过程中的loss和acc值，用于绘制loss和acc变化曲线图\n",
    "    for i in range(0, num_epochs, 1):\n",
    "        base.save_norm_by_step(model_name='train', norm_name='Loss',norm_value=np.float(train_loss_list[i]),step=i)\n",
    "        base.save_norm_by_step(model_name='train', norm_name='Accuracy',norm_value=np.float(train_acc_list[i]),step=i)\n",
    "    \n",
    "     #在全量运行时，保存测试集在训练过程中的loss与acc值，用于绘制loss和acc变化曲线图\n",
    "    for i in range(0, num_epochs, 1):\n",
    "        base.save_norm_by_step(model_name='test', norm_name='Loss',norm_value=np.float(test_loss_list[i]),step=i)\n",
    "        base.save_norm_by_step(model_name='test', norm_name='Accuracy',norm_value=np.float(test_acc_list[i]),step=i)\n",
    "        \n",
    "    #绘制验证集在训练过程中的loss曲线图\n",
    "    epoch = []  # 横坐标,迭代次数\n",
    "    for i in range(0, num_epochs, 1):\n",
    "        epoch.append(i)\n",
    "\n",
    "    plt.plot(epoch, train_loss_list)\n",
    "    # plt.plot([1,3,3,4], [1,4,9,16])\n",
    "    plt.ylabel('train loss')\n",
    "    plt.xlabel('train epoch')\n",
    "    plt.title(\" Curve of loss(crossentory) function of train set\")\n",
    "    plt.show()\n",
    "    \n",
    "    #绘制验证集在训练过程中的acc曲线图\n",
    "    epoch = []  # 横坐标,迭代次数\n",
    "    for i in range(0, num_epochs, 1):\n",
    "        epoch.append(i)\n",
    "\n",
    "    plt.plot(epoch, train_acc_list)\n",
    "    # plt.plot([1,3,3,4], [1,4,9,16])\n",
    "    plt.ylabel('train acc')\n",
    "    plt.xlabel('train epoch')\n",
    "    plt.title(\" Curve of Accuracy  function of train set\")\n",
    "    plt.show()"
   ]
  },
  {
   "cell_type": "code",
   "execution_count": 9,
   "metadata": {},
   "outputs": [],
   "source": [
    "def main():\n",
    "    #1.基本参数设置\n",
    "    learning_rate = 0.01  #学习率\n",
    "    epoch_num = 5         #学习迭代次数\n",
    "    \n",
    "    \n",
    "    #2.数据位置\n",
    "    train_root_path = './traindata/image_train/'\n",
    "    test_root_path = './testdata/image_test/'\n",
    "    \n",
    "    #3.类别与类别的字典表\n",
    "    label_dic = {\"flower\":0, \"plane\":1, \"starfish\":2, \"sun\":3}\n",
    "    \n",
    "    #4.数据预处理\n",
    "    train_transform =transforms.Compose(\n",
    "        [transforms.ToTensor(),\n",
    "        transforms.RandomHorizontalFlip(),\n",
    "        transforms.Resize([224,224]),\n",
    "        transforms.Normalize((0.5, 0.5, 0.5), (0.5, 0.5, 0.5))])\n",
    "     \n",
    "    test_transform =transforms.Compose(\n",
    "        [transforms.ToTensor(),\n",
    "        transforms.Resize([224,224]),\n",
    "        transforms.Normalize((0.5, 0.5, 0.5), (0.5, 0.5, 0.5))])\n",
    "    \n",
    "    #5.生成dataloader数据集\n",
    "    train_set = Corel5kDataset(label_dic=label_dic, root_path=train_root_path,transform=train_transform)\n",
    "    train_loader = DataLoader(train_set, batch_size=3, shuffle=True)\n",
    "    \n",
    "    test_set = Corel5kDataset(label_dic=label_dic, root_path=test_root_path,transform=test_transform)\n",
    "    test_loader = DataLoader(test_set, batch_size=1, shuffle=True)\n",
    "    \n",
    "    dataloaders = {'train': train_loader, 'test': test_loader}\n",
    "    dataset_sizes = {'train': len(train_set), 'test': len(test_set)}\n",
    "    print('train samples:{}张'.format(dataset_sizes[\"train\"]))\n",
    "    print('test samples:{}张'.format(dataset_sizes[\"test\"]))\n",
    "    \n",
    "    \n",
    "    \n",
    "    #6。定义模型、优化器、损失函数\n",
    "    model = Net()\n",
    "    optimizer = torch.optim.SGD(model.parameters(), lr=learning_rate, momentum=0.9, weight_decay=1e-4)\n",
    "    #optimizer = torch.optim.Adam(model.parameters(), lr=learning_rate, weight_decay=1e-4)\n",
    "    criterion = nn.CrossEntropyLoss()\n",
    "    \n",
    "    #7.开始训练模型\n",
    "    train_model(model, criterion, optimizer, num_epochs=epoch_num, dataloaders=dataloaders, dataset_sizes=dataset_sizes )"
   ]
  },
  {
   "cell_type": "code",
   "execution_count": 10,
   "metadata": {},
   "outputs": [
    {
     "name": "stdout",
     "output_type": "stream",
     "text": [
      "train samples:200张\n",
      "test samples:36张\n",
      "\n",
      "Start Train......\n",
      "\n",
      "Epoch: 1/5\n",
      "----------\n",
      "train Loss: 1.3220 Acc: 0.4000\n",
      "test Loss: 1.4628 Acc: 0.4444\n",
      "Training complete in 0.0605 mins\n",
      "Best val Loss: 1.462825\n",
      "\n",
      "Best val acc: 0.444444\n",
      "\n",
      "\n",
      "Epoch: 2/5\n",
      "----------\n",
      "train Loss: 1.3503 Acc: 0.2900\n",
      "test Loss: 1.3624 Acc: 0.3056\n",
      "Training complete in 0.0471 mins\n",
      "Best val Loss: 1.362354\n",
      "\n",
      "Best val acc: 0.444444\n",
      "\n",
      "\n",
      "Epoch: 3/5\n",
      "----------\n",
      "train Loss: 1.2698 Acc: 0.4850\n",
      "test Loss: 1.1300 Acc: 0.4722\n",
      "Training complete in 0.0738 mins\n",
      "Best val Loss: 1.129962\n",
      "\n",
      "Best val acc: 0.472222\n",
      "\n",
      "\n",
      "Epoch: 4/5\n",
      "----------\n",
      "train Loss: 1.2755 Acc: 0.4000\n",
      "test Loss: 0.9908 Acc: 0.6111\n",
      "Training complete in 0.0495 mins\n",
      "Best val Loss: 0.990757\n",
      "\n",
      "Best val acc: 0.611111\n",
      "\n",
      "\n",
      "Epoch: 5/5\n",
      "----------\n",
      "train Loss: 1.1481 Acc: 0.4550\n",
      "test Loss: 0.9456 Acc: 0.5278\n",
      "Training complete in 0.0647 mins\n",
      "Best val Loss: 0.945568\n",
      "\n",
      "Best val acc: 0.611111\n",
      "\n",
      "End Train......\n",
      "\n",
      "saving 【train】【step:0】 Loss : 1.3219946891069412\n",
      "saving 【train】【step:0】 Accuracy : 0.4\n",
      "saving 【train】【step:1】 Loss : 1.3503327503800393\n",
      "saving 【train】【step:1】 Accuracy : 0.29\n",
      "saving 【train】【step:2】 Loss : 1.2698139375448227\n",
      "saving 【train】【step:2】 Accuracy : 0.485\n",
      "saving 【train】【step:3】 Loss : 1.2755343817174434\n",
      "saving 【train】【step:3】 Accuracy : 0.4\n",
      "saving 【train】【step:4】 Loss : 1.1481269937753678\n",
      "saving 【train】【step:4】 Accuracy : 0.455\n",
      "saving 【train】【step:0】 Loss : 1.4628252635399501\n",
      "saving 【train】【step:0】 Accuracy : 0.4444444444444444\n",
      "saving 【train】【step:1】 Loss : 1.362353954050276\n",
      "saving 【train】【step:1】 Accuracy : 0.3055555555555556\n",
      "saving 【train】【step:2】 Loss : 1.129962483517981\n",
      "saving 【train】【step:2】 Accuracy : 0.4722222222222222\n",
      "saving 【train】【step:3】 Loss : 0.9907574311493792\n",
      "saving 【train】【step:3】 Accuracy : 0.6111111111111112\n",
      "saving 【train】【step:4】 Loss : 0.9455678672012355\n",
      "saving 【train】【step:4】 Accuracy : 0.5277777777777778\n"
     ]
    },
    {
     "data": {
      "image/png": "[encoded data removed]",
      "text/plain": [
       "<Figure size 432x288 with 1 Axes>"
      ]
     },
     "metadata": {
      "needs_background": "light"
     },
     "output_type": "display_data"
    },
    {
     "data": {
      "image/png": "[encoded data removed]",
      "text/plain": [
       "<Figure size 432x288 with 1 Axes>"
      ]
     },
     "metadata": {
      "needs_background": "light"
     },
     "output_type": "display_data"
    },
    {
     "name": "stdout",
     "output_type": "stream",
     "text": [
      "当前环境 [调试环境] 禁止上传到oss 文件系统 \n"
     ]
    }
   ],
   "source": [
    "if __name__ == '__main__':\n",
    "    #训练\n",
    "    main()\n",
    "    #模型申报审核\n",
    "    wfio.upload_to_oss(\"mycnn.pth\", \"./models/mycnn.pth\")  #将分类模型上传至 oss     "
   ]
  },
  {
   "cell_type": "code",
   "execution_count": null,
   "metadata": {},
   "outputs": [],
   "source": []
  }
 ],
 "metadata": {
  "kernelspec": {
   "display_name": "Python 3",
   "language": "python",
   "name": "python3"
  },
  "language_info": {
   "codemirror_mode": {
    "name": "ipython",
    "version": 3
   },
   "file_extension": ".py",
   "mimetype": "text/x-python",
   "name": "python",
   "nbconvert_exporter": "python",
   "pygments_lexer": "ipython3",
   "version": "3.7.10"
  }
 },
 "nbformat": 4,
 "nbformat_minor": 4
}