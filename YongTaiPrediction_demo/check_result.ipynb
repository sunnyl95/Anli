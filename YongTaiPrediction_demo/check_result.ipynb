{
 "cells": [
  {
   "cell_type": "markdown",
   "metadata": {},
   "source": [
    "# 模型预测"
   ]
  },
  {
   "cell_type": "code",
   "execution_count": 19,
   "metadata": {},
   "outputs": [],
   "source": [
    "#导入必要的包\n",
    "#计算与可视化\n",
    "import numpy as np \n",
    "import pandas as pd \n",
    "import matplotlib.pyplot as plt\n",
    "import seaborn as sns\n",
    "\n",
    "#评估指标、编码与模型\n",
    "from  sklearn.metrics import accuracy_score,  auc, confusion_matrix, roc_auc_score, classification_report,cohen_kappa_score\n",
    "from sklearn.preprocessing import OneHotEncoder\n",
    "from sklearn.preprocessing import LabelEncoder\n",
    "from sklearn.ensemble import RandomForestClassifier\n",
    "from sklearn.linear_model import LogisticRegression\n",
    "from xgboost import XGBClassifier\n",
    "import xgboost as xgb\n",
    "from scipy.optimize import fmin_powell\n",
    "#from ml_metrics import quadratic_weighted_kappa\n",
    "\n",
    "#from wf_analyse.analyse import base\n",
    "import pickle"
   ]
  },
  {
   "cell_type": "markdown",
   "metadata": {},
   "source": [
    "## 加载数据"
   ]
  },
  {
   "cell_type": "code",
   "execution_count": 30,
   "metadata": {},
   "outputs": [],
   "source": [
    "# 导入数据集 insurance-test-sample\n",
    " \n",
    "import wfio\n",
    "_INPUT = '{\"type\":15,\"uri\":\"awss3fcd548f44cdd456991721d04d43ec5ad/sd_911a1dde7776496b9c2dd78f6fa00e52\"}'\n",
    " \n",
    "# 读取并返回对应的Dataframe\n",
    "# 参数as_spark: 为True返回Spark DataFrame，为False返回Pandas DataFrame，默认为False \n",
    "test = wfio.read_dataframe(_INPUT,as_spark = False)"
   ]
  },
  {
   "cell_type": "code",
   "execution_count": 46,
   "metadata": {},
   "outputs": [],
   "source": [
    "test = test[:10]"
   ]
  },
  {
   "cell_type": "code",
   "execution_count": 32,
   "metadata": {},
   "outputs": [],
   "source": [
    "def to_lower(str):\n",
    "    return str.lower()\n",
    "test.columns = list(map(to_lower,list(test.columns)))"
   ]
  },
  {
   "cell_type": "code",
   "execution_count": 33,
   "metadata": {},
   "outputs": [],
   "source": [
    "test.drop([\"name\", \"email\",\"mobile_number\",\"sex\",\"id_card\", \"addr\"], axis=1, inplace = True)"
   ]
  },
  {
   "cell_type": "code",
   "execution_count": 34,
   "metadata": {},
   "outputs": [],
   "source": [
    "def eval_wrapper(yhat, y):  \n",
    "    y = np.array(y)\n",
    "    y = y.astype(int)\n",
    "    yhat = np.array(yhat)\n",
    "    yhat = np.clip(np.round(yhat), np.min(y), np.max(y)).astype(int)   \n",
    "    return cohen_kappa_score(yhat, y, weights= 'quadratic')\n",
    "    \n",
    "    \n",
    "def apply_offset(data, bin_offset, sv, scorer=eval_wrapper):\n",
    "    # data has the format of pred=0, offset_pred=1, labels=2 in the first dim\n",
    "    #data[0] = data[1]是预测值， data[2]是真实标签值\n",
    "    #sv是是类别编号sv = 0(1, 2, 3, 4, 5, 6, 7)\n",
    "    #把预测值等于sv这一类的样本预测值取出来 + bin_offset偏移量 作为新的预测值\n",
    "    data[1, data[0].astype(int)==sv] = data[0, data[0].astype(int)==sv] + bin_offset\n",
    "    score = scorer(data[1], data[2])\n",
    "    return score\n",
    "\n",
    "def new_target3(row):\n",
    "    if (row['BMI_Wt']=='under_weight') or (row['Old_Young']=='young')  or (row['Thin_Fat']=='thin'):\n",
    "        val='low_end'\n",
    "    else:\n",
    "        val='non_low_end'\n",
    "    return val\n",
    "\n",
    "\n",
    "def new_target1(row):\n",
    "    if (row['BMI_Wt']=='overweight') or (row['Old_Young']=='old')  or (row['Thin_Fat']=='fat'):\n",
    "        val='extremely_risky'\n",
    "    else:\n",
    "        val='not_extremely_risky'\n",
    "    return val\n",
    "\n",
    "def acc(y, yhat):  \n",
    "    y = np.array(y)\n",
    "    y = y.astype(int)\n",
    "    yhat = np.array(yhat)\n",
    "    yhat = np.clip(np.round(yhat), np.min(y), np.max(y)).astype(int)   \n",
    "    return accuracy_score(y, yhat)"
   ]
  },
  {
   "cell_type": "code",
   "execution_count": 35,
   "metadata": {},
   "outputs": [],
   "source": [
    "# 全局变量\n",
    "columns_to_drop = ['response']\n",
    "xgb_num_rounds = 700\n",
    "num_classes = 8"
   ]
  },
  {
   "cell_type": "code",
   "execution_count": 36,
   "metadata": {},
   "outputs": [],
   "source": [
    "test_label = test[\"response\"].copy()\n",
    "# 将训练集与测试集拼接，并于统一特征处理\n",
    "all_data = test"
   ]
  },
  {
   "cell_type": "markdown",
   "metadata": {},
   "source": [
    "## 数据预处理"
   ]
  },
  {
   "cell_type": "code",
   "execution_count": 37,
   "metadata": {},
   "outputs": [
    {
     "name": "stdout",
     "output_type": "stream",
     "text": [
      "Eliminate missing values\n"
     ]
    }
   ],
   "source": [
    "# 创建新特征 \n",
    "# 特征编码\n",
    "all_data['product_info_2'] = pd.factorize(all_data['product_info_2'])[0]\n",
    "\n",
    "print('Eliminate missing values')    \n",
    "# 空值填充-1\n",
    "all_data.fillna(-1, inplace=True)\n",
    "\n",
    "# 将label转为int值\n",
    "all_data['response'] = all_data['response'].astype(int)"
   ]
  },
  {
   "cell_type": "code",
   "execution_count": 38,
   "metadata": {},
   "outputs": [],
   "source": [
    "# BMI离散化处理\n",
    "conditions = [\n",
    "    (all_data['bmi'] <= all_data['bmi'].quantile(0.25)),\n",
    "    (all_data['bmi'] > all_data['bmi'].quantile(0.25)) & (all_data['bmi'] <= all_data['bmi'].quantile(0.75)),\n",
    "    (all_data['bmi'] > all_data['bmi'].quantile(0.75))]\n",
    "\n",
    "choices = ['under_weight', 'average', 'overweight']\n",
    "\n",
    "all_data['BMI_Wt'] = np.select(conditions, choices)\n",
    "\n",
    "# 年龄离散化处理\n",
    "conditions = [\n",
    "    (all_data['ins_age'] <= all_data['ins_age'].quantile(0.25)),\n",
    "    (all_data['ins_age'] > all_data['ins_age'].quantile(0.25)) & (all_data['ins_age'] <= all_data['ins_age'].quantile(0.75)),\n",
    "    (all_data['ins_age'] > all_data['ins_age'].quantile(0.75))]\n",
    "\n",
    "choices = ['young', 'average', 'old']\n",
    "all_data['Old_Young'] = np.select(conditions, choices)\n",
    "\n",
    "# 身份离散化处理\n",
    "conditions = [\n",
    "    (all_data['ht'] <= all_data['ht'].quantile(0.25)),\n",
    "    (all_data['ht'] > all_data['ht'].quantile(0.25)) & (all_data['ht'] <= all_data['ht'].quantile(0.75)),\n",
    "    (all_data['ht'] > all_data['ht'].quantile(0.75))]\n",
    "\n",
    "choices = ['short', 'average', 'tall']\n",
    "\n",
    "all_data['Short_Tall'] = np.select(conditions, choices)\n",
    "\n",
    "# 体重离散化处理\n",
    "conditions = [\n",
    "    (all_data['wt'] <= all_data['wt'].quantile(0.25)),\n",
    "    (all_data['wt'] > all_data['wt'].quantile(0.25)) & (all_data['wt'] <= all_data['wt'].quantile(0.75)),\n",
    "    (all_data['wt'] > all_data['wt'].quantile(0.75))]\n",
    "\n",
    "choices = ['thin', 'average', 'fat']\n",
    "\n",
    "all_data['Thin_Fat'] = np.select(conditions, choices)"
   ]
  },
  {
   "cell_type": "code",
   "execution_count": 39,
   "metadata": {},
   "outputs": [],
   "source": [
    "##创建新特征\n",
    "all_data['extreme_risk'] = all_data.apply(new_target1,axis=1)\n",
    "#创建新特征\n",
    "all_data['low_end_risk'] = all_data.apply(new_target3,axis=1)"
   ]
  },
  {
   "cell_type": "code",
   "execution_count": 40,
   "metadata": {},
   "outputs": [],
   "source": [
    "all_data['BMI_Wt'] = pd.factorize(all_data['BMI_Wt'])[0]\n",
    "all_data['Old_Young'] = pd.factorize(all_data['Old_Young'])[0]\n",
    "all_data['Short_Tall'] = pd.factorize(all_data['Short_Tall'])[0]\n",
    "all_data['Thin_Fat'] = pd.factorize(all_data['Thin_Fat'])[0]\n",
    "all_data['extreme_risk'] = pd.factorize(all_data['extreme_risk'])[0]\n",
    "all_data['low_end_risk'] = pd.factorize(all_data['low_end_risk'])[0]"
   ]
  },
  {
   "cell_type": "code",
   "execution_count": 41,
   "metadata": {},
   "outputs": [],
   "source": [
    "all_data.drop([\"BMI_Wt\", \"Short_Tall\",\"Thin_Fat\",\"Old_Young\", \"empty_name\"], axis=1, inplace = True)"
   ]
  },
  {
   "cell_type": "code",
   "execution_count": 42,
   "metadata": {},
   "outputs": [],
   "source": [
    "# 转成xgb格式\n",
    "xgtest = xgb.DMatrix(all_data.drop(columns_to_drop, axis=1))"
   ]
  },
  {
   "cell_type": "markdown",
   "metadata": {},
   "source": [
    "## 加载模型，进行预测"
   ]
  },
  {
   "cell_type": "code",
   "execution_count": 43,
   "metadata": {},
   "outputs": [
    {
     "name": "stdout",
     "output_type": "stream",
     "text": [
      "[15:19:25] WARNING: /workspace/src/objective/regression_obj.cu:167: reg:linear is now deprecated in favor of reg:squarederror.\n"
     ]
    }
   ],
   "source": [
    "model = pickle.load(open(\"/home/nbuser/work_e9695a8d7ac541d7a70a0060c591183e/model/xgboost.model\", \"rb\"))"
   ]
  },
  {
   "cell_type": "code",
   "execution_count": 44,
   "metadata": {},
   "outputs": [],
   "source": [
    "test_preds = model.predict(xgtest, ntree_limit=model.best_iteration)\n",
    "#print('Test kappa score is:', eval_wrapper( test_preds, test_label))"
   ]
  },
  {
   "cell_type": "code",
   "execution_count": 48,
   "metadata": {},
   "outputs": [
    {
     "name": "stdout",
     "output_type": "stream",
     "text": [
      "10 samples's prediction results: [5 1 1 6 6 8 7 8 8 8]\n"
     ]
    }
   ],
   "source": [
    "test_preds = np.clip(test_preds, -0.99, 8.99)\n",
    "\n",
    "# 设置偏移量，并使用fmin_powell寻找最佳值\n",
    "offsets = pickle.load(open(\"/home/nbuser/work_e9695a8d7ac541d7a70a0060c591183e/model/final_offset.list\", \"rb\"))\n",
    "\n",
    "# 将在训练集上的偏移量应用在测试集上\n",
    "data = np.vstack((test_preds, test_preds, test['response'].values))\n",
    "for j in range(num_classes):\n",
    "    data[1, data[0].astype(int)==j] = data[0, data[0].astype(int)==j] + offsets[j] \n",
    "\n",
    "final_test_preds = np.round(np.clip(data[1], 1, 8)).astype(int)\n",
    "print(\"10 samples's prediction results:\", final_test_preds)"
   ]
  },
  {
   "cell_type": "code",
   "execution_count": null,
   "metadata": {},
   "outputs": [],
   "source": []
  },
  {
   "cell_type": "code",
   "execution_count": null,
   "metadata": {},
   "outputs": [],
   "source": []
  }
 ],
 "metadata": {
  "kernelspec": {
   "display_name": "Python 3",
   "language": "python",
   "name": "python3"
  },
  "language_info": {
   "codemirror_mode": {
    "name": "ipython",
    "version": 3
   },
   "file_extension": ".py",
   "mimetype": "text/x-python",
   "name": "python",
   "nbconvert_exporter": "python",
   "pygments_lexer": "ipython3",
   "version": "3.7.8"
  },
  "toc": {
   "base_numbering": 1,
   "nav_menu": {},
   "number_sections": true,
   "sideBar": true,
   "skip_h1_title": false,
   "title_cell": "Table of Contents",
   "title_sidebar": "Contents",
   "toc_cell": false,
   "toc_position": {},
   "toc_section_display": true,
   "toc_window_display": false
  }
 },
 "nbformat": 4,
 "nbformat_minor": 4
}