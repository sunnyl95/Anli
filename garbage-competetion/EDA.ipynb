{
 "cells": [
  {
   "cell_type": "markdown",
   "metadata": {},
   "source": [
    "\n",
    "**<font size=3>导入平台数据集</font>**\n",
    "\n",
    "**数据集插件 -> 添加数据集 -> 数据集列表 -> 插入代码**\n",
    "\n",
    "导入平台数据集并调试好代码后，点击代码编辑区的【运行全量】按钮，查看在全量数据的运行结果，全量数据运行结果的调用方式可参考：[《用户手册-全量运行代码调用》](/#/user-manual/experiment/experiment-debug)\n",
    "\n",
    "全量运行之后，获取全量运行结果的主要流程：\n",
    "**上传模型文件 -> 申报审核文件 -> 审核通过 ->下载文件**\n",
    "\n",
    "上传模型文件接口示例：\n",
    "\n",
    "```python\n",
    "import wfio\n",
    "wfio.upload_to_oss(server_path,local_path) \n",
    "#server_path是上传到服务器的文件名称，可以自定义\n",
    "#local_path是本地上传的文件路径, 必须是本地已经存在的文件路径。\n",
    "```\n"
   ]
  },
  {
   "cell_type": "code",
   "execution_count": 64,
   "metadata": {},
   "outputs": [
    {
     "name": "stdout",
     "output_type": "stream",
     "text": [
      "Downloading 1000 files...\n",
      "Downloading 1000 files...\n",
      "Downloading 501 files...\n",
      "All files download completed\n"
     ]
    }
   ],
   "source": [
    "#导入数据集image-train-sample\n",
    "#测试数据集将下载到当前目录下的\"./testdata\"文件夹下，如需改变目录名称请自行修改\n",
    "import wfio\n",
    "_INPUT = '{\"type\":25,\"uri\":\"awss33ead09ff7f3b4555808852ce782a8afc:/\"}'\n",
    "dir_name = './testdata'\n",
    "marker = \"\" # 下一次分页查询的开始标识\n",
    "while True:\n",
    "   ret = wfio.listdir(_INPUT, marker=marker)  \n",
    "   print(\"Downloading {0} files...\".format(len(ret[\"file_list\"])))\n",
    "   wfio.download(\n",
    "       _INPUT,\n",
    "       local_path=\"traindata\",                 # 文件下载保存的目录，为None则表示下载到当前目录\n",
    "       selected_files=ret[\"file_list\"], # 下载的文件名称列表，至少指定一个文件名称\n",
    "       overwrite=False                  # 是否覆盖同名文件\n",
    "   )\n",
    "   if not ret[\"has_more\"]:              # 判断是否有更多文件, has_more字段不能修改\n",
    "       print(\"All files download completed\")\n",
    "       break\n",
    "   marker = ret[\"next_marker\"]          # 下一次分页查询的开始标识"
   ]
  },
  {
   "cell_type": "code",
   "execution_count": 11,
   "metadata": {},
   "outputs": [],
   "source": [
    "import os\n",
    "from PIL import Image\n",
    "import pandas as pd\n",
    "from matplotlib import pyplot as plt"
   ]
  },
  {
   "cell_type": "code",
   "execution_count": 12,
   "metadata": {},
   "outputs": [],
   "source": [
    "def drawBar(dict):\n",
    "    plt.figure(figsize=(20,6))\n",
    "    plt.bar(range(len(dict.keys())), [value for value in dict.values()], align='center',yerr=0.000001, )\n",
    "\n",
    "    plt.xticks(range(len(dict.keys())), [key for key in dict.keys()])\n",
    "\n",
    "    #设置横坐标轴的标签说明\n",
    "    plt.xlabel('w/h ratio')\n",
    "    #设置纵坐标轴的标签说明\n",
    "    plt.ylabel('Frequency')\n",
    "    #设置标题\n",
    "    plt.title('w/h ratio distribution')\n",
    "    #绘图\n",
    "    plt.show()"
   ]
  },
  {
   "cell_type": "markdown",
   "metadata": {},
   "source": [
    "## 统计类别分布比例"
   ]
  },
  {
   "cell_type": "code",
   "execution_count": 16,
   "metadata": {},
   "outputs": [],
   "source": [
    "root_path = \"/home/nbuser/work_2347b8d076f44f16a78f622099a9b1e8/traindata/train/labels\""
   ]
  },
  {
   "cell_type": "code",
   "execution_count": 17,
   "metadata": {},
   "outputs": [],
   "source": [
    "classes_dict = {\n",
    "    \"0\": \"其他垃圾/一次性快餐盒\",\n",
    "    \"1\": \"其他垃圾/污损塑料\",\n",
    "    \"2\": \"其他垃圾/烟蒂\",\n",
    "    \"3\": \"其他垃圾/牙签\",\n",
    "    \"4\": \"其他垃圾/破碎花盆及碟碗\",\n",
    "    \"5\": \"其他垃圾/竹筷\",\n",
    "    \"6\": \"厨余垃圾/剩饭剩菜\",\n",
    "    \"7\": \"厨余垃圾/大骨头\",\n",
    "    \"8\": \"厨余垃圾/水果果皮\",\n",
    "    \"9\": \"厨余垃圾/水果果肉\",\n",
    "    \"10\": \"厨余垃圾/茶叶渣\",\n",
    "    \"11\": \"厨余垃圾/菜叶菜根\",\n",
    "    \"12\": \"厨余垃圾/蛋壳\",\n",
    "    \"13\": \"厨余垃圾/鱼骨\",\n",
    "    \"14\": \"可回收物/充电宝\",\n",
    "    \"15\": \"可回收物/包\",\n",
    "    \"16\": \"可回收物/化妆品瓶\",\n",
    "    \"17\": \"可回收物/塑料玩具\",\n",
    "    \"18\": \"可回收物/塑料碗盆\",\n",
    "    \"19\": \"可回收物/塑料衣架\",\n",
    "    \"20\": \"可回收物/快递纸袋\",\n",
    "    \"21\": \"可回收物/插头电线\",\n",
    "    \"22\": \"可回收物/旧衣服\",\n",
    "    \"23\": \"可回收物/易拉罐\",\n",
    "    \"24\": \"可回收物/枕头\",\n",
    "    \"25\": \"可回收物/毛绒玩具\",\n",
    "    \"26\": \"可回收物/洗发水瓶\",\n",
    "    \"27\": \"可回收物/玻璃杯\",\n",
    "    \"28\": \"可回收物/皮鞋\",\n",
    "    \"29\": \"可回收物/砧板\",\n",
    "    \"30\": \"可回收物/纸板箱\",\n",
    "    \"31\": \"可回收物/调料瓶\",\n",
    "    \"32\": \"可回收物/酒瓶\",\n",
    "    \"33\": \"可回收物/金属食品罐\",\n",
    "    \"34\": \"可回收物/锅\",\n",
    "    \"35\": \"可回收物/食用油桶\",\n",
    "    \"36\": \"可回收物/饮料瓶\",\n",
    "    \"37\": \"有害垃圾/干电池\",\n",
    "    \"38\": \"有害垃圾/软膏\",\n",
    "    \"39\": \"有害垃圾/过期药物\"\n",
    "}\n",
    "label_num = {str(x):0 for x in range(40)}   #0.1间隔进行统计z  \n",
    "for file in os.listdir(root_path):\n",
    "    label_path = os.path.join(root_path, file)\n",
    "    with open(label_path, \"r\") as f:\n",
    "        label = f.read().split(\",\")[-1][1:]\n",
    "        label_num[label] += 1\n"
   ]
  },
  {
   "cell_type": "code",
   "execution_count": 18,
   "metadata": {},
   "outputs": [
    {
     "data": {
      "image/png": "[encoded data removed]",
      "text/plain": [
       "<Figure size 1440x432 with 1 Axes>"
      ]
     },
     "metadata": {
      "needs_background": "light"
     },
     "output_type": "display_data"
    }
   ],
   "source": [
    "drawBar(label_num)"
   ]
  },
  {
   "cell_type": "markdown",
   "metadata": {},
   "source": [
    "### 结论：\n",
    " `\"17\": \"可回收物/塑料玩具\"这一类数据最多，其他类别的数据较为均`<p>\n",
    "{\n",
    "    \"0\": \"其他垃圾/一次性快餐盒\",\n",
    "    \"1\": \"其他垃圾/污损塑料\",\n",
    "    \"2\": \"其他垃圾/烟蒂\",\n",
    "    \"3\": \"其他垃圾/牙签\",\n",
    "    \"4\": \"其他垃圾/破碎花盆及碟碗\",\n",
    "    \"5\": \"其他垃圾/竹筷\",\n",
    "    \"6\": \"厨余垃圾/剩饭剩菜\",\n",
    "    \"7\": \"厨余垃圾/大骨头\",\n",
    "    \"8\": \"厨余垃圾/水果果皮\",\n",
    "    \"9\": \"厨余垃圾/水果果肉\",\n",
    "    \"10\": \"厨余垃圾/茶叶渣\",\n",
    "    \"11\": \"厨余垃圾/菜叶菜根\",\n",
    "    \"12\": \"厨余垃圾/蛋壳\",\n",
    "    \"13\": \"厨余垃圾/鱼骨\",\n",
    "    \"14\": \"可回收物/充电宝\",\n",
    "    \"15\": \"可回收物/包\",\n",
    "    \"16\": \"可回收物/化妆品瓶\",\n",
    "    \"17\": \"可回收物/塑料玩具\",\n",
    "    \"18\": \"可回收物/塑料碗盆\",\n",
    "    \"19\": \"可回收物/塑料衣架\",\n",
    "    \"20\": \"可回收物/快递纸袋\",\n",
    "    \"21\": \"可回收物/插头电线\",\n",
    "    \"22\": \"可回收物/旧衣服\",\n",
    "    \"23\": \"可回收物/易拉罐\",\n",
    "    \"24\": \"可回收物/枕头\",\n",
    "    \"25\": \"可回收物/毛绒玩具\",\n",
    "    \"26\": \"可回收物/洗发水瓶\",\n",
    "    \"27\": \"可回收物/玻璃杯\",\n",
    "    \"28\": \"可回收物/皮鞋\",\n",
    "    \"29\": \"可回收物/砧板\",\n",
    "    \"30\": \"可回收物/纸板箱\",\n",
    "    \"31\": \"可回收物/调料瓶\",\n",
    "    \"32\": \"可回收物/酒瓶\",\n",
    "    \"33\": \"可回收物/金属食品罐\",\n",
    "    \"34\": \"可回收物/锅\",\n",
    "    \"35\": \"可回收物/食用油桶\",\n",
    "    \"36\": \"可回收物/饮料瓶\",\n",
    "    \"37\": \"有害垃圾/干电池\",\n",
    "    \"38\": \"有害垃圾/软膏\",\n",
    "    \"39\": \"有害垃圾/过期药物\"\n",
    "}\n",
    "\n"
   ]
  },
  {
   "cell_type": "markdown",
   "metadata": {},
   "source": [
    "## 统计图片的长宽比例"
   ]
  },
  {
   "cell_type": "code",
   "execution_count": 7,
   "metadata": {},
   "outputs": [],
   "source": [
    "#get h/w 比值\n",
    "root_path = \"/home/nbuser/work_2347b8d076f44f16a78f622099a9b1e8/testdata/test/images\"\n",
    "w_h = []\n",
    "for root, dirs, files in os.walk(root_path):\n",
    "    for file in files:\n",
    "        img_path = os.path.join(root, file)\n",
    "        image = Image.open(img_path)\n",
    "        #image.show()\n",
    "        width, height = image.size\n",
    "        if height!= 0:\n",
    "            w_h.append(width/height)\n",
    "        else:\n",
    "            print(\"the image:{} is null!\").formate(image_path)"
   ]
  },
  {
   "cell_type": "code",
   "execution_count": 8,
   "metadata": {},
   "outputs": [
    {
     "data": {
      "text/plain": [
       "{'0.6-0.7': 25,\n",
       " '0.7-0.8': 148,\n",
       " '0.8-0.9': 68,\n",
       " '0.9-1.0': 43,\n",
       " '1.0-1.1': 55,\n",
       " '1.1-1.2': 55,\n",
       " '1.2-1.3': 57,\n",
       " '1.3-1.4': 171,\n",
       " '1.4-1.5': 85,\n",
       " '1.5-1.6': 107,\n",
       " '1.6-1.7': 46,\n",
       " '1.7-1.8': 48,\n",
       " '1.8-1.9': 15,\n",
       " '1.9-2.0': 6}"
      ]
     },
     "execution_count": 8,
     "metadata": {},
     "output_type": "execute_result"
    }
   ],
   "source": [
    "#分段统计\n",
    "intervals = {'{}-{}'.format(round(0.1*x+0.6,1),round(0.1*x+0.7,1)):0 for x in range(14)}   #0.1间隔进行统计z  \n",
    "for data in w_h:\n",
    "    for interval in intervals:\n",
    "        start, end = tuple(interval.split('-'))\n",
    "        if data>float(start) and data<float(end):\n",
    "            intervals[interval] +=1\n",
    "\n",
    "intervals"
   ]
  },
  {
   "cell_type": "code",
   "execution_count": 9,
   "metadata": {},
   "outputs": [
    {
     "data": {
      "image/png": "[encoded data removed]",
      "text/plain": [
       "<Figure size 1440x432 with 1 Axes>"
      ]
     },
     "metadata": {
      "needs_background": "light"
     },
     "output_type": "display_data"
    }
   ],
   "source": [
    "drawBar(intervals)"
   ]
  },
  {
   "cell_type": "markdown",
   "metadata": {},
   "source": [
    "### 结论：width / height的比例集中在1附近，因此后期模型尺寸调整的长宽比例为1:1"
   ]
  },
  {
   "cell_type": "code",
   "execution_count": null,
   "metadata": {},
   "outputs": [],
   "source": []
  },
  {
   "cell_type": "code",
   "execution_count": null,
   "metadata": {},
   "outputs": [],
   "source": []
  },
  {
   "cell_type": "code",
   "execution_count": null,
   "metadata": {},
   "outputs": [],
   "source": []
  },
  {
   "cell_type": "code",
   "execution_count": null,
   "metadata": {},
   "outputs": [],
   "source": []
  },
  {
   "cell_type": "code",
   "execution_count": 10,
   "metadata": {},
   "outputs": [
    {
     "name": "stdout",
     "output_type": "stream",
     "text": [
      "Downloading 1000 files...\n",
      "Downloading 212 files...\n",
      "All files download completed\n"
     ]
    }
   ],
   "source": [
    "#导入数据集garbage-test-firsttype-sample\n",
    "#测试数据集将下载到当前目录下的\"./testdata\"文件夹下，如需改变目录名称请自行修改\n",
    "import wfio\n",
    "_INPUT = '{\"type\":25,\"uri\":\"awss30bbafb292bd54a0199df613e8d289d42:/\"}'\n",
    "dir_name = './testdata'\n",
    "marker = \"\" # 下一次分页查询的开始标识\n",
    "while True:\n",
    "   ret = wfio.listdir(_INPUT, marker=marker)  \n",
    "   print(\"Downloading {0} files...\".format(len(ret[\"file_list\"])))\n",
    "   wfio.download(\n",
    "       _INPUT,\n",
    "       local_path=\"first_type_train\",                 # 文件下载保存的目录，为None则表示下载到当前目录\n",
    "       selected_files=ret[\"file_list\"], # 下载的文件名称列表，至少指定一个文件名称\n",
    "       overwrite=False                  # 是否覆盖同名文件\n",
    "   )\n",
    "   if not ret[\"has_more\"]:              # 判断是否有更多文件, has_more字段不能修改\n",
    "       print(\"All files download completed\")\n",
    "       break\n",
    "   marker = ret[\"next_marker\"]          # 下一次分页查询的开始标识"
   ]
  },
  {
   "cell_type": "code",
   "execution_count": 20,
   "metadata": {},
   "outputs": [],
   "source": [
    "root_path = \"/home/nbuser/work_2347b8d076f44f16a78f622099a9b1e8/first_type_train/test\""
   ]
  },
  {
   "cell_type": "code",
   "execution_count": 28,
   "metadata": {},
   "outputs": [],
   "source": [
    "classes_dict = {\n",
    "    \"0\": \"其他垃圾/一次性快餐盒\",\n",
    "    \"1\": \"其他垃圾/污损塑料\",\n",
    "    \"2\": \"其他垃圾/烟蒂\",\n",
    "    \"3\": \"其他垃圾/牙签\",\n",
    "    \"4\": \"其他垃圾/破碎花盆及碟碗\",\n",
    "    \"5\": \"其他垃圾/竹筷\",\n",
    "    \"6\": \"厨余垃圾/剩饭剩菜\",\n",
    "    \"7\": \"厨余垃圾/大骨头\",\n",
    "    \"8\": \"厨余垃圾/水果果皮\",\n",
    "    \"9\": \"厨余垃圾/水果果肉\",\n",
    "    \"10\": \"厨余垃圾/茶叶渣\",\n",
    "    \"11\": \"厨余垃圾/菜叶菜根\",\n",
    "    \"12\": \"厨余垃圾/蛋壳\",\n",
    "    \"13\": \"厨余垃圾/鱼骨\",\n",
    "    \"14\": \"可回收物/充电宝\",\n",
    "    \"15\": \"可回收物/包\",\n",
    "    \"16\": \"可回收物/化妆品瓶\",\n",
    "    \"17\": \"可回收物/塑料玩具\",\n",
    "    \"18\": \"可回收物/塑料碗盆\",\n",
    "    \"19\": \"可回收物/塑料衣架\",\n",
    "    \"20\": \"可回收物/快递纸袋\",\n",
    "    \"21\": \"可回收物/插头电线\",\n",
    "    \"22\": \"可回收物/旧衣服\",\n",
    "    \"23\": \"可回收物/易拉罐\",\n",
    "    \"24\": \"可回收物/枕头\",\n",
    "    \"25\": \"可回收物/毛绒玩具\",\n",
    "    \"26\": \"可回收物/洗发水瓶\",\n",
    "    \"27\": \"可回收物/玻璃杯\",\n",
    "    \"28\": \"可回收物/皮鞋\",\n",
    "    \"29\": \"可回收物/砧板\",\n",
    "    \"30\": \"可回收物/纸板箱\",\n",
    "    \"31\": \"可回收物/调料瓶\",\n",
    "    \"32\": \"可回收物/酒瓶\",\n",
    "    \"33\": \"可回收物/金属食品罐\",\n",
    "    \"34\": \"可回收物/锅\",\n",
    "    \"35\": \"可回收物/食用油桶\",\n",
    "    \"36\": \"可回收物/饮料瓶\",\n",
    "    \"37\": \"有害垃圾/干电池\",\n",
    "    \"38\": \"有害垃圾/软膏\",\n",
    "    \"39\": \"有害垃圾/过期药物\"\n",
    "}\n",
    "label_num = {str(x):0 for x in range(40)}   #0.1间隔进行统计z  \n",
    "for file in os.listdir(root_path):\n",
    "    label_num[file]  = len(os.listdir(os.path.join(root_path, file)))"
   ]
  },
  {
   "cell_type": "code",
   "execution_count": 30,
   "metadata": {},
   "outputs": [
    {
     "data": {
      "image/png": "[encoded data removed]",
      "text/plain": [
       "<Figure size 1440x432 with 1 Axes>"
      ]
     },
     "metadata": {
      "needs_background": "light"
     },
     "output_type": "display_data"
    }
   ],
   "source": [
    "drawBar(label_num)"
   ]
  },
  {
   "cell_type": "code",
   "execution_count": null,
   "metadata": {},
   "outputs": [],
   "source": []
  }
 ],
 "metadata": {
  "kernelspec": {
   "display_name": "Python 3",
   "language": "python",
   "name": "python3"
  },
  "language_info": {
   "codemirror_mode": {
    "name": "ipython",
    "version": 3
   },
   "file_extension": ".py",
   "mimetype": "text/x-python",
   "name": "python",
   "nbconvert_exporter": "python",
   "pygments_lexer": "ipython3",
   "version": "3.7.10"
  }
 },
 "nbformat": 4,
 "nbformat_minor": 4
}