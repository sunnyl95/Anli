{
 "cells": [
  {
   "cell_type": "code",
   "execution_count": 44,
   "metadata": {
    "tags": [
     "parameters"
    ]
   },
   "outputs": [],
   "source": [
    "# 输入数据的参数\n",
    "_INPUT1='{\"name\":\"input1\",\"type\":0,\"uri\":\"tmp_be7bcb091e7c4ac4908d22ad0e5fea3c\"}'\n",
    "_INPUT2='{\"name\":\"input2\",\"type\":0,\"uri\":\"tmp_8366cfda4a2e4c7299ad76bd6b7dea88\"}'\n",
    "_INPUT3='{\"name\":\"input3\",\"type\":0,\"uri\":\"tmp_c88b437bd7c142e2b69d607adf50e28a\"}'\n",
    "_INPUT4='{\"name\":\"input4\",\"type\":0,\"uri\":\"tmp_b2f76de551d94edfa6d3c4dae75612c6\"}'\n",
    "\n",
    "# 输出数据的参数\n",
    "_OUTPUT='[{\"name\":\"output1\",\"type\":0,\"uri\":\"tmp_731598a71f59446d815e84480ed484b3\"},{\"name\":\"output2\",\"type\":0,\"uri\":\"tmp_f9338c98758945a6bc1df3c1bd2a047c\"},{\"name\":\"output3\",\"type\":0,\"uri\":\"tmp_15ee0ada57f84c9e8ec312a956593af1\"},{\"name\":\"output4\",\"type\":0,\"uri\":\"tmp_27499c3211b0441199059a1b50801718\"}]'\n",
    "\n",
    "# 自定义参数\n"
   ]
  },
  {
   "cell_type": "code",
   "execution_count": 45,
   "metadata": {},
   "outputs": [
    {
     "name": "stdout",
     "output_type": "stream",
     "text": [
      "Looking in indexes: http://mirrors.aliyun.com/pypi/simple\n",
      "Requirement already satisfied: lightgbm==2.2.3 in /opt/conda/lib/python3.7/site-packages (2.2.3)\n",
      "Requirement already satisfied: numpy in /opt/conda/lib/python3.7/site-packages (from lightgbm==2.2.3) (1.16.4)\n",
      "Requirement already satisfied: scikit-learn in /opt/conda/lib/python3.7/site-packages (from lightgbm==2.2.3) (0.21.2)\n",
      "Requirement already satisfied: scipy in /opt/conda/lib/python3.7/site-packages (from lightgbm==2.2.3) (1.3.0)\n",
      "Requirement already satisfied: joblib>=0.11 in /opt/conda/lib/python3.7/site-packages (from scikit-learn->lightgbm==2.2.3) (0.13.2)\n",
      "Looking in indexes: http://mirrors.aliyun.com/pypi/simple\n",
      "Requirement already satisfied: xgboost in /opt/conda/lib/python3.7/site-packages (0.90)\n",
      "Requirement already satisfied: numpy in /opt/conda/lib/python3.7/site-packages (from xgboost) (1.16.4)\n",
      "Requirement already satisfied: scipy in /opt/conda/lib/python3.7/site-packages (from xgboost) (1.3.0)\n"
     ]
    }
   ],
   "source": [
    "!pip install lightgbm==2.2.3\n",
    "!pip install xgboost"
   ]
  },
  {
   "cell_type": "code",
   "execution_count": 111,
   "metadata": {},
   "outputs": [],
   "source": [
    "import pandas as pd\n",
    "import numpy as np\n",
    "import lightgbm as lgb\n",
    "import xgboost as xgb\n",
    "import gc\n",
    "import wfio\n",
    "import os\n",
    "from collections import Counter\n",
    "from ustciscrBDL_B import get_score_B\n",
    "from ustciscrLab_A import get_score\n",
    "import matplotlib.pyplot as plt\n",
    "\n",
    "from sklearn.preprocessing import LabelEncoder\n",
    "from sklearn.model_selection import StratifiedKFold, KFold, train_test_split\n",
    "\n",
    "%matplotlib inline\n",
    "%config InlineBackend.figure_format = 'svg'\n",
    "plt.rcParams['font.sans-serif']=['SimHei']"
   ]
  },
  {
   "cell_type": "code",
   "execution_count": 112,
   "metadata": {},
   "outputs": [],
   "source": [
    "def get_data(input):\n",
    "    data = wfio.read_dataframe(input)\n",
    "    return data"
   ]
  },
  {
   "cell_type": "code",
   "execution_count": 113,
   "metadata": {},
   "outputs": [],
   "source": [
    "train = get_data(_INPUT1)\n",
    "train2 = get_data(_INPUT2)\n",
    "test = get_data(_INPUT3)\n",
    "testb = get_data(_INPUT4)\n",
    "\n",
    "train.to_csv('train.csv', index=False)\n",
    "train2.to_csv('train2.csv', index=False)\n",
    "test.to_csv('test.csv', index=False)\n",
    "testb.to_csv('testb.csv', index=False)"
   ]
  },
  {
   "cell_type": "code",
   "execution_count": 114,
   "metadata": {},
   "outputs": [],
   "source": [
    "train = pd.read_csv('train.csv')\n",
    "train2 = pd.read_csv('train2.csv')\n",
    "test = pd.read_csv('test.csv')\n",
    "testb = pd.read_csv('testb.csv')\n",
    "test['target'] = -1\n",
    "testb['target'] = -1\n",
    "train_len = len(train)\n",
    "train2_len = len(train2)\n",
    "test_len = len(test)\n",
    "testb_len = len(testb)\n",
    "before = set(train2.columns)"
   ]
  },
  {
   "cell_type": "code",
   "execution_count": 115,
   "metadata": {},
   "outputs": [
    {
     "name": "stdout",
     "output_type": "stream",
     "text": [
      "set()\n",
      "set()\n",
      "set()\n",
      "set()\n"
     ]
    }
   ],
   "source": [
    "def get_2map():\n",
    "    cols_chinese = ['2017Q1发票核定数量', '2017Q1进项金额', '2017Q1进项税率', '2017Q1开票金额', '2017Q1开票数', '2017Q1开票税额', '2017Q1开票税率', '2017Q1入库税额', \n",
    "    '2017Q2发票核定数量', '2017Q2进项金额', '2017Q2进项税率', '2017Q2开票金额', '2017Q2开票数', '2017Q2开票税额', '2017Q2开票税率', '2017Q2入库税额', \n",
    "    '2017Q3发票核定数量', '2017Q3进项金额', '2017Q3进项税率', '2017Q3开票金额', '2017Q3开票数', '2017Q3开票税额', '2017Q3开票税率', '2017Q3入库税额', \n",
    "    '2017Q4发票核定数量', '2017Q4进项金额', '2017Q4进项税率', '2017Q4开票金额', '2017Q4开票数', '2017Q4开票税额', '2017Q4开票税率', '2017Q4入库税额', \n",
    "    '2018Q1发票核定数量', '2018Q1进项金额', '2018Q1进项税率', '2018Q1开票金额', '2018Q1开票数', '2018Q1开票税额', '2018Q1开票税率', '2018Q1入库税额', \n",
    "    '2018Q2发票核定数量', '2018Q2进项金额', '2018Q2进项税率', '2018Q2开票金额', '2018Q2开票数', '2018Q2开票税额', '2018Q2开票税率', '2018Q2入库税额', \n",
    "    '2018Q3发票核定数量', '2018Q3进项金额', '2018Q3进项税率', '2018Q3开票金额', '2018Q3开票数', '2018Q3开票税额', '2018Q3开票税率', '2018Q3入库税额', \n",
    "    '2018Q4发票核定数量', '2018Q4进项金额', '2018Q4进项税率', '2018Q4开票金额', '2018Q4开票数', '2018Q4开票税额', '2018Q4开票税率', '2018Q4入库税额', \n",
    "    '2019Q1发票核定数量', '2019Q1进项金额', '2019Q1进项税率', '2019Q1开票金额', '2019Q1开票数', '2019Q1开票税额', '2019Q1开票税率', '2019Q1入库税额', \n",
    "    '2019Q2发票核定数量', '2019Q2进项金额', '2019Q2进项税率', '2019Q2开票金额', '2019Q2开票数', '2019Q2开票税额', '2019Q2开票税率', '2019Q2入库税额', \n",
    "    '2019Q3发票核定数量', '2019Q3进项金额', '2019Q3进项税率', '2019Q3开票金额', '2019Q3开票数', '2019Q3开票税额', '2019Q3开票税率', '2019Q3入库税额', \n",
    "    '2019Q4发票核定数量', '2019Q4进项金额', '2019Q4进项税率', '2019Q4开票金额', '2019Q4开票数', '2019Q4开票税额', '2019Q4开票税率', '2019Q4入库税额', \n",
    "    '财务人员手机号', '财务人员姓名', '从业人数', '登记开业日期', '法定代表人姓名', '法人手机号', '街道乡镇', '经营范围', '纳税人名称', '生产经营地址', \n",
    "    '行业', '行业大类', '行业门类', '行业中类', '注册地址', '注册资本（元）', '主键:纳税人识别号', 'target']\n",
    "    cols_pin = ['2017q1fphdsl', '2017q1jxje', '2017q1jxsl', '2017q1kpje', '2017q1kps', '2017q1kpse', '2017q1kpsl', '2017q1rkse', \n",
    "    '2017q2fphdsl', '2017q2jxje', '2017q2jxsl', '2017q2kpje', '2017q2kps', '2017q2kpse', '2017q2kpsl', '2017q2rkse', \n",
    "    '2017q3fphdsl', '2017q3jxje', '2017q3jxsl', '2017q3kpje', '2017q3kps', '2017q3kpse', '2017q3kpsl', '2017q3rkse',\n",
    "    '2017q4fphdsl', '2017q4jxje', '2017q4jxsl', '2017q4kpje', '2017q4kps', '2017q4kpse', '2017q4kpsl', '2017q4rkse', \n",
    "    '2018q1fphdsl', '2018q1jxje', '2018q1jxsl', '2018q1kpje', '2018q1kps', '2018q1kpse', '2018q1kpsl', '2018q1rkse', \n",
    "    '2018q2fphdsl', '2018q2jxje', '2018q2jxsl', '2018q2kpje', '2018q2kps', '2018q2kpse', '2018q2kpsl', '2018q2rkse', \n",
    "    '2018q3fphdsl', '2018q3jxje', '2018q3jxsl', '2018q3kpje', '2018q3kps', '2018q3kpse', '2018q3kpsl', '2018q3rkse', \n",
    "    '2018q4fphdsl', '2018q4jxje', '2018q4jxsl', '2018q4kpje', '2018q4kps', '2018q4kpse', '2018q4kpsl', '2018q4rkse', \n",
    "    '2019q1fphdsl', '2019q1jxje', '2019q1jxsl', '2019q1kpje', '2019q1kps', '2019q1kpse', '2019q1kpsl', '2019q1rkse', \n",
    "    '2019q2fphdsl', '2019q2jxje', '2019q2jxsl', '2019q2kpje', '2019q2kps', '2019q2kpse', '2019q2kpsl', '2019q2rkse', \n",
    "    '2019q3fphdsl', '2019q3jxje', '2019q3jxsl', '2019q3kpje', '2019q3kps', '2019q3kpse', '2019q3kpsl', '2019q3rkse', \n",
    "    '2019q4fphdsl', '2019q4jxje', '2019q4jxsl', '2019q4kpje', '2019q4kps', '2019q4kpse', '2019q4kpsl', '2019q4rkse', \n",
    "    'bsrxmmp', 'bsrxm', 'cyrs', 'djrq', 'fddbrxm', 'fdbrxmp', 'xzjd', 'jyfw', 'nsrmc', 'scjydz', \n",
    "    'hy', 'hydl', 'hyml', 'hyzl', 'zcdz', 'zczb', 'zjnsrsbh', 'yc']\n",
    "    #\n",
    "    chinese_pin = {i:j for i,j in zip(cols_chinese, cols_pin)}\n",
    "    pin_chinese = {j:i for i,j in zip(cols_chinese, cols_pin)}\n",
    "    return chinese_pin, pin_chinese\n",
    "\n",
    "chinese_pin, pin_chinese = get_2map()\n",
    "\n",
    "train = train.rename(columns=pin_chinese)\n",
    "overlap = before & set(train.columns)\n",
    "print(overlap)\n",
    "assert(len(overlap)==0)\n",
    "\n",
    "train2 = train2.rename(columns=pin_chinese)\n",
    "overlap = before & set(train2.columns)\n",
    "print(overlap)\n",
    "assert(len(overlap)==0)\n",
    "\n",
    "test = test.rename(columns=pin_chinese)\n",
    "overlap = before & set(test.columns)\n",
    "print(overlap)\n",
    "assert(len(overlap)==0)\n",
    "\n",
    "testb = testb.rename(columns=pin_chinese)\n",
    "overlap = before & set(testb.columns)\n",
    "print(overlap)\n",
    "assert(len(overlap)==0)\n",
    "\n",
    "\n",
    "stool = {'cwrysjh':'财务人员手机号', 'cwryxm':'财务人员姓名', 'djkyrq':'登记开业日期', 'frsjh':'法人手机号',\n",
    "    'jdxz':'街道乡镇', 'zczby':'注册资本（元）', 'xy':'行业', 'xydl':'行业大类',\n",
    "    'xyml':'行业门类','xyzl':'行业中类'}\n",
    "\n",
    "train = train.rename(columns=stool)\n",
    "\n",
    "\n",
    "cols_order = train.columns\n",
    "train2 = train2.loc[:, cols_order]\n",
    "test = test.loc[:, cols_order]\n",
    "testb = testb.loc[:, cols_order]"
   ]
  },
  {
   "cell_type": "code",
   "execution_count": 116,
   "metadata": {},
   "outputs": [],
   "source": [
    "main_col = [col for col in test.columns if col[0] != '2']\n",
    "num_col = [col for col in test.columns if col[0] == '2']\n",
    "num_col_date = list(set([i[:6] for i in num_col]))\n",
    "num_col_type = list(set([i[6:] for i in num_col]))\n",
    "num_col_date.sort()\n"
   ]
  },
  {
   "cell_type": "code",
   "execution_count": 117,
   "metadata": {},
   "outputs": [],
   "source": [
    "def convert_2int(string):\n",
    "    try:\n",
    "        return float(string)\n",
    "    except:\n",
    "        return np.nan\n",
    "\n",
    "\n",
    "def preprocess_main(df, is_test=False):\n",
    "    if is_test: \n",
    "        df['2018Q3开票数'] = df['2018Q3开票数'].apply(convert_2int)\n",
    "        \n",
    "    df['main_na_count'] = df[main_col].isna().sum(axis=1)\n",
    "    df['num_na_count'] = df[num_col].isna().sum(axis=1)\n",
    "    df['财务人员姓名'] = df['财务人员姓名'].fillna('None')\n",
    "    df['从业人数'] = df['从业人数'].fillna(-1)\n",
    "    df['经营范围'] = df['经营范围'].fillna('None')\n",
    "    df['生产经营地址'] = df['生产经营地址'].fillna('None')\n",
    "    df['街道乡镇'] = df['街道乡镇'].fillna('None')\n",
    "    df['注册地址'] = df['注册地址'].fillna('None')\n",
    "    df['注册资本（元）'] = df['注册资本（元）'] = -1   # 2.000000e+06, -1\n",
    "    return df\n",
    "\n",
    "train = preprocess_main(train)\n",
    "train2 = preprocess_main(train2)\n",
    "test = preprocess_main(test, True)\n",
    "testb = preprocess_main(testb)"
   ]
  },
  {
   "cell_type": "code",
   "execution_count": 118,
   "metadata": {},
   "outputs": [
    {
     "name": "stdout",
     "output_type": "stream",
     "text": [
      "3031\n"
     ]
    },
    {
     "data": {
      "text/plain": [
       "1768"
      ]
     },
     "execution_count": 118,
     "metadata": {},
     "output_type": "execute_result"
    }
   ],
   "source": [
    "duplicate = set(train2['主键:纳税人识别号']) & set(test['主键:纳税人识别号'])\n",
    "print(len(duplicate))\n",
    "duplicate = set(test['主键:纳税人识别号']) & set(testb['主键:纳税人识别号'])\n",
    "len(duplicate)"
   ]
  },
  {
   "cell_type": "code",
   "execution_count": 119,
   "metadata": {},
   "outputs": [
    {
     "data": {
      "text/plain": [
       "float64    89\n",
       "object     15\n",
       "int64      12\n",
       "dtype: int64"
      ]
     },
     "execution_count": 119,
     "metadata": {},
     "output_type": "execute_result"
    }
   ],
   "source": [
    "train2.dtypes.value_counts()"
   ]
  },
  {
   "cell_type": "code",
   "execution_count": 120,
   "metadata": {},
   "outputs": [
    {
     "data": {
      "text/plain": [
       "float64    89\n",
       "object     15\n",
       "int64      12\n",
       "dtype: int64"
      ]
     },
     "execution_count": 120,
     "metadata": {},
     "output_type": "execute_result"
    }
   ],
   "source": [
    "testb.dtypes.value_counts()"
   ]
  },
  {
   "cell_type": "code",
   "execution_count": 121,
   "metadata": {},
   "outputs": [],
   "source": [
    "def separate_main(data):\n",
    "    # 人名重复\n",
    "    data['财务人员重复'] = data.groupby('财务人员姓名')['财务人员姓名'].transform(\"count\") \n",
    "    data['法定代表人重复'] = data.groupby('法定代表人姓名')['法定代表人姓名'].transform(\"count\")\n",
    "    name = list(data['法定代表人姓名']) +  list(data['财务人员姓名'])\n",
    "    name_cnt = Counter(name)\n",
    "    data['人员重复'] = data['财务人员姓名'].map(name_cnt) + data['法定代表人姓名'].map(name_cnt)\n",
    "    print(len(name_cnt))\n",
    "\n",
    "    # 手机重复\n",
    "    phone = list(data['财务人员手机号']) +  list(data['法人手机号'])\n",
    "    phone_cnt = Counter(phone)\n",
    "    data['财务人员手机号重复'] = [phone_cnt[i] for i in data['财务人员手机号']]\n",
    "    data['法人手机号重复'] = [phone_cnt[i] for i in data['法人手机号']]\n",
    "    print(len(phone_cnt))\n",
    "    return data"
   ]
  },
  {
   "cell_type": "code",
   "execution_count": 122,
   "metadata": {},
   "outputs": [
    {
     "name": "stdout",
     "output_type": "stream",
     "text": [
      "13712\n",
      "19980\n",
      "7387\n",
      "5646\n",
      "(16000, 121)\n"
     ]
    }
   ],
   "source": [
    "def concat(df1, df2, df3=None):\n",
    "    df1 = separate_main(df1)\n",
    "    df2 = separate_main(df2)\n",
    "    cols_order = df1.columns\n",
    "    df2 = df2.loc[:, cols_order]\n",
    "    df1 = df1.append(df2)\n",
    "    if df3 is not None:\n",
    "        df3 = separate_main(df3)\n",
    "        df3 = df3.loc[:, cols_order]\n",
    "        df1 = df1.append(df3)\n",
    "    print(df1.shape)\n",
    "    return df1\n",
    "\n",
    "train = concat(train, test)"
   ]
  },
  {
   "cell_type": "code",
   "execution_count": 123,
   "metadata": {},
   "outputs": [],
   "source": [
    "def main_extract(data):\n",
    "    # 日期\n",
    "    data['登记开业日期'] = pd.to_datetime(data['登记开业日期']) \n",
    "    main_col.append('登记开业_year')\n",
    "    main_col.append('登记开业_month')\n",
    "    data['登记开业_year'] = data['登记开业日期'].dt.year\n",
    "    data['登记开业_month'] = data['登记开业日期'].dt.month\n",
    "\n",
    "    # 人名重复\n",
    "#     data['财务人员重复'] = data.groupby('财务人员姓名')['财务人员姓名'].transform(\"count\") \n",
    "#     data['法定代表人重复'] = data.groupby('法定代表人姓名')['法定代表人姓名'].transform(\"count\")\n",
    "#     name = list(data['法定代表人姓名']) +  list(data['财务人员姓名'])\n",
    "#     name_cnt = Counter(name)\n",
    "#     data['人员重复'] = data['财务人员姓名'].map(name_cnt) + data['法定代表人姓名'].map(name_cnt)\n",
    "#     print(len(name_cnt))\n",
    "\n",
    "#     # 手机重复\n",
    "#     phone = list(data['财务人员手机号']) +  list(data['法人手机号'])\n",
    "#     phone_cnt = Counter(phone)\n",
    "#     data['财务人员手机号重复'] = [phone_cnt[i] for i in data['财务人员手机号']]\n",
    "#     data['法人手机号重复'] = [phone_cnt[i] for i in data['法人手机号']]\n",
    "#     print(len(phone_cnt))\n",
    "\n",
    "    # 行业+地址\n",
    "    data['行业_count'] = data.groupby('行业')['行业'].transform('count')\n",
    "    data['行业大类_count'] = data.groupby('行业大类')['行业大类'].transform('count')\n",
    "    data['行业门类_count'] = data.groupby('行业门类')['行业门类'].transform('count')\n",
    "    data['行业中类_count'] = data.groupby('行业中类')['行业中类'].transform('count')\n",
    "    data['街道乡镇_count'] = data.groupby(\"街道乡镇\")['街道乡镇'].transform('count')\n",
    "\n",
    "    data['address_match'] = (data['注册地址'] == data['生产经营地址'])*1\n",
    "    address = list(data['生产经营地址']) +  list(data['注册地址'])\n",
    "    address_cnt = Counter(address)\n",
    "    data['生产经营地址_count'] = data.groupby('生产经营地址')['生产经营地址'].transform('count')\n",
    "    data['注册地址_count'] = data.groupby('注册地址')['注册地址'].transform('count')\n",
    "    data['地址重复'] = data['注册地址'].map(address_cnt) + data['生产经营地址'].map(address_cnt)\n",
    "\n",
    "    # 行业编码\n",
    "    str2int = LabelEncoder()\n",
    "    data['行业'] = str2int.fit_transform(data['行业'])\n",
    "    data['行业大类'] = str2int.fit_transform(data['行业大类'])\n",
    "    data['行业门类'] = str2int.fit_transform(data['行业门类'])\n",
    "    data['行业中类'] = str2int.fit_transform(data['行业中类'])\n",
    "    data['街道乡镇'] = str2int.fit_transform(data['街道乡镇'])\n",
    "    \n",
    "    # 纳税人名称\n",
    "    data['纳税人名称_count'] = data.groupby('纳税人名称')['纳税人名称'].transform('count')\n",
    "    \n",
    "    return data"
   ]
  },
  {
   "cell_type": "code",
   "execution_count": 124,
   "metadata": {},
   "outputs": [],
   "source": [
    "def get_invoice(data):\n",
    "    invoice = pd.DataFrame()\n",
    "\n",
    "    for date in num_col_date:\n",
    "        temp_col = ['主键:纳税人识别号','target'] + [date+i for i in num_col_type]\n",
    "        temp_df = data[temp_col].copy()\n",
    "        temp_df.columns = ['主键:纳税人识别号','target'] + [i for i in num_col_type]\n",
    "        \n",
    "        temp_df['date'] = int(date.replace('Q','0'))       \n",
    "        invoice = pd.concat([invoice, temp_df], axis=0)\n",
    "\n",
    "    invoice.sort_values(['主键:纳税人识别号','date'], inplace=True)\n",
    "    invoice = invoice.reset_index(drop=True)\n",
    "    \n",
    "    # 提取一些特征\n",
    "    invoice['have_na'] = invoice.isna().sum(axis=1)\n",
    "    invoice['active'] = (np.sum(invoice[num_col_type], axis=1) > 0.1) * 1\n",
    "    invoice['进项税额'] = (invoice['进项税率'] != 0.03) * invoice['进项税率'] * invoice['进项金额']\n",
    "    invoice['预期入库税额'] = invoice['开票税额'] - invoice['进项税额']\n",
    "    invoice['mismatch'] = (np.abs(invoice['入库税额'] -  invoice['预期入库税额']) > 0.5) * 1\n",
    "    invoice['开票占比'] = invoice['开票数'] / invoice['发票核定数量']\n",
    "    invoice['顶额率'] = invoice['开票金额'] / invoice['开票数']\n",
    "    return invoice"
   ]
  },
  {
   "cell_type": "code",
   "execution_count": 125,
   "metadata": {},
   "outputs": [],
   "source": [
    "def invoice_extract(data, invoice):\n",
    "    # 活跃日期\n",
    "    join = invoice.groupby('主键:纳税人识别号')['active'].sum().rename(\"active_count\")\n",
    "    data = data.join(join, on='主键:纳税人识别号')\n",
    "    join = invoice.query('active==1').groupby(['主键:纳税人识别号'])['date'].first().rename(\"active_first_date\")\n",
    "    data = data.join(join, '主键:纳税人识别号')\n",
    "    join = invoice.query('active==1').groupby(['主键:纳税人识别号'])['date'].last().rename(\"active_last_date\")\n",
    "    data = data.join(join, '主键:纳税人识别号')\n",
    "    \n",
    "    # \n",
    "    join = invoice.groupby('主键:纳税人识别号')['mismatch'].sum().rename('mismatch_sum')\n",
    "    data = data.join(join, on='主键:纳税人识别号')\n",
    "    print( data.query('mismatch_sum!=0 and target==1').shape[0] / data.query('mismatch_sum!=0').shape[0])\n",
    "    # \n",
    "    \n",
    "    aggs = {i:['std','max','min','mean','sum'] for i in num_col_type}\n",
    "    join = invoice.query('active==1').groupby(['主键:纳税人识别号']).agg(aggs)\n",
    "    join = join.fillna(0)\n",
    "    \n",
    "    cols = join.columns.to_list()\n",
    "    auto_features = [i+'_'+j for i,j in cols]\n",
    "    join.columns = auto_features\n",
    "    data = data.join(join, on='主键:纳税人识别号', how='left')\n",
    "    return data, auto_features"
   ]
  },
  {
   "cell_type": "code",
   "execution_count": 126,
   "metadata": {},
   "outputs": [
    {
     "name": "stdout",
     "output_type": "stream",
     "text": [
      "0.08517737969792764\n"
     ]
    }
   ],
   "source": [
    "train = main_extract(train)\n",
    "invoice = get_invoice(train)\n",
    "num_col_type += ['进项税额','预期入库税额', '开票占比','顶额率']\n",
    "train, auto_features = invoice_extract(train, invoice)"
   ]
  },
  {
   "cell_type": "code",
   "execution_count": 127,
   "metadata": {},
   "outputs": [
    {
     "data": {
      "text/plain": [
       "(16000, 197)"
      ]
     },
     "execution_count": 127,
     "metadata": {},
     "output_type": "execute_result"
    }
   ],
   "source": [
    "train.shape"
   ]
  },
  {
   "cell_type": "code",
   "execution_count": 128,
   "metadata": {},
   "outputs": [],
   "source": [
    "train1 = train.iloc[:train_len, :]\n",
    "testb = train.iloc[-testb_len:, :]"
   ]
  },
  {
   "cell_type": "code",
   "execution_count": 141,
   "metadata": {},
   "outputs": [],
   "source": [
    "def get_u_score(y_true, y_pred):\n",
    "    temp = y_true*np.log(y_pred) + (1-y_true)*np.log(1-y_pred)\n",
    "    score = 1 - temp.sum() / np.sum(y_true) # len(y_true)\n",
    "    return 'cross_entropy', score, False\n",
    "\n",
    "\n",
    "def xgb_score(y_pred, dtrain):\n",
    "    y_true = dtrain.get_label()\n",
    "    temp = y_true*np.log(y_pred) + (1-y_true)*np.log(1-y_pred)\n",
    "    score = -1 * temp.sum() / np.sum(y_true) # len(y_true)  \n",
    "    return 'cross_entropy', score\n",
    "\n",
    "\n",
    "class XGBWrapper(object): \n",
    "    def __init__(self, model=None):\n",
    "        self.base_params = {\n",
    "            'booster':'gbtree',\n",
    "            'nthread':-1,\n",
    "            \n",
    "            #-------Booster Parameters\n",
    "            'tree_method': \"exact\", #Choices: {'auto', 'exact', 'approx', 'hist', 'gpu_exact', 'gpu_hist'}\n",
    "            'eta': 0.02,            \n",
    "            'gamma':0,           \n",
    "            'max_depth': 6, \n",
    "            'max_leaf_nodes':200,\n",
    "            'max_delta_step':0,\n",
    "            'subsample': 0.7,       \n",
    "            'colsample_bytree': 0.8,  \n",
    "            'colsample_bylevel':0.8, \n",
    "            'lambda':0.5,\n",
    "            'alpha':0.5,\n",
    "            'scale_pos_weight':1,   # 1 by default\n",
    "            \n",
    "            'objective': 'binary:logistic',\n",
    "            'eval_metric': 'logloss',  # error\n",
    "            'random_state': 88,  \n",
    "        }\n",
    "        if model != None:\n",
    "            self.model = model\n",
    "\n",
    "    def fit(self, X_train, y_train, X_valid=None, y_valid=None, cols_to_drop=[], params=None):\n",
    "        cols = [col for col in X_train.columns if col not in cols_to_drop]\n",
    "        self.cols_to_drop = cols_to_drop\n",
    "        X_train = X_train[cols].copy()\n",
    "        dtrain = xgb.DMatrix(X_train, y_train)\n",
    "        watchlist = [(dtrain, 'train')]\n",
    "        \n",
    "        if X_valid is not None:\n",
    "            X_valid = X_valid[cols].copy()\n",
    "            dvalid = xgb.DMatrix(X_valid, y_valid)\n",
    "            watchlist.append((dvalid, 'valid'))\n",
    "        \n",
    "        if params is not None:\n",
    "            self.base_params.update(params)\n",
    "        \n",
    "        self.model = xgb.train(self.base_params, dtrain, num_boost_round=250, evals=watchlist, maximize=False,\n",
    "                      verbose_eval=50, early_stopping_rounds=50,) #feval=xgb_score)\n",
    "        \n",
    "        return self.model\n",
    "    \n",
    "    def get_importance(self):\n",
    "        assert(self.model is not None)\n",
    "        \n",
    "        df_imp = pd.DataFrame({'features': list(self.model.get_score().keys()), \n",
    "                               'importance': list(self.model.get_score().values())})\n",
    "        df_imp = df_imp.sort_values(['importance'], ascending=False)\n",
    "        return df_imp\n",
    "    \n",
    "    def predict(self, X_test):\n",
    "        assert(self.model is not None)\n",
    "        cols = [col for col in X_test.columns if col not in self.cols_to_drop]\n",
    "        X_test = X_test[cols]\n",
    "        dtest = xgb.DMatrix(X_test)\n",
    "        return self.model.predict(dtest, ntree_limit=self.model.best_ntree_limit)\n",
    "\n",
    "\n",
    "class KFold_tree():\n",
    "    def __init__(self, model_wrapper):\n",
    "        self.models = []\n",
    "        self.model_wrapper = model_wrapper\n",
    "    \n",
    "    def fit(self, train, label, cols_to_drop, params=None, k=5):\n",
    "        cols = [col for col in train.columns if col not in cols_to_drop]\n",
    "        self.cols_to_drop = cols_to_drop\n",
    "        train = train[cols]\n",
    "        \n",
    "        skfold = StratifiedKFold(n_splits=k, random_state=50)\n",
    "        n_target = 1\n",
    "        self.oof = np.zeros(len(train))\n",
    "        \n",
    "        for fold_n, (train_index, valid_index) in enumerate(skfold.split(train, label)):\n",
    "            print(fold_n+1, 'fold start')\n",
    "            X_train, X_valid = train.iloc[train_index], train.iloc[valid_index]\n",
    "            y_train, y_valid = label.iloc[train_index], label.iloc[valid_index]\n",
    "            model = self.model_wrapper.fit(X_train, y_train, X_valid, y_valid, params=params)\n",
    "            self.models.append(model)\n",
    "            self.oof[valid_index] = self.model_wrapper.predict(X_valid)\n",
    "        \n",
    "        self.score = get_u_score(label, self.oof)\n",
    "        print('score of oof:', self.score)\n",
    "    \n",
    "    def get_importance(self):\n",
    "        assert(len(self.models)>1)\n",
    "        imp = pd.DataFrame()\n",
    "        for model in self.models:\n",
    "            self.model_wrapper.model = model\n",
    "            single_imp = self.model_wrapper.get_importance()\n",
    "            imp = imp.append(single_imp)\n",
    "        return imp.groupby('features')['importance'].sum().reset_index().sort_values(['importance'], ascending=False)\n",
    "    \n",
    "    \n",
    "    def predict(self, X_test):\n",
    "        assert(len(self.models)>1)\n",
    "        cols = [col for col in X_test.columns if col not in self.cols_to_drop]\n",
    "        X_test = X_test[cols]\n",
    "        self.model_wrapper.model = self.models[0]\n",
    "        pred = self.model_wrapper.predict(X_test)\n",
    "        for model in self.models[1:]:\n",
    "            self.model_wrapper.model = model\n",
    "            pred += self.model_wrapper.predict(X_test)\n",
    "        \n",
    "        return pred / len(self.models)\n",
    "\n",
    "\n",
    "wrapper = XGBWrapper()\n",
    "models = KFold_tree(wrapper)"
   ]
  },
  {
   "cell_type": "code",
   "execution_count": 142,
   "metadata": {},
   "outputs": [],
   "source": [
    "drop_cols = ['财务人员手机号','财务人员姓名','登记开业日期','法定代表人姓名','法人手机号','经营范围','纳税人名称','生产经营地址','注册地址',\n",
    "             '主键:纳税人识别号'] + ['target','preds','pred']"
   ]
  },
  {
   "cell_type": "code",
   "execution_count": 143,
   "metadata": {},
   "outputs": [
    {
     "name": "stdout",
     "output_type": "stream",
     "text": [
      "[0]\ttrain-logloss:0.673566\n",
      "Will train until train-logloss hasn't improved in 50 rounds.\n",
      "[50]\ttrain-logloss:0.203435\n",
      "[100]\ttrain-logloss:0.075033\n",
      "[150]\ttrain-logloss:0.031226\n",
      "[200]\ttrain-logloss:0.015103\n",
      "[250]\ttrain-logloss:0.00887\n",
      "[299]\ttrain-logloss:0.006325\n"
     ]
    },
    {
     "data": {
      "text/plain": [
       "<xgboost.core.Booster at 0x7f50f38000b8>"
      ]
     },
     "execution_count": 143,
     "metadata": {},
     "output_type": "execute_result"
    }
   ],
   "source": [
    "wrapper.fit(train1, train1['target'], cols_to_drop=drop_cols)"
   ]
  },
  {
   "cell_type": "code",
   "execution_count": 144,
   "metadata": {},
   "outputs": [
    {
     "name": "stdout",
     "output_type": "stream",
     "text": [
      "User-id:13\n",
      "程序开始运行时间为：2019-12-22 15:02:56.427928\n",
      "程序结束运行时间为：2019-12-22 15:02:56.431330\n",
      "程序运行时间（去除打分耗时）为：0.003402\n",
      "程序的准确率为：93.23551316\n",
      "最终得分为：93.91196185\n"
     ]
    }
   ],
   "source": [
    "\n",
    "result = pd.DataFrame()\n",
    "result['zjnsrsbh'] = test['主键:纳税人识别号']\n",
    "result['Probability'] = wrapper.predict(testb)\n",
    "get_score.post_user_id('13')\n",
    "get_score.post_verify_data(result)"
   ]
  },
  {
   "cell_type": "code",
   "execution_count": null,
   "metadata": {},
   "outputs": [],
   "source": []
  },
  {
   "cell_type": "code",
   "execution_count": 37,
   "metadata": {},
   "outputs": [],
   "source": [
    "# from ustciscrLab_A import get_score \n",
    "\n",
    "# result = pd.DataFrame()\n",
    "# result['zjnsrsbh'] = test['主键:纳税人识别号']\n",
    "# result['Probability'] = models.predict(testb)\n",
    "# shit.post_user_id('13')\n",
    "# shit.post_verify_data(result)"
   ]
  }
 ],
 "metadata": {
  "kernelspec": {
   "display_name": "Python 3",
   "language": "python",
   "name": "python3"
  },
  "language_info": {
   "codemirror_mode": {
    "name": "ipython",
    "version": 3
   },
   "file_extension": ".py",
   "mimetype": "text/x-python",
   "name": "python",
   "nbconvert_exporter": "python",
   "pygments_lexer": "ipython3",
   "version": "3.7.3"
  }
 },
 "nbformat": 4,
 "nbformat_minor": 2
}
