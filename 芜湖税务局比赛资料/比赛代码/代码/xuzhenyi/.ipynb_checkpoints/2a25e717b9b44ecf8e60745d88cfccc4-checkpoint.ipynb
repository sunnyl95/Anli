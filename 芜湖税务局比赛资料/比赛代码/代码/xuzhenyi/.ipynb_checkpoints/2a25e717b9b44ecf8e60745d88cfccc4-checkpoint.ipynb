{
 "cells": [
  {
   "cell_type": "code",
   "execution_count": 1,
   "metadata": {
    "tags": [
     "parameters"
    ]
   },
   "outputs": [],
   "source": [
    "# 输入数据的参数\n",
    "_INPUT1='{\"name\":\"input1\",\"type\":0,\"uri\":\"tmp_84098fc7c729474f84c39d2bada1b6b3\"}'\n",
    "_INPUT3='{\"name\":\"input3\",\"type\":0,\"uri\":\"tmp_fe0a5c6c95784c9bbe100405cdcd9531\"}'\n",
    "_INPUT2='{\"name\":\"input2\",\"type\":0,\"uri\":\"tmp_a3c5f92fc5284dd39b37979487c5ba5b\"}'\n",
    "\n",
    "# 输出数据的参数\n",
    "_OUTPUT='[{\"name\":\"output1\",\"type\":0,\"uri\":\"tmp_0c1c2fc227994059b61100a6088337fc\"},{\"name\":\"output2\",\"type\":0,\"uri\":\"tmp_45933c6af75c41818444f8940cc25d20\"},{\"name\":\"output3\",\"type\":0,\"uri\":\"tmp_a343e42388414e438884b743168d6af9\"},{\"name\":\"output4\",\"type\":0,\"uri\":\"tmp_217fcc3e544c4499be97552b160c186a\"}]'\n",
    "\n",
    "# 自定义参数\n"
   ]
  },
  {
   "cell_type": "code",
   "execution_count": 2,
   "metadata": {},
   "outputs": [],
   "source": [
    "# 引入使用库\n",
    "import pandas as pd\n",
    "#from ustciscrLab import get_score\n",
    "from ustciscrLab_A import get_score\n",
    "import wfio\n",
    "import random\n",
    "import numpy as np\n",
    "import matplotlib.pyplot as plt\n",
    "import pylab as plot"
   ]
  },
  {
   "cell_type": "code",
   "execution_count": 3,
   "metadata": {},
   "outputs": [
    {
     "name": "stdout",
     "output_type": "stream",
     "text": [
      "Looking in indexes: http://mirrors.aliyun.com/pypi/simple\n",
      "Requirement already satisfied: tensorflow in /opt/conda/lib/python3.7/site-packages (2.0.0)\n",
      "Requirement already satisfied: wrapt>=1.11.1 in /opt/conda/lib/python3.7/site-packages (from tensorflow) (1.11.2)\n",
      "Requirement already satisfied: opt-einsum>=2.3.2 in /opt/conda/lib/python3.7/site-packages (from tensorflow) (3.1.0)\n",
      "Requirement already satisfied: keras-applications>=1.0.8 in /opt/conda/lib/python3.7/site-packages (from tensorflow) (1.0.8)\n",
      "Requirement already satisfied: absl-py>=0.7.0 in /opt/conda/lib/python3.7/site-packages (from tensorflow) (0.9.0)\n",
      "Requirement already satisfied: gast==0.2.2 in /opt/conda/lib/python3.7/site-packages (from tensorflow) (0.2.2)\n",
      "Requirement already satisfied: six>=1.10.0 in /opt/conda/lib/python3.7/site-packages (from tensorflow) (1.12.0)\n",
      "Requirement already satisfied: wheel>=0.26 in /opt/conda/lib/python3.7/site-packages (from tensorflow) (0.33.4)\n",
      "Requirement already satisfied: keras-preprocessing>=1.0.5 in /opt/conda/lib/python3.7/site-packages (from tensorflow) (1.1.0)\n",
      "Requirement already satisfied: tensorboard<2.1.0,>=2.0.0 in /opt/conda/lib/python3.7/site-packages (from tensorflow) (2.0.2)\n",
      "Requirement already satisfied: tensorflow-estimator<2.1.0,>=2.0.0 in /opt/conda/lib/python3.7/site-packages (from tensorflow) (2.0.1)\n",
      "Requirement already satisfied: google-pasta>=0.1.6 in /opt/conda/lib/python3.7/site-packages (from tensorflow) (0.1.8)\n",
      "Requirement already satisfied: grpcio>=1.8.6 in /opt/conda/lib/python3.7/site-packages (from tensorflow) (1.20.0)\n",
      "Requirement already satisfied: numpy<2.0,>=1.16.0 in /opt/conda/lib/python3.7/site-packages (from tensorflow) (1.16.4)\n",
      "Requirement already satisfied: termcolor>=1.1.0 in /opt/conda/lib/python3.7/site-packages (from tensorflow) (1.1.0)\n",
      "Requirement already satisfied: astor>=0.6.0 in /opt/conda/lib/python3.7/site-packages (from tensorflow) (0.8.1)\n",
      "Requirement already satisfied: protobuf>=3.6.1 in /opt/conda/lib/python3.7/site-packages (from tensorflow) (3.7.1)\n",
      "Requirement already satisfied: h5py in /opt/conda/lib/python3.7/site-packages (from keras-applications>=1.0.8->tensorflow) (2.10.0)\n",
      "Requirement already satisfied: markdown>=2.6.8 in /opt/conda/lib/python3.7/site-packages (from tensorboard<2.1.0,>=2.0.0->tensorflow) (3.1.1)\n",
      "Requirement already satisfied: werkzeug>=0.11.15 in /opt/conda/lib/python3.7/site-packages (from tensorboard<2.1.0,>=2.0.0->tensorflow) (0.16.0)\n",
      "Requirement already satisfied: requests<3,>=2.21.0 in /opt/conda/lib/python3.7/site-packages (from tensorboard<2.1.0,>=2.0.0->tensorflow) (2.22.0)\n",
      "Requirement already satisfied: google-auth-oauthlib<0.5,>=0.4.1 in /opt/conda/lib/python3.7/site-packages (from tensorboard<2.1.0,>=2.0.0->tensorflow) (0.4.1)\n",
      "Requirement already satisfied: google-auth<2,>=1.6.3 in /opt/conda/lib/python3.7/site-packages (from tensorboard<2.1.0,>=2.0.0->tensorflow) (1.10.0)\n",
      "Requirement already satisfied: setuptools>=41.0.0 in /opt/conda/lib/python3.7/site-packages (from tensorboard<2.1.0,>=2.0.0->tensorflow) (41.0.1)\n",
      "Requirement already satisfied: urllib3!=1.25.0,!=1.25.1,<1.26,>=1.21.1 in /opt/conda/lib/python3.7/site-packages (from requests<3,>=2.21.0->tensorboard<2.1.0,>=2.0.0->tensorflow) (1.25.3)\n",
      "Requirement already satisfied: certifi>=2017.4.17 in /opt/conda/lib/python3.7/site-packages (from requests<3,>=2.21.0->tensorboard<2.1.0,>=2.0.0->tensorflow) (2019.6.16)\n",
      "Requirement already satisfied: idna<2.9,>=2.5 in /opt/conda/lib/python3.7/site-packages (from requests<3,>=2.21.0->tensorboard<2.1.0,>=2.0.0->tensorflow) (2.8)\n",
      "Requirement already satisfied: chardet<3.1.0,>=3.0.2 in /opt/conda/lib/python3.7/site-packages (from requests<3,>=2.21.0->tensorboard<2.1.0,>=2.0.0->tensorflow) (3.0.4)\n",
      "Requirement already satisfied: requests-oauthlib>=0.7.0 in /opt/conda/lib/python3.7/site-packages (from google-auth-oauthlib<0.5,>=0.4.1->tensorboard<2.1.0,>=2.0.0->tensorflow) (1.3.0)\n",
      "Requirement already satisfied: cachetools<5.0,>=2.0.0 in /opt/conda/lib/python3.7/site-packages (from google-auth<2,>=1.6.3->tensorboard<2.1.0,>=2.0.0->tensorflow) (4.0.0)\n",
      "Requirement already satisfied: rsa<4.1,>=3.1.4 in /opt/conda/lib/python3.7/site-packages (from google-auth<2,>=1.6.3->tensorboard<2.1.0,>=2.0.0->tensorflow) (4.0)\n",
      "Requirement already satisfied: pyasn1-modules>=0.2.1 in /opt/conda/lib/python3.7/site-packages (from google-auth<2,>=1.6.3->tensorboard<2.1.0,>=2.0.0->tensorflow) (0.2.7)\n",
      "Requirement already satisfied: oauthlib>=3.0.0 in /opt/conda/lib/python3.7/site-packages (from requests-oauthlib>=0.7.0->google-auth-oauthlib<0.5,>=0.4.1->tensorboard<2.1.0,>=2.0.0->tensorflow) (3.0.2)\n",
      "Requirement already satisfied: pyasn1>=0.1.3 in /opt/conda/lib/python3.7/site-packages (from rsa<4.1,>=3.1.4->google-auth<2,>=1.6.3->tensorboard<2.1.0,>=2.0.0->tensorflow) (0.4.8)\n",
      "Looking in indexes: http://mirrors.aliyun.com/pypi/simple\n",
      "Requirement already satisfied: keras in /opt/conda/lib/python3.7/site-packages (2.3.1)\n",
      "Requirement already satisfied: keras-applications>=1.0.6 in /opt/conda/lib/python3.7/site-packages (from keras) (1.0.8)\n",
      "Requirement already satisfied: keras-preprocessing>=1.0.5 in /opt/conda/lib/python3.7/site-packages (from keras) (1.1.0)\n",
      "Requirement already satisfied: scipy>=0.14 in /opt/conda/lib/python3.7/site-packages (from keras) (1.3.0)\n",
      "Requirement already satisfied: numpy>=1.9.1 in /opt/conda/lib/python3.7/site-packages (from keras) (1.16.4)\n",
      "Requirement already satisfied: h5py in /opt/conda/lib/python3.7/site-packages (from keras) (2.10.0)\n",
      "Requirement already satisfied: six>=1.9.0 in /opt/conda/lib/python3.7/site-packages (from keras) (1.12.0)\n",
      "Requirement already satisfied: pyyaml in /opt/conda/lib/python3.7/site-packages (from keras) (5.2)\n"
     ]
    }
   ],
   "source": [
    "# 使用第三方库使用 !pip install 进行安装\n",
    "!pip install tensorflow\n",
    "!pip install keras"
   ]
  },
  {
   "cell_type": "code",
   "execution_count": 4,
   "metadata": {},
   "outputs": [
    {
     "name": "stderr",
     "output_type": "stream",
     "text": [
      "Using TensorFlow backend.\n"
     ]
    }
   ],
   "source": [
    "from keras.models import Sequential\n",
    "from keras.layers.core import Dense, Activation , Dropout\n",
    "from keras.utils import np_utils\n",
    "from sklearn.preprocessing import LabelEncoder"
   ]
  },
  {
   "cell_type": "code",
   "execution_count": 5,
   "metadata": {},
   "outputs": [],
   "source": [
    "#读取测试集数据\n",
    "def get_test_data():\n",
    "    test_data = wfio.read_dataframe(_INPUT2)\n",
    "    #删除第一行中文\n",
    "    #test_data = test_data.drop(0,axis=0,inplace=False)\n",
    "    return test_data"
   ]
  },
  {
   "cell_type": "code",
   "execution_count": 6,
   "metadata": {},
   "outputs": [],
   "source": [
    "#读取训练集数据\n",
    "def get_train_data():\n",
    "    train_data = wfio.read_dataframe(_INPUT3)\n",
    "    #删除第一行中文\n",
    "    #train_data = train_data.drop(0,axis=0,inplace=False)\n",
    "    return train_data\n",
    "#读取训练集数据\n",
    "def get_train_data2():\n",
    "    train_data = wfio.read_dataframe(_INPUT1)\n",
    "    #删除第一行中文\n",
    "    #train_data = train_data.drop(0,axis=0,inplace=False)\n",
    "    return train_data"
   ]
  },
  {
   "cell_type": "code",
   "execution_count": 7,
   "metadata": {},
   "outputs": [
    {
     "name": "stdout",
     "output_type": "stream",
     "text": [
      "train columns Index(['2017q1fphdsl', '2017q1jxje', '2017q1jxsl', '2017q1kpje', '2017q1kps',\n",
      "       '2017q1kpse', '2017q1kpsl', '2017q1rkse', '2017q2fphdsl', '2017q2jxje',\n",
      "       ...\n",
      "       'hyml', 'hyzl', 'jyfw', 'nsrmc', 'scjydz', 'xzjd', 'yc', 'zcdz', 'zczb',\n",
      "       'zjnsrsbh'],\n",
      "      dtype='object', length=114)\n",
      "<class 'pandas.core.frame.DataFrame'>\n",
      "RangeIndex: 10000 entries, 0 to 9999\n",
      "Columns: 114 entries, 2017q1fphdsl to zjnsrsbh\n",
      "dtypes: object(114)\n",
      "memory usage: 8.7+ MB\n",
      "None\n",
      "train2 columns Index(['2017q1fphdsl', '2017q1jxje', '2017q1jxsl', '2017q1kpje', '2017q1kps',\n",
      "       '2017q1kpse', '2017q1kpsl', '2017q1rkse', '2017q2fphdsl', '2017q2jxje',\n",
      "       ...\n",
      "       'nsrmc', 'scjydz', 'xy', 'xydl', 'xyml', 'xyzl', 'yc', 'zcdz', 'zczby',\n",
      "       'zjnsrsbh'],\n",
      "      dtype='object', length=114)\n",
      "<class 'pandas.core.frame.DataFrame'>\n",
      "RangeIndex: 10000 entries, 0 to 9999\n",
      "Columns: 114 entries, 2017q1fphdsl to zjnsrsbh\n",
      "dtypes: object(114)\n",
      "memory usage: 8.7+ MB\n",
      "None\n",
      "test columns Index(['2017q1fphdsl', '2017q1jxje', '2017q1jxsl', '2017q1kpje', '2017q1kps',\n",
      "       '2017q1kpse', '2017q1kpsl', '2017q1rkse', '2017q2fphdsl', '2017q2jxje',\n",
      "       ...\n",
      "       'hydl', 'hyml', 'hyzl', 'jyfw', 'nsrmc', 'scjydz', 'xzjd', 'zcdz',\n",
      "       'zczb', 'zjnsrsbh'],\n",
      "      dtype='object', length=113)\n",
      "<class 'pandas.core.frame.DataFrame'>\n",
      "RangeIndex: 6000 entries, 0 to 5999\n",
      "Columns: 113 entries, 2017q1fphdsl to zjnsrsbh\n",
      "dtypes: object(113)\n",
      "memory usage: 5.2+ MB\n",
      "None\n"
     ]
    }
   ],
   "source": [
    "#读取数据集\n",
    "train_data0 = get_train_data()\n",
    "train_data2 = get_train_data2()\n",
    "test_data = get_test_data()\n",
    "print('train columns %s'%train_data0.columns)\n",
    "print(train_data0.info())\n",
    "print('train2 columns %s'%train_data2.columns)\n",
    "print(train_data2.info())\n",
    "print('test columns %s'%test_data.columns)\n",
    "print(test_data.info())"
   ]
  },
  {
   "cell_type": "code",
   "execution_count": 8,
   "metadata": {},
   "outputs": [],
   "source": [
    "#数据集探索\n",
    "\n",
    "###数据类型转换\n",
    "def dataprocessing(data):\n",
    "    datalist=list(data)\n",
    "    for i in range(len(datalist)):\n",
    "        data[datalist[i]][data[datalist[i]]=='']=0\n",
    "        data[datalist[i]][data[datalist[i]]=='\"\"\"\"\"\"\"\"\"\"\"\"\"\"']=0\n",
    "    return data\n",
    "train_data0=dataprocessing(train_data0)\n",
    "train_data0[train_data0.columns[:96]]=train_data0[train_data0.columns[:96]].astype(float)\n",
    "train_data0['yc']=train_data0['yc'].astype(int)\n",
    "train_data0[['cyrs','zczb']]=train_data0[['cyrs','zczb']].astype(float)\n",
    "\n",
    "#修改列名\n",
    "train_data2.rename(columns={'cwrysjh':'bsrxmmp','cwryxm':'bsrxm','frsjh':'fdbrxmp',\n",
    "                            'jdxz':'xzjd','xy':'hy','xydl':'hydl','xyml':'hyml',\n",
    "                            'xyzl':'hyzl','djkyrq': 'djrq','zczby': 'zczb'}, inplace=True)\n",
    "train_data2=dataprocessing(train_data2)\n",
    "train_data2[train_data2.columns[:96]]=train_data2[train_data2.columns[:96]].astype(float)\n",
    "train_data2['yc']=train_data2['yc'].astype(int)\n",
    "train_data2[['cyrs','zczb']]=train_data2[['cyrs','zczb']].astype(float)\n",
    "\n",
    "###测试数据类型转换\n",
    "testlist=list(test_data)\n",
    "test_data=dataprocessing(test_data)\n",
    "test_data[test_data.columns[:96]]=test_data[test_data.columns[:96]].astype(float)\n",
    "test_data['zczb']=test_data['zczb'].astype(float)"
   ]
  },
  {
   "cell_type": "code",
   "execution_count": 9,
   "metadata": {},
   "outputs": [
    {
     "name": "stdout",
     "output_type": "stream",
     "text": [
      "<class 'pandas.core.frame.DataFrame'>\n",
      "RangeIndex: 10000 entries, 0 to 9999\n",
      "Columns: 114 entries, 2017q1fphdsl to zjnsrsbh\n",
      "dtypes: float64(98), int64(1), object(15)\n",
      "memory usage: 8.7+ MB\n",
      "None\n"
     ]
    }
   ],
   "source": [
    "##合并两个训练数据集\n",
    "#train_data=pd.DataFrame()\n",
    "#train_data.append(train_data0,ignore_index=True)\n",
    "#train_data.append(train_data2,ignore_index=True)\n",
    "train_data=train_data0.copy()\n",
    "print(train_data.info())"
   ]
  },
  {
   "cell_type": "code",
   "execution_count": 10,
   "metadata": {},
   "outputs": [
    {
     "name": "stdout",
     "output_type": "stream",
     "text": [
      "1\n",
      "4\n"
     ]
    },
    {
     "data": {
      "image/png": "[encoded data removed]",
      "text/plain": [
       "<Figure size 432x288 with 1 Axes>"
      ]
     },
     "metadata": {
      "needs_background": "light"
     },
     "output_type": "display_data"
    },
    {
     "name": "stdout",
     "output_type": "stream",
     "text": [
      "-----label 0---statics\n",
      "mean 2.0317777777777777\n",
      "min 1\n",
      "max 4\n",
      "0.75 quantile 3.0\n"
     ]
    },
    {
     "data": {
      "image/png": "[encoded data removed]",
      "text/plain": [
       "<Figure size 432x288 with 1 Axes>"
      ]
     },
     "metadata": {
      "needs_background": "light"
     },
     "output_type": "display_data"
    }
   ],
   "source": [
    "#数据集探索\n",
    "match_data0=train_data.copy()\n",
    "tempmatch=match_data0.copy()\n",
    "endtime=pd.to_datetime('2020-01-01 00:00:00')##string to datetime\n",
    "#print(endtime)\n",
    "#天数怎样变成数据型的\n",
    "tempmatch['djyear']=(((endtime-pd.to_datetime(\n",
    "    tempmatch['djrq'])).map(lambda x: x.days))/365).astype('int')\n",
    "test_data['djyear']=(((endtime-pd.to_datetime(\n",
    "    test_data['djrq'])).map(lambda x: x.days))/365).astype('int')\n",
    "print(tempmatch['djyear'].min())\n",
    "print(tempmatch['djyear'].max())\n",
    "\n",
    "from random import uniform\n",
    "targetlabel=[]\n",
    "for i in range(len(tempmatch)):\n",
    "    if tempmatch['yc'][i]==0:\n",
    "        targetlabel.append(0.0+uniform(-0.1,0.1))\n",
    "    else:\n",
    "        targetlabel.append(1.0+uniform(-0.1,0.1))\n",
    "#plt.scatter(tempmatch['djyear'],tempmatch['yc'])\n",
    "plt.scatter(tempmatch['djyear'],targetlabel)\n",
    "plt.xlabel('Register day effects')\n",
    "plt.show()\n",
    "\n",
    "label=0\n",
    "print('-----label %s---statics'%label)\n",
    "print('mean %s'%tempmatch['djyear'][tempmatch['yc']==label].mean())\n",
    "print('min %s'%tempmatch['djyear'][tempmatch['yc']==label].min())\n",
    "print('max %s'%tempmatch['djyear'][tempmatch['yc']==label].max())\n",
    "print('0.75 quantile %s'%tempmatch['djyear'][tempmatch['yc']==label].quantile(q=0.75))\n",
    "'''\n",
    "barWidth=0.3\n",
    "# Choose the height of the blue bars\n",
    "bars1=[len(tempmatch['yc'][tempmatch['djyear']==1]==0),\n",
    "       len(tempmatch['yc'][tempmatch['djyear']==2]==0),\n",
    "       len(tempmatch['yc'][tempmatch['djyear']==3]==0),\n",
    "       len(tempmatch['yc'][tempmatch['djyear']==4]==0)]\n",
    "# Choose the height of the cyan bars\n",
    "bars2=[len(tempmatch['yc'][tempmatch['djyear']==1]==1),\n",
    "       len(tempmatch['yc'][tempmatch['djyear']==2]==1),\n",
    "       len(tempmatch['yc'][tempmatch['djyear']==3]==1),\n",
    "       len(tempmatch['yc'][tempmatch['djyear']==4]==1)]\n",
    "# The x position of bars\n",
    "r1=np.arange(len(bars1))\n",
    "r2=[x + barWidth for x in r1]\n",
    "# Create blue bars\n",
    "plt.bar(r1, bars1, width = barWidth, color = 'blue', edgecolor = 'black',capsize=7, label='0')\n",
    "# Create cyan bars\n",
    "plt.bar(r2, bars2, width = barWidth, color = 'cyan', edgecolor = 'black', capsize=7, label='1')\n",
    "# general layout\n",
    "plt.xticks([r + barWidth for r in range(len(bars1))], ['1', '2', '3','4'])\n",
    "plt.xlabel('Register years')\n",
    "plt.legend()\n",
    "# Show graphic\n",
    "plt.show()\n",
    "'''\n",
    "##属性相关系数可视化\n",
    "corMat=tempmatch.corr()\n",
    "#print(tempmatch)\n",
    "plt.pcolor(corMat)\n",
    "plt.show()"
   ]
  },
  {
   "cell_type": "code",
   "execution_count": 11,
   "metadata": {},
   "outputs": [
    {
     "name": "stdout",
     "output_type": "stream",
     "text": [
      "['2017q1fphdsl', '2017q1jxje', '2017q1jxsl', '2017q1kpje', '2017q1kps', '2017q1kpse', '2017q1kpsl', '2017q1rkse', '2017q2fphdsl', '2017q2jxje', '2017q2jxsl', '2017q2kpje', '2017q2kps', '2017q2kpse', '2017q2kpsl', '2017q2rkse', '2017q3fphdsl', '2017q3jxje', '2017q3jxsl', '2017q3kpje', '2017q3kps', '2017q3kpse', '2017q3kpsl', '2017q3rkse', '2017q4fphdsl', '2017q4jxje', '2017q4jxsl', '2017q4kpje', '2017q4kps', '2017q4kpse', '2017q4kpsl', '2017q4rkse', '2018q1fphdsl', '2018q1jxje', '2018q1jxsl', '2018q1kpje', '2018q1kps', '2018q1kpse', '2018q1kpsl', '2018q1rkse', '2018q2fphdsl', '2018q2jxje', '2018q2jxsl', '2018q2kpje', '2018q2kps', '2018q2kpse', '2018q2kpsl', '2018q2rkse', '2018q3fphdsl', '2018q3jxje', '2018q3jxsl', '2018q3kpje', '2018q3kps', '2018q3kpse', '2018q3kpsl', '2018q3rkse', '2018q4fphdsl', '2018q4jxje', '2018q4jxsl', '2018q4kpje', '2018q4kps', '2018q4kpse', '2018q4kpsl', '2018q4rkse', '2019q1fphdsl', '2019q1jxje', '2019q1jxsl', '2019q1kpje', '2019q1kps', '2019q1kpse', '2019q1kpsl', '2019q1rkse', '2019q2fphdsl', '2019q2jxje', '2019q2jxsl', '2019q2kpje', '2019q2kps', '2019q2kpse', '2019q2kpsl', '2019q2rkse', '2019q3fphdsl', '2019q3jxje', '2019q3jxsl', '2019q3kpje', '2019q3kps', '2019q3kpse', '2019q3kpsl', '2019q3rkse', '2019q4fphdsl', '2019q4jxje', '2019q4jxsl', '2019q4kpje', '2019q4kps', '2019q4kpse', '2019q4kpsl', '2019q4rkse', 'cyrs', 'zczb', 'djyear', 'yc']\n"
     ]
    },
    {
     "name": "stderr",
     "output_type": "stream",
     "text": [
      "/opt/conda/lib/python3.7/site-packages/ipykernel_launcher.py:10: FutureWarning: Method .as_matrix will be removed in a future version. Use .values instead.\n",
      "  # Remove the CWD from sys.path while we load stuff.\n"
     ]
    }
   ],
   "source": [
    "##基准特征数据集选择\n",
    "match_data=tempmatch.copy()\n",
    "data1=match_data.drop(['bsrxmmp','bsrxm','djrq','fddbrxm','fdbrxmp','xzjd',\n",
    "                       'jyfw','nsrmc','scjydz','hy','hydl','hyml','hyzl','zcdz','zjnsrsbh'], axis=1)\n",
    "featurelist1=list(data1)## get a list of columns\n",
    "featurelist1.insert(len(featurelist1),featurelist1.pop(featurelist1.index('yc')))\n",
    "print(featurelist1)\n",
    "data1 = data1.loc[:,featurelist1]\n",
    "featurelist1=featurelist1[:-1]\n",
    "mdata1 = data1.as_matrix()#DataFrame矩阵化\n",
    "np.random.shuffle(mdata1)#打乱矩阵"
   ]
  },
  {
   "cell_type": "code",
   "execution_count": 12,
   "metadata": {},
   "outputs": [],
   "source": [
    "from sklearn.preprocessing import StandardScaler\n",
    "sc = StandardScaler()\n",
    "def dataset_create(inputdata,p=0.9):\n",
    "    X=inputdata[:, :-1]#特征X\n",
    "    Y=inputdata[:, -1]#标签Y\n",
    "    X=(X-X.min())/(X.max()-X.min())\n",
    "    #X=(X-X.mean())/(X.std())\n",
    "    X_train = X[: int(len(inputdata) * p), :]#训练集的X\n",
    "    Y_train = Y[: int(len(inputdata) * p)]#训练集的标签\n",
    "    X_test = X[int(len(inputdata) * p) : , : ]#测试集的X\n",
    "    Y_test = Y[int(len(inputdata) * p) :  ]#测试集的标签\n",
    "    return X_train,Y_train,X_test,Y_test"
   ]
  },
  {
   "cell_type": "code",
   "execution_count": 13,
   "metadata": {},
   "outputs": [],
   "source": [
    "#####logistic model----------------\n",
    "from sklearn.linear_model import LogisticRegression as LR\n",
    "from sklearn.metrics import roc_auc_score, roc_curve,auc\n",
    "from sklearn.metrics import classification_report\n",
    "topk=-12#-12\n",
    "%matplotlib inline\n",
    "####----defining models-------\n",
    "def submit_models(X_train,Y_train,X_test,Y_test,modelname='LR'):\n",
    "    if modelname=='LR':\n",
    "        #####-------logistic model----------------\n",
    "        model = LR() #建立逻辑回归模型\n",
    "        model.fit(X_train, Y_train) #用筛选后的特征数据训练模型\n",
    "    else:\n",
    "        if modelname=='SVM':\n",
    "            #####SVM model----------------\n",
    "            from sklearn import  svm\n",
    "            #svc = svm.SVC(gamma=0.001, C=100,probability=True)\n",
    "            svc = svm.SVC( C=0.1,probability=True)\n",
    "            model = svc.fit(X_train, Y_train)\n",
    "        else:\n",
    "            if modelname=='RF':\n",
    "                from sklearn.ensemble import RandomForestClassifier\n",
    "                #--(620,entropy,1)--original feature\n",
    "                #(370,entropy,4)--selected feature\n",
    "                #(450,gini,1)-训练集2--original feature\n",
    "                #(50,gini,1)-训练集2--selected feature\n",
    "                #(630,gini,1)-训练集2--selected feature\n",
    "                modelRF = RandomForestClassifier(n_estimators=630,#200,60,500\n",
    "                                               criterion='gini',##entropy,gini\n",
    "                                               max_features=\"sqrt\",\n",
    "                                               min_samples_leaf=1,#2,1,2\n",
    "                                               n_jobs=4,random_state=14, )\n",
    "                model=modelRF.fit(X_train, Y_train)\n",
    "            else:\n",
    "                if modelname=='BP':\n",
    "                    #model=BPmodel(X_train,Y_train,X_test,Y_test,modelname)\n",
    "                    #encoder = LabelEncoder()\n",
    "                    #encoded_Y = encoder.fit_transform(Y_train)\n",
    "                    #Y_train = np_utils.to_categorical(encoded_Y)\n",
    "                    #encoded_Y = encoder.fit_transform(Y_test)\n",
    "                    #Y_test = np_utils.to_categorical(encoded_Y)\n",
    "                    model = Sequential()\n",
    "                    model.add(Dense(input_dim =int(X_train.shape[1]), output_dim = 600))\n",
    "                    model.add(Activation('relu'))\n",
    "                    model.add(Dense(input_dim =600, output_dim = 180))\n",
    "                    model.add(Activation('relu'))\n",
    "                    model.add(Dense(input_dim =180, output_dim = 70))\n",
    "                    model.add(Activation('relu'))\n",
    "                    model.add(Dropout(0.2))\n",
    "                    model.add(Dense(input_dim =70, output_dim = 15))\n",
    "                    model.add(Activation('relu'))\n",
    "                    model.add(Dense(input_dim = 15, output_dim = 1))\n",
    "                    model.add(Activation('sigmoid'))\n",
    "                    model.compile(loss = 'binary_crossentropy', optimizer = 'adam',metrics=['accuracy'])\n",
    "                    history=model.fit(X_train, Y_train,validation_split=0.3,nb_epoch = 50, batch_size = 128,verbose=0)\n",
    "                    train_loss,score_train=model.evaluate(X_train, Y_train,batch_size=128)\n",
    "                    test_loss,score_test=model.evaluate(X_test, Y_test,batch_size=128)\n",
    "                    pred_train = model.predict_classes(X_train).reshape(len(Y_train))\n",
    "                    pred_test = model.predict_classes(X_test).reshape(len(Y_test))\n",
    "                    print(history.history.keys())\n",
    "                    print(u'%s模型结束'%modelname)\n",
    "                    print(u'模型训练集平均正确率为：%.3f' % score_train)\n",
    "                    print(classification_report(Y_train, pred_train))\n",
    "                    print(u'模型测试集平均正确率为：%.3f' % score_test)\n",
    "                    print(classification_report(Y_test, pred_test))\n",
    "                    # summarize history for accuracy\n",
    "                    plt.plot(history.history['accuracy'])\n",
    "                    plt.plot(history.history['val_accuracy'])\n",
    "                    plt.title('model accuracy')\n",
    "                    plt.ylabel('accuracy')\n",
    "                    plt.xlabel('epoch')\n",
    "                    plt.legend(['train', 'test'], loc='upper left')\n",
    "                    plt.show()\n",
    "                    # summarize history for loss\n",
    "                    plt.plot(history.history['loss'])\n",
    "                    plt.plot(history.history['val_loss'])\n",
    "                    plt.title('model loss')\n",
    "                    plt.ylabel('loss')\n",
    "                    plt.xlabel('epoch')\n",
    "                    plt.legend(['train', 'test'], loc='upper left')\n",
    "                    plt.show()\n",
    "                else:\n",
    "                    from sklearn.ensemble import RandomForestClassifier\n",
    "                    from sklearn.model_selection import GridSearchCV\n",
    "                    parameter_space = {\n",
    "                        \"n_estimators\": np.arange(50,650,10),\n",
    "                        \"criterion\": [\"gini\", \"entropy\"],\n",
    "                        \"min_samples_leaf\": [1,2, 4, 6],}\n",
    "                    clf = RandomForestClassifier(random_state=14)\n",
    "                    grid = GridSearchCV(clf, parameter_space, cv=5, scoring='roc_auc')\n",
    "                    model = grid.fit(X_train, Y_train)\n",
    "                    #model_best = grid.best_estimator_\n",
    "                    print('---best_params_---%s'%model.best_params_)\n",
    "    \n",
    "    \n",
    "    print(u'%s模型结束'%modelname)\n",
    "    if modelname !='BP':\n",
    "        pred_train = model.predict(X_train)\n",
    "        pred_test = model.predict(X_test)\n",
    "        score_train=model.score(X_train, Y_train)\n",
    "        score_test=model.score(X_test, Y_test)\n",
    "        print(u'模型训练集平均正确率为：%.3f' % score_train)\n",
    "        print(classification_report(Y_train, pred_train))\n",
    "        print(u'模型测试集平均正确率为：%.3f' % score_test) #给出模型的平均正确率，本例为98.5%\n",
    "        print(classification_report(Y_test, pred_test))\n",
    "    return model,pred_train,pred_test\n",
    "#导入自行编写的混淆矩阵可视化函数\n",
    "def cm_plot(y, yp,title=\"confusion_matrix\"):\n",
    "\n",
    "  from sklearn.metrics import confusion_matrix #导入混淆矩阵函数\n",
    "\n",
    "  cm = confusion_matrix(y, yp) #混淆矩阵\n",
    "  \n",
    "  import matplotlib.pyplot as plt #导入作图库\n",
    "\n",
    "  plt.matshow(cm, cmap=plt.cm.Greens) #画混淆矩阵图，配色风格使用cm.Greens，更多风格请参考官网。\n",
    "  plt.colorbar() #颜色标签\n",
    "  plt.title(title)\n",
    "  for x in range(len(cm)): #数据标签\n",
    "    for y in range(len(cm)):\n",
    "      plt.annotate(cm[x,y], xy=(x, y), horizontalalignment='center', verticalalignment='center')\n",
    "      #plt.plot(cm[x, y], xy=(x, y), horizontalalignment='center', verticalalignment='center')\n",
    "  plt.xlabel('True label') #坐标轴标签\n",
    "  plt.ylabel('Predicted label') #坐标轴标签\n",
    "  return plt\n",
    "####ROC Curve--------------\n",
    "def roc_plot(Y_train,pred,Y_test,pred0,title='ROC Curve'):\n",
    "    from sklearn.metrics import roc_auc_score, roc_curve,auc\n",
    "    import matplotlib.pyplot as plt\n",
    "    lw=2\n",
    "    fpr, tpr, thresholds = roc_curve(Y_train, pred, pos_label=1)\n",
    "    #print(fpr,tpr,thresholds)\n",
    "    fpr0, tpr0, thresholds0 = roc_curve(Y_test, pred0, pos_label=1)\n",
    "    roc_auc=auc(fpr,tpr)\n",
    "    roc_auc0=auc(fpr0,tpr0)\n",
    "    print(\"auc:\",roc_auc)\n",
    "    print(\"auc:\",roc_auc0)\n",
    "    plt.figure()\n",
    "    lw = 2\n",
    "    plt.figure(figsize=(10,10))\n",
    "    plt.plot(fpr, tpr, color='blue',\n",
    "            lw=lw, label='ROC of %s_train(area = %0.4f)' % (title,roc_auc)) ###假正率为横坐标，真正率为纵坐标做曲线\n",
    "    plt.plot(fpr0, tpr0, color='red',\n",
    "             lw=lw, linestyle='--', label='ROC of %s_test(area = %0.4f)' % (title,roc_auc0)) ###假正率为横坐标，真正率为纵坐标做曲线\n",
    "    plt.plot([0, 1], [0, 1], color='navy', lw=lw, linestyle='--')\n",
    "    plt.xlim([0.0, 1.0])\n",
    "    plt.ylim([0.0, 1.05])\n",
    "    plt.xlabel('False Positive Rate')\n",
    "    plt.ylabel('True Positive Rate')\n",
    "    plt.title('ROC of %s'%title)\n",
    "    plt.legend(loc=\"lower right\")\n",
    "    plt.show()\n",
    "\n",
    "def multi_roc_plot(Y_LR,pred_LR,Y_SVM,pred_SVM,Y_RF,pred_RF,title,dataty):\n",
    "    from sklearn.metrics import roc_auc_score, roc_curve,auc\n",
    "    import matplotlib.pyplot as plt\n",
    "    lw=2\n",
    "    fpr, tpr, thresholds = roc_curve(Y_LR, pred_LR, pos_label=1)\n",
    "    #print(fpr,tpr,thresholds)\n",
    "    fpr0, tpr0, thresholds0 = roc_curve(Y_SVM, pred_SVM, pos_label=1)\n",
    "    fpr1, tpr1, thresholds1 = roc_curve(Y_RF, pred_RF, pos_label=1)\n",
    "    roc_auc=auc(fpr,tpr)\n",
    "    roc_auc0=auc(fpr0,tpr0)\n",
    "    roc_auc1=auc(fpr1,tpr1)\n",
    "    print(\"LR auc:\",roc_auc)\n",
    "    print(\"SVM auc:\",roc_auc0)\n",
    "    print(\"RF auc:\",roc_auc1)\n",
    "    plt.figure()\n",
    "    lw = 2\n",
    "    plt.figure(figsize=(10,10))\n",
    "    plt.plot(fpr, tpr, color='blue',\n",
    "            lw=lw, linestyle='--',label='ROC of LR_%s(area = %0.4f)' % (dataty,roc_auc)) ###假正率为横坐标，真正率为纵坐标做曲线\n",
    "    plt.plot(fpr0, tpr0, color='green',\n",
    "             lw=lw, linestyle='--', label='ROC of SVM_%s(area = %0.4f)' % (dataty,roc_auc0)) ###假正率为横坐标，真正率为纵坐标做曲线\n",
    "    plt.plot(fpr1, tpr1, color='red',\n",
    "             lw=lw, linestyle='--', label='ROC of RF_%s(area = %0.4f)' % (dataty,roc_auc1)) ###假正率为横坐标，真正率为纵坐标做曲线\n",
    "    plt.plot([0, 1], [0, 1], color='navy', lw=lw, linestyle='--')\n",
    "    plt.xlim([0.0, 1.0])\n",
    "    plt.ylim([0.0, 1.05])\n",
    "    plt.xlabel('False Positive Rate')\n",
    "    plt.ylabel('True Positive Rate')\n",
    "    plt.title('%s %s'%(dataty,title))\n",
    "    plt.legend(loc=\"lower right\")\n",
    "    plt.show()\n",
    "####feature importance plot--------------\n",
    "def imp_plot(model,data):\n",
    "    IMPfeature=model.feature_importances_\n",
    "    IMPfeature=IMPfeature/IMPfeature.max()\n",
    "    sorted_index=np.argsort(IMPfeature)\n",
    "    print(sorted_index)\n",
    "    print(IMPfeature[sorted_index])\n",
    "    plt.bar(data.columns[sorted_index[topk:]],IMPfeature[sorted_index[topk:]])\n",
    "    plt.xticks(rotation=45)\n",
    "    plt.ylabel('Variable Importance')\n",
    "    plt.show()\n",
    "    topfeatures=list(data1.columns[sorted_index[topk:]])\n",
    "    print('--top importance--%s'%topfeatures)\n",
    "    return topfeatures"
   ]
  },
  {
   "cell_type": "code",
   "execution_count": 14,
   "metadata": {},
   "outputs": [],
   "source": [
    "#随机产生测试集的答案，用于测试\n",
    "def create_test_train_data(featurelist,modelname):\n",
    "    prob = {\n",
    "        \"zjnsrsbh\": train_data['zjnsrsbh'],\n",
    "    }\n",
    "    test_train_data = pd.DataFrame(prob)\n",
    "    #val_data = match_data.drop(['cwrysjh','cwryxm','djkyrq','fddbrxm','frsjh','jdxz','jyfw','nsrmc','scjydz','xy','xydl','xyml','xyzl','zcdz','zjnsrsbh','yc'], axis=1)\n",
    "    val_data = match_data[featurelist]\n",
    "    mval = val_data.as_matrix()#DataFrame矩阵化\n",
    "    mval=mval.astype(float)\n",
    "    mval=(mval-mval.min())/(mval.max()-mval.min())##min-max normalization\n",
    "    #mval=(mval-mval.mean())/(mval.std())##standard normalization\n",
    "    #pred0 = model.predict(mval)\n",
    "    if modelname=='BP':\n",
    "        pred0 = model.predict_proba(mval)\n",
    "    else:\n",
    "        pred0 = model.predict_proba(mval)[:,1]\n",
    "    test_train_data['Probability'] = pred0\n",
    "    return test_train_data\n",
    "\n",
    "#随机产生验证集的答案，用于测试\n",
    "def create_verify_train_data(featurelist,modelname):\n",
    "    #读取训练集的'zjnsrsbh'字段\n",
    "    prob = {\n",
    "        #\"zjnsrsbh\": val_data['zjnsrsbh'],\n",
    "        \"zjnsrsbh\": test_data['zjnsrsbh'],\n",
    "    }\n",
    "    result_data = pd.DataFrame(prob)\n",
    "    #val_data = train_data.drop(['cwrysjh','cwryxm','djkyrq','fddbrxm','frsjh','jdxz','jyfw','nsrmc',\n",
    "                                #'scjydz','xy','xydl','xyml','xyzl','zcdz','zjnsrsbh'], axis=1)\n",
    "    val_data = test_data[featurelist]\n",
    "    mval = val_data.as_matrix()#DataFrame矩阵化\n",
    "    mval=mval.astype(float)\n",
    "    mval=(mval-mval.min())/(mval.max()-mval.min())##min-max normalization\n",
    "    #mval=(mval-mval.mean())/(mval.std())##standard normalization\n",
    "    #pred0 = model.predict(mval)\n",
    "    if modelname=='BP':\n",
    "        pred0 = model.predict_proba(mval)\n",
    "    else:\n",
    "        pred0 = model.predict_proba(mval)[:,1]\n",
    "    result_data['Probability'] = pred0\n",
    "    return result_data"
   ]
  },
  {
   "cell_type": "code",
   "execution_count": 15,
   "metadata": {},
   "outputs": [
    {
     "name": "stderr",
     "output_type": "stream",
     "text": [
      "/opt/conda/lib/python3.7/site-packages/ipykernel_launcher.py:9: FutureWarning: Method .as_matrix will be removed in a future version. Use .values instead.\n",
      "  if __name__ == '__main__':\n"
     ]
    }
   ],
   "source": [
    "##RF特征选择\n",
    "#topfeatures=imp_plot(model,data1)\n",
    "topfeatures=['2019q4jxje', '2019q3jxje', '2019q2jxje', '2019q1jxje', '2018q3jxje',\n",
    "             '2018q1jxje', '2018q2jxje', '2018q4jxje', '2017q4jxje', '2017q1jxje',\n",
    "             '2017q3jxje', '2017q2jxje']\n",
    "featurelist2=topfeatures.copy()\n",
    "topfeatures.append('yc')\n",
    "data2=data1[topfeatures]\n",
    "mdata2 = data2.as_matrix()#DataFrame矩阵化\n",
    "np.random.shuffle(mdata2)#打乱矩阵\n",
    "X_train,Y_train,X_test,Y_test=dataset_create(mdata2,0.8)#0.9"
   ]
  },
  {
   "cell_type": "code",
   "execution_count": 16,
   "metadata": {},
   "outputs": [
    {
     "name": "stderr",
     "output_type": "stream",
     "text": [
      "/opt/conda/lib/python3.7/site-packages/ipykernel_launcher.py:43: UserWarning: Update your `Dense` call to the Keras 2 API: `Dense(input_dim=12, units=600)`\n",
      "/opt/conda/lib/python3.7/site-packages/ipykernel_launcher.py:45: UserWarning: Update your `Dense` call to the Keras 2 API: `Dense(input_dim=600, units=180)`\n",
      "/opt/conda/lib/python3.7/site-packages/ipykernel_launcher.py:47: UserWarning: Update your `Dense` call to the Keras 2 API: `Dense(input_dim=180, units=70)`\n",
      "/opt/conda/lib/python3.7/site-packages/ipykernel_launcher.py:50: UserWarning: Update your `Dense` call to the Keras 2 API: `Dense(input_dim=70, units=15)`\n",
      "/opt/conda/lib/python3.7/site-packages/ipykernel_launcher.py:52: UserWarning: Update your `Dense` call to the Keras 2 API: `Dense(input_dim=15, units=1)`\n",
      "/opt/conda/lib/python3.7/site-packages/ipykernel_launcher.py:55: UserWarning: The `nb_epoch` argument in `fit` has been renamed `epochs`.\n"
     ]
    },
    {
     "name": "stdout",
     "output_type": "stream",
     "text": [
      "8000/8000 [==============================] - 0s 22us/step\n",
      "2000/2000 [==============================] - 0s 22us/step\n",
      "dict_keys(['val_loss', 'val_accuracy', 'loss', 'accuracy'])\n",
      "BP模型结束\n",
      "模型训练集平均正确率为：0.995\n",
      "              precision    recall  f1-score   support\n",
      "\n",
      "         0.0       0.99      1.00      1.00      7193\n",
      "         1.0       1.00      0.95      0.98       807\n",
      "\n",
      "    accuracy                           1.00      8000\n",
      "   macro avg       1.00      0.98      0.99      8000\n",
      "weighted avg       1.00      1.00      1.00      8000\n",
      "\n",
      "模型测试集平均正确率为：0.998\n",
      "              precision    recall  f1-score   support\n",
      "\n",
      "         0.0       1.00      1.00      1.00      1807\n",
      "         1.0       1.00      0.97      0.99       193\n",
      "\n",
      "    accuracy                           1.00      2000\n",
      "   macro avg       1.00      0.99      0.99      2000\n",
      "weighted avg       1.00      1.00      1.00      2000\n",
      "\n"
     ]
    },
    {
     "data": {
      "image/png": "[encoded data removed]",
      "text/plain": [
       "<Figure size 432x288 with 1 Axes>"
      ]
     },
     "metadata": {
      "needs_background": "light"
     },
     "output_type": "display_data"
    },
    {
     "data": {
      "image/png": "[encoded data removed]",
      "text/plain": [
       "<Figure size 432x288 with 1 Axes>"
      ]
     },
     "metadata": {
      "needs_background": "light"
     },
     "output_type": "display_data"
    },
    {
     "name": "stdout",
     "output_type": "stream",
     "text": [
      "BP模型结束\n"
     ]
    }
   ],
   "source": [
    "#####筛选特征BP模型评估\n",
    "models='BP'#'SVM'#'LR'\n",
    "model,pred,pred0=submit_models(X_train,Y_train,X_test,Y_test,models)"
   ]
  },
  {
   "cell_type": "code",
   "execution_count": 17,
   "metadata": {},
   "outputs": [
    {
     "data": {
      "image/png": "[encoded data removed]",
      "text/plain": [
       "<Figure size 288x288 with 2 Axes>"
      ]
     },
     "metadata": {
      "needs_background": "light"
     },
     "output_type": "display_data"
    },
    {
     "data": {
      "image/png": "[encoded data removed]",
      "text/plain": [
       "<Figure size 288x288 with 2 Axes>"
      ]
     },
     "metadata": {
      "needs_background": "light"
     },
     "output_type": "display_data"
    },
    {
     "name": "stdout",
     "output_type": "stream",
     "text": [
      "auc: 0.9964412771538348\n",
      "auc: 0.9989620101447738\n"
     ]
    },
    {
     "data": {
      "text/plain": [
       "<Figure size 432x288 with 0 Axes>"
      ]
     },
     "metadata": {},
     "output_type": "display_data"
    },
    {
     "data": {
      "image/png": "[encoded data removed]",
      "text/plain": [
       "<Figure size 720x720 with 1 Axes>"
      ]
     },
     "metadata": {
      "needs_background": "light"
     },
     "output_type": "display_data"
    }
   ],
   "source": [
    "cm_plot(Y_train,pred,title=\"%s_train_original\"%models).show() #显示混淆矩阵可视化结果\n",
    "cm_plot(Y_test,pred0,title=\"%s_test_original\"%models).show() #显示混淆矩阵可视化结果\n",
    "pred_roc0 = model.predict_proba(X_test)#[:,1]\n",
    "pred_roc = model.predict_proba(X_train)#[:,1]\n",
    "roc_plot(Y_train,pred_roc,Y_test,pred_roc0,models)"
   ]
  },
  {
   "cell_type": "code",
   "execution_count": 18,
   "metadata": {},
   "outputs": [
    {
     "name": "stderr",
     "output_type": "stream",
     "text": [
      "/opt/conda/lib/python3.7/site-packages/ipykernel_launcher.py:9: FutureWarning: Method .as_matrix will be removed in a future version. Use .values instead.\n",
      "  if __name__ == '__main__':\n"
     ]
    },
    {
     "name": "stdout",
     "output_type": "stream",
     "text": [
      "User-id:20\n",
      "程序开始运行时间为：2019-12-20 23:22:25.913204\n",
      "程序结束运行时间为：2019-12-20 23:22:26.259757\n",
      "程序运行时间（去除打分耗时）为：0.346553\n",
      "程序的准确率为：97.32445206\n",
      "最终得分为：97.59200685\n"
     ]
    },
    {
     "name": "stderr",
     "output_type": "stream",
     "text": [
      "/opt/conda/lib/python3.7/site-packages/ipykernel_launcher.py:32: FutureWarning: Method .as_matrix will be removed in a future version. Use .values instead.\n"
     ]
    },
    {
     "name": "stdout",
     "output_type": "stream",
     "text": [
      "User-id:20\n",
      "程序开始运行时间为：2019-12-20 23:22:26.304211\n",
      "程序结束运行时间为：2019-12-20 23:22:26.533336\n",
      "程序运行时间（去除打分耗时）为：0.229125\n",
      "程序的准确率为：90.00623863\n",
      "最终得分为：91.00561477\n"
     ]
    }
   ],
   "source": [
    "#用测试集（训练集其中的1000条数据）来实现打分，传输自己的结果和测试集数据\n",
    "#提交选手id，这一步必须先于模型训练之前，否则判断坐标\n",
    "featurelist=featurelist2\n",
    "modelname='BP'#'BP'\n",
    "get_score.post_user_id('20')\n",
    "user_test_data = create_test_train_data(featurelist,modelname)\n",
    "'''\n",
    "提交随机产生的答案和测试集数据，都是dataframe格式，两者有相同列'zjnsrsbh'，用于拼接\n",
    "其中user_test_data只有两个字段'zjnsrsbh'和'Probability','Probability'中应为自己模型训练出的结果概率，\n",
    "概率值应为[0,1]之间\n",
    "返回结果：选手id，程序开始运行时间，程序结束运行时间，程序耗时，代码分，最终分（代码分和时间分）\n",
    "测试集分数不参与打榜'''\n",
    "\n",
    "get_score.post_test_data(user_test_data,train_data)\n",
    "'''\n",
    "#提交选手id，这一步必须先于模型训练之前\n",
    "#用训练集所有的数据（9999）条来打分，只传输自己得出的结果\n",
    "#其中user_verify_data只有两个字段'zjnsrsbh'和'Probability','Probability'中应为自己模型训练出的结果概率，\n",
    "#概率值应为[0,1]之间'''\n",
    "get_score.post_user_id('20')\n",
    "user_verify_data = create_verify_train_data(featurelist,modelname)\n",
    "# 提交验证集进行打榜\n",
    "get_score.post_verify_data(user_verify_data)"
   ]
  },
  {
   "cell_type": "code",
   "execution_count": null,
   "metadata": {},
   "outputs": [],
   "source": []
  },
  {
   "cell_type": "code",
   "execution_count": null,
   "metadata": {},
   "outputs": [],
   "source": []
  },
  {
   "cell_type": "code",
   "execution_count": null,
   "metadata": {},
   "outputs": [],
   "source": []
  },
  {
   "cell_type": "code",
   "execution_count": null,
   "metadata": {},
   "outputs": [],
   "source": []
  }
 ],
 "metadata": {
  "kernelspec": {
   "display_name": "Python 3",
   "language": "python",
   "name": "python3"
  },
  "language_info": {
   "codemirror_mode": {
    "name": "ipython",
    "version": 3
   },
   "file_extension": ".py",
   "mimetype": "text/x-python",
   "name": "python",
   "nbconvert_exporter": "python",
   "pygments_lexer": "ipython3",
   "version": "3.6.5"
  }
 },
 "nbformat": 4,
 "nbformat_minor": 2
}
