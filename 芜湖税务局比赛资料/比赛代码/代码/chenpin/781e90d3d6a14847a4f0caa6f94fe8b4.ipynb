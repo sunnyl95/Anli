{
 "cells": [
  {
   "cell_type": "code",
   "execution_count": 31,
   "metadata": {
    "tags": [
     "parameters"
    ]
   },
   "outputs": [],
   "source": [
    "# 输入数据的参数\n",
    "_TRAINSET1='{\"name\":\"trainset1\",\"type\":0,\"uri\":\"tmp_f3e3796135a8457e90f87536d759881b\"}'\n",
    "_TRAINSET2='{\"name\":\"trainset2\",\"type\":0,\"uri\":\"tmp_a90dbcba9ae14afaa171ed071cd126ea\"}'\n",
    "_TESTSETA='{\"name\":\"testsetA\",\"type\":0,\"uri\":\"tmp_c4e991086e684bddafeaac9de2666e07\"}'\n",
    "_TESTSETB='{\"name\":\"testsetB\",\"type\":0,\"uri\":\"tmp_03d402d824cf42e582b6646f7db46700\"}'\n",
    "\n",
    "# 输出数据的参数\n",
    "_OUTPUT='[{\"name\":\"output1\",\"type\":0,\"uri\":\"tmp_79a44162f38f41738d6e4f577ef9c56f\"},{\"name\":\"output2\",\"type\":0,\"uri\":\"tmp_3aef3c05ffa440038c4dac859e56276d\"},{\"name\":\"output3\",\"type\":0,\"uri\":\"tmp_0cac478beda54db795a7dd5348526e53\"},{\"name\":\"output4\",\"type\":0,\"uri\":\"tmp_e5905eb6dedd4a0d92a2e427b3084426\"}]'\n",
    "\n",
    "# 自定义参数\n"
   ]
  },
  {
   "cell_type": "markdown",
   "metadata": {},
   "source": [
    "## 安装"
   ]
  },
  {
   "cell_type": "code",
   "execution_count": 32,
   "metadata": {},
   "outputs": [
    {
     "name": "stdout",
     "output_type": "stream",
     "text": [
      "Looking in indexes: http://mirrors.aliyun.com/pypi/simple\n",
      "Requirement already satisfied: fastai in /opt/conda/lib/python3.7/site-packages (1.0.59)\n",
      "Requirement already satisfied: numpy>=1.15 in /opt/conda/lib/python3.7/site-packages (from fastai) (1.16.4)\n",
      "Requirement already satisfied: numexpr in /opt/conda/lib/python3.7/site-packages (from fastai) (2.7.0)\n",
      "Requirement already satisfied: beautifulsoup4 in /opt/conda/lib/python3.7/site-packages (from fastai) (4.8.1)\n",
      "Requirement already satisfied: torch>=1.0.0 in /opt/conda/lib/python3.7/site-packages (from fastai) (1.3.1)\n",
      "Requirement already satisfied: pyyaml in /opt/conda/lib/python3.7/site-packages (from fastai) (5.2)\n",
      "Requirement already satisfied: nvidia-ml-py3 in /opt/conda/lib/python3.7/site-packages (from fastai) (7.352.0)\n",
      "Requirement already satisfied: pandas in /opt/conda/lib/python3.7/site-packages (from fastai) (0.24.2)\n",
      "Requirement already satisfied: torchvision in /opt/conda/lib/python3.7/site-packages (from fastai) (0.4.2)\n",
      "Requirement already satisfied: requests in /opt/conda/lib/python3.7/site-packages (from fastai) (2.22.0)\n",
      "Requirement already satisfied: fastprogress>=0.1.19 in /opt/conda/lib/python3.7/site-packages (from fastai) (0.1.22)\n",
      "Requirement already satisfied: spacy>=2.0.18 in /opt/conda/lib/python3.7/site-packages (from fastai) (2.2.3)\n",
      "Requirement already satisfied: Pillow in /opt/conda/lib/python3.7/site-packages (from fastai) (6.2.1)\n",
      "Requirement already satisfied: scipy in /opt/conda/lib/python3.7/site-packages (from fastai) (1.3.0)\n",
      "Requirement already satisfied: bottleneck in /opt/conda/lib/python3.7/site-packages (from fastai) (1.3.1)\n",
      "Requirement already satisfied: matplotlib in /opt/conda/lib/python3.7/site-packages (from fastai) (3.1.1)\n",
      "Requirement already satisfied: packaging in /opt/conda/lib/python3.7/site-packages (from fastai) (19.2)\n",
      "Requirement already satisfied: soupsieve>=1.2 in /opt/conda/lib/python3.7/site-packages (from beautifulsoup4->fastai) (1.9.5)\n",
      "Requirement already satisfied: pytz>=2011k in /opt/conda/lib/python3.7/site-packages (from pandas->fastai) (2019.1)\n",
      "Requirement already satisfied: python-dateutil>=2.5.0 in /opt/conda/lib/python3.7/site-packages (from pandas->fastai) (2.8.0)\n",
      "Requirement already satisfied: six in /opt/conda/lib/python3.7/site-packages (from torchvision->fastai) (1.12.0)\n",
      "Requirement already satisfied: chardet<3.1.0,>=3.0.2 in /opt/conda/lib/python3.7/site-packages (from requests->fastai) (3.0.4)\n",
      "Requirement already satisfied: urllib3!=1.25.0,!=1.25.1,<1.26,>=1.21.1 in /opt/conda/lib/python3.7/site-packages (from requests->fastai) (1.25.3)\n",
      "Requirement already satisfied: idna<2.9,>=2.5 in /opt/conda/lib/python3.7/site-packages (from requests->fastai) (2.8)\n",
      "Requirement already satisfied: certifi>=2017.4.17 in /opt/conda/lib/python3.7/site-packages (from requests->fastai) (2019.6.16)\n",
      "Requirement already satisfied: plac<1.2.0,>=0.9.6 in /opt/conda/lib/python3.7/site-packages (from spacy>=2.0.18->fastai) (1.1.3)\n",
      "Requirement already satisfied: preshed<3.1.0,>=3.0.2 in /opt/conda/lib/python3.7/site-packages (from spacy>=2.0.18->fastai) (3.0.2)\n",
      "Requirement already satisfied: cymem<2.1.0,>=2.0.2 in /opt/conda/lib/python3.7/site-packages (from spacy>=2.0.18->fastai) (2.0.3)\n",
      "Requirement already satisfied: blis<0.5.0,>=0.4.0 in /opt/conda/lib/python3.7/site-packages (from spacy>=2.0.18->fastai) (0.4.1)\n",
      "Requirement already satisfied: wasabi<1.1.0,>=0.4.0 in /opt/conda/lib/python3.7/site-packages (from spacy>=2.0.18->fastai) (0.4.2)\n",
      "Requirement already satisfied: murmurhash<1.1.0,>=0.28.0 in /opt/conda/lib/python3.7/site-packages (from spacy>=2.0.18->fastai) (1.0.2)\n",
      "Requirement already satisfied: srsly<1.1.0,>=0.1.0 in /opt/conda/lib/python3.7/site-packages (from spacy>=2.0.18->fastai) (0.2.0)\n",
      "Requirement already satisfied: thinc<7.4.0,>=7.3.0 in /opt/conda/lib/python3.7/site-packages (from spacy>=2.0.18->fastai) (7.3.1)\n",
      "Requirement already satisfied: catalogue<1.1.0,>=0.0.7 in /opt/conda/lib/python3.7/site-packages (from spacy>=2.0.18->fastai) (0.0.8)\n",
      "Requirement already satisfied: setuptools in /opt/conda/lib/python3.7/site-packages (from spacy>=2.0.18->fastai) (41.0.1)\n",
      "Requirement already satisfied: pyparsing!=2.0.4,!=2.1.2,!=2.1.6,>=2.0.1 in /opt/conda/lib/python3.7/site-packages (from matplotlib->fastai) (2.4.0)\n",
      "Requirement already satisfied: cycler>=0.10 in /opt/conda/lib/python3.7/site-packages (from matplotlib->fastai) (0.10.0)\n",
      "Requirement already satisfied: kiwisolver>=1.0.1 in /opt/conda/lib/python3.7/site-packages (from matplotlib->fastai) (1.1.0)\n",
      "Requirement already satisfied: tqdm<5.0.0,>=4.10.0 in /opt/conda/lib/python3.7/site-packages (from thinc<7.4.0,>=7.3.0->spacy>=2.0.18->fastai) (4.32.2)\n",
      "Requirement already satisfied: importlib-metadata>=0.20; python_version < \"3.8\" in /opt/conda/lib/python3.7/site-packages (from catalogue<1.1.0,>=0.0.7->spacy>=2.0.18->fastai) (1.3.0)\n",
      "Requirement already satisfied: zipp>=0.5 in /opt/conda/lib/python3.7/site-packages (from importlib-metadata>=0.20; python_version < \"3.8\"->catalogue<1.1.0,>=0.0.7->spacy>=2.0.18->fastai) (0.6.0)\n",
      "Requirement already satisfied: more-itertools in /opt/conda/lib/python3.7/site-packages (from zipp>=0.5->importlib-metadata>=0.20; python_version < \"3.8\"->catalogue<1.1.0,>=0.0.7->spacy>=2.0.18->fastai) (8.0.2)\n",
      "installation ends\n"
     ]
    }
   ],
   "source": [
    "# install fastai\n",
    "!pip install fastai\n",
    "print('installation ends')"
   ]
  },
  {
   "cell_type": "markdown",
   "metadata": {},
   "source": [
    "## 训练"
   ]
  },
  {
   "cell_type": "code",
   "execution_count": 33,
   "metadata": {},
   "outputs": [],
   "source": [
    "import wfio\n",
    "import pandas as pd\n",
    "from pandas.core.frame import DataFrame\n",
    "\n",
    "# preprocess\n",
    "import time\n",
    "import datetime\n",
    "\n",
    "from fastai import *\n",
    "from fastai.tabular import *\n",
    "\n",
    "from ustciscrBDL_B import get_score\n",
    "\n",
    "import matplotlib.pyplot as plt\n",
    "import random\n",
    "\n",
    "trainset1 = wfio.read_dataframe(_TRAINSET1)\n",
    "trainset2 = wfio.read_dataframe(_TRAINSET2)\n",
    "# testseta = wfio.read_dataframe(_TESTSETA)\n",
    "# testseta['yc'] = 0\n",
    "testsetb = wfio.read_dataframe(_TESTSETB)\n",
    "testsetb['yc'] = 0"
   ]
  },
  {
   "cell_type": "markdown",
   "metadata": {},
   "source": [
    "### 合并trainset 1 2 到 trainset"
   ]
  },
  {
   "cell_type": "code",
   "execution_count": 34,
   "metadata": {},
   "outputs": [
    {
     "name": "stdout",
     "output_type": "stream",
     "text": [
      "114\n",
      "Index(['2019q4rkse', 'bsrxm', 'bsrxmmp', 'cyrs', 'djrq', 'fdbrxmp', 'fddbrxm',\n",
      "       'hy', 'hydl', 'hyml', 'hyzl', 'jyfw', 'nsrmc', 'scjydz', 'xzjd', 'yc',\n",
      "       'zcdz', 'zczb'],\n",
      "      dtype='object')\n"
     ]
    }
   ],
   "source": [
    "trainset = pd.DataFrame()\n",
    "# 前96个税务属性直接拼接\n",
    "for i in range(96):\n",
    "    attr = str(trainset2.columns[i])\n",
    "    trainset[attr] = pd.concat([trainset1[attr], trainset2[attr]])\n",
    "\n",
    "# 后18个企业属性\n",
    "t1_attrs = ['cwryxm','cwrysjh',\n",
    "'cyrs', 'djkyrq',\n",
    "'frsjh', 'fddbrxm',\n",
    "'xy', 'xydl', 'xyml', 'xyzl', 'jyfw',\n",
    "'nsrmc',\n",
    "'scjydz', 'jdxz',\n",
    "'yc', \n",
    "'zcdz', 'zczby', 'zjnsrsbh'\n",
    "]\n",
    "for i in range(96,114):\n",
    "    t1_attr = t1_attrs[i-96]\n",
    "    attr = str(trainset2.columns[i])\n",
    "    trainset[attr] = pd.concat([trainset1[t1_attr], trainset2[attr]])\n",
    "\n",
    "print(trainset.columns.size)\n",
    "print(trainset.columns[-1-18:-1])"
   ]
  },
  {
   "cell_type": "markdown",
   "metadata": {},
   "source": [
    "### 登记日期 转为距今（2019-12-32）多少"
   ]
  },
  {
   "cell_type": "code",
   "execution_count": 35,
   "metadata": {},
   "outputs": [],
   "source": [
    "# def transform_attr_djrq(df):\n",
    "#     for index, row in df.iterrows():\n",
    "#         start = str(row['djrq'])\n",
    "#         end = '2019-12-31 00:00:00'\n",
    "#         try:\n",
    "#             start=time.strptime(start, \"%Y-%m-%d %H:%M:%S\")\n",
    "#         except ValueError:\n",
    "#             start=time.strptime(start, \"%Y-%m-%d\")\n",
    "#         end=time.strptime(end, \"%Y-%m-%d %H:%M:%S\")\n",
    "#         userStart=datetime.datetime(start[0],start[1],start[2])\n",
    "#         userEnd=datetime.datetime(end[0],end[1],end[2])\n",
    "#         res = (userEnd-userStart).days\n",
    "#         row['djrq'] = res\n",
    "\n",
    "# datasets = [trainset, testseta, testsetb]\n",
    "# for dataset in datasets:\n",
    "#     transform_attr_djrq(dataset)"
   ]
  },
  {
   "cell_type": "markdown",
   "metadata": {},
   "source": [
    "### 增加属性：开票比例、进项税额、应纳税额、欠税"
   ]
  },
  {
   "cell_type": "code",
   "execution_count": 36,
   "metadata": {},
   "outputs": [],
   "source": [
    "def add_tax_attrs(df):\n",
    "    kpbl=[]; jxse=[]; ynse=[]; qs=[]\n",
    "    for i in range(12):\n",
    "        kpbl.append([]); jxse.append([]); ynse.append([]); qs.append([])\n",
    "\n",
    "    for index, row in df.iterrows():\n",
    "        for yn in range(3):\n",
    "            for sn in range(4):\n",
    "                prefix = str(2017+yn)+'q'+str(sn+1)\n",
    "                i = yn*4+sn # 12季度中的第几季度(从0开始)\n",
    "                attr_names = []\n",
    "                for attr_body in ['kps', 'fphdsl',\n",
    "                    'jxje', 'jxsl',\n",
    "                    'kpse',\n",
    "                    'rkse'\n",
    "                ]: attr_names.append(prefix+attr_body)\n",
    "                \n",
    "                try: kps=float(row[attr_names[0]]);\n",
    "                except: kps=0\n",
    "                try: fphdsl=float(row[attr_names[1]])\n",
    "                except: fphdsl=0\n",
    "                try: jxje=float(row[attr_names[2]])\n",
    "                except: jxje=0\n",
    "                try: jxsl=float(row[attr_names[3]])\n",
    "                except: jxsl=0\n",
    "                try: kpse=float(row[attr_names[4]])\n",
    "                except: kpse=0\n",
    "                try: rkse=float(row[attr_names[5]])\n",
    "                except: rkse=0\n",
    "                \n",
    "\n",
    "                # 开票数\n",
    "                if fphdsl>0: kpbl[i].append(kps/fphdsl)\n",
    "                else: kpbl[i].append(kps)\n",
    "                # 进项税额\n",
    "                tmp_jxse = jxje * jxsl\n",
    "                jxse[i].append(tmp_jxse)\n",
    "                # 应纳税额\n",
    "                tmp_ynse = kpse - tmp_jxse * (jxsl >= 0.03)\n",
    "                ynse[i].append(tmp_ynse)\n",
    "                # 欠税\n",
    "                tmp_qs = tmp_ynse - rkse\n",
    "                if tmp_qs>0: qs[i].append(tmp_qs)\n",
    "                else: qs[i].append(0)\n",
    "\n",
    "    # 走完所有row\n",
    "    for yn in range(3):\n",
    "            for sn in range(4):\n",
    "                prefix = str(2017+yn)+'q'+str(sn+1)\n",
    "                i = yn*4+sn # 12季度中的第几季度(从0开始)\n",
    "                attr_names = []\n",
    "                for attr_body in ['kpbl', 'jxse', 'ynse', 'qs']:\n",
    "                    attr_names.append(prefix+attr_body)\n",
    "                df[attr_names[0]] = kpbl[i]\n",
    "                df[attr_names[1]] = jxse[i]\n",
    "                df[attr_names[2]] = ynse[i]\n",
    "                df[attr_names[3]] = qs[i]\n",
    "\n",
    "datasets = [trainset, testsetb]\n",
    "for dset in datasets:\n",
    "    add_tax_attrs(dset)"
   ]
  },
  {
   "cell_type": "markdown",
   "metadata": {},
   "source": [
    "### 修正列类型"
   ]
  },
  {
   "cell_type": "code",
   "execution_count": 37,
   "metadata": {},
   "outputs": [
    {
     "name": "stdout",
     "output_type": "stream",
     "text": [
      "--------check column dtype-----------\n",
      "--------first 96 tax attrs--------\n",
      "take one season (8 attrs) to represent\n",
      "2017q1fphdsl\tint64\n",
      "2017q1jxje\tfloat64\n",
      "2017q1jxsl\tfloat64\n",
      "2017q1kpje\tfloat64\n",
      "2017q1kps\tint64\n",
      "2017q1kpse\tfloat64\n",
      "2017q1kpsl\tfloat64\n",
      "2017q1rkse\tfloat64\n",
      "-----------mid 14 company attrs-----------\n",
      "fdbrxmp\tobject\n",
      "fddbrxm\tobject\n",
      "hy\tobject\n",
      "hydl\tobject\n",
      "hyml\tobject\n",
      "hyzl\tobject\n",
      "jyfw\tobject\n",
      "nsrmc\tobject\n",
      "scjydz\tobject\n",
      "xzjd\tobject\n",
      "yc\tint64\n",
      "zcdz\tobject\n",
      "zczb\tfloat64\n",
      "zjnsrsbh\tobject\n",
      "-----------last 48 tax attrs-----------\n",
      "take one season (4 attrs) to represent\n",
      "2017q1kpbl\tfloat64\n",
      "2017q1jxse\tfloat64\n",
      "2017q1ynse\tfloat64\n",
      "2017q1qs\tfloat64\n"
     ]
    }
   ],
   "source": [
    "# 修正列类型\n",
    "def correct_dtypes(df):\n",
    "    cols = df.columns\n",
    "    # 前8*12=96个税务属性\n",
    "    for i in range(96):\n",
    "        attr = cols[i]\n",
    "        df[attr] = pd.to_numeric(df[attr], errors='coerce').fillna(0)\n",
    "    # 尾4*12=48个税务属性\n",
    "    for i in range(114,114+48):\n",
    "        attr = cols[i]\n",
    "        df[attr] = pd.to_numeric(df[attr], errors='coerce').fillna(0)\n",
    "    # 企业属性和异常属性\n",
    "    for attr in ['cyrs', 'djrq', 'yc', 'zczb']:\n",
    "        df[attr] = pd.to_numeric(df[attr], errors='coerce').fillna(0)\n",
    "\n",
    "# 查看各列属性\n",
    "def show_dtypes(df):\n",
    "    cols = df.columns\n",
    "    print('--------check column dtype-----------')\n",
    "    print('--------first 96 tax attrs--------')\n",
    "    print('take one season (8 attrs) to represent')\n",
    "    for i in range(8):\n",
    "        print(cols[i], end='\\t')\n",
    "        print(trainset[cols[i]].dtype)\n",
    "    print('-----------mid 14 company attrs-----------')\n",
    "    for i in range(100, 114):\n",
    "        print(cols[i], end='\\t')\n",
    "        print(trainset[cols[i]].dtype)\n",
    "    print('-----------last 48 tax attrs-----------')\n",
    "    print('take one season (4 attrs) to represent')\n",
    "    for i in range(114,114+4):\n",
    "        print(cols[i], end='\\t')\n",
    "        print(trainset[cols[i]].dtype)\n",
    "\n",
    "correct_dtypes(trainset)\n",
    "show_dtypes(trainset)\n",
    "correct_dtypes(testsetb)"
   ]
  },
  {
   "cell_type": "markdown",
   "metadata": {},
   "source": [
    "### 模型参数"
   ]
  },
  {
   "cell_type": "code",
   "execution_count": 38,
   "metadata": {},
   "outputs": [
    {
     "name": "stdout",
     "output_type": "stream",
     "text": [
      "mkdir: cannot create directory ‘model’: File exists\n",
      "model\n"
     ]
    }
   ],
   "source": [
    "!mkdir model\n",
    "!ls"
   ]
  },
  {
   "cell_type": "code",
   "execution_count": 39,
   "metadata": {},
   "outputs": [
    {
     "data": {
      "text/plain": [
       "TabularModel(\n",
       "  (embeds): ModuleList(\n",
       "    (0): Embedding(9417, 269)\n",
       "    (1): Embedding(11288, 298)\n",
       "    (2): Embedding(576, 56)\n",
       "    (3): Embedding(312, 40)\n",
       "    (4): Embedding(16501, 368)\n",
       "  )\n",
       "  (emb_drop): Dropout(p=0.1, inplace=False)\n",
       "  (bn_cont): BatchNorm1d(146, eps=1e-05, momentum=0.1, affine=True, track_running_stats=True)\n",
       "  (layers): Sequential(\n",
       "    (0): Linear(in_features=1177, out_features=500, bias=True)\n",
       "    (1): ReLU(inplace=True)\n",
       "    (2): BatchNorm1d(500, eps=1e-05, momentum=0.1, affine=True, track_running_stats=True)\n",
       "    (3): Dropout(p=0.001, inplace=False)\n",
       "    (4): Linear(in_features=500, out_features=300, bias=True)\n",
       "    (5): ReLU(inplace=True)\n",
       "    (6): BatchNorm1d(300, eps=1e-05, momentum=0.1, affine=True, track_running_stats=True)\n",
       "    (7): Dropout(p=0.01, inplace=False)\n",
       "    (8): Linear(in_features=300, out_features=2, bias=True)\n",
       "  )\n",
       ")"
      ]
     },
     "execution_count": 39,
     "metadata": {},
     "output_type": "execute_result"
    }
   ],
   "source": [
    "# 缺失值，分类值，连续值的处理方法\n",
    "procs = [FillMissing, Categorify, Normalize]\n",
    "\n",
    "# 报税人姓名bsrxm\n",
    "# 法定代表人姓名fddbrxm,\n",
    "# 行业hy, 行业中类hyzl,\n",
    "# 纳税人名称nsrmc, \n",
    "cat_names3 = [\n",
    "    'bsrxm',\n",
    "    'fddbrxm',\n",
    "    'hy', 'hyzl',\n",
    "    'nsrmc'\n",
    "]\n",
    "\n",
    "# 从业人数 cyrs, \n",
    "# 注册资本zczb, \n",
    "# 开票数kps，开票比例 kpbl，\n",
    "# 进项金额jxje，进项税额jxse，\n",
    "# 开票金额kpje，开票税额kpse，\n",
    "# 应纳税额ynse，入库金额rkse，欠税qs\n",
    "cont_names3 = [\n",
    "    'cyrs',\n",
    "    'zczb'\n",
    "]\n",
    "for yn in range(3): # year num\n",
    "    for sn in range(4): # seasom num\n",
    "        prefix = str(2017+yn)+'q'+str(sn+1)\n",
    "        for attr in [\n",
    "            'kps', 'fphdsl', 'kpbl',\n",
    "            'jxje', 'jxsl', 'jxse',\n",
    "            'kpje', 'kpsl', 'kpse',\n",
    "            'ynse', 'rkse',  'qs'\n",
    "        ]:\n",
    "            attr = prefix + attr\n",
    "            cont_names3.append(attr)\n",
    "            \n",
    "# 因变量\n",
    "dep_var = 'yc'\n",
    "\n",
    "path = 'model' # 存放训练过程中产生的数据，如模型\n",
    "\n",
    "# n = len(trainset)\n",
    "# valid_idx = range(int(n*0.8), n) # 后20% 4千条作验证集，即trainset2的40%\n",
    "\n",
    "valid_idx = []\n",
    "traindata = TabularDataBunch.from_df(path, trainset, dep_var, valid_idx, procs, cat_names3, cont_names3, test_df=testsetb)\n",
    "\n",
    "learn6 = tabular_learner(traindata, layers=[500,300], ps=[0.001,0.01], emb_drop=0.1, metrics=accuracy)\n",
    "learn6.model"
   ]
  },
  {
   "cell_type": "code",
   "execution_count": 40,
   "metadata": {},
   "outputs": [
    {
     "data": {
      "text/html": [
       "<table border=\"1\" class=\"dataframe\">\n",
       "  <thead>\n",
       "    <tr style=\"text-align: left;\">\n",
       "      <th>epoch</th>\n",
       "      <th>train_loss</th>\n",
       "      <th>valid_loss</th>\n",
       "      <th>accuracy</th>\n",
       "      <th>time</th>\n",
       "    </tr>\n",
       "  </thead>\n",
       "  <tbody>\n",
       "    <tr>\n",
       "      <td>0</td>\n",
       "      <td>0.045691</td>\n",
       "      <td>#na#</td>\n",
       "      <td>05:49</td>\n",
       "    </tr>\n",
       "  </tbody>\n",
       "</table>"
      ],
      "text/plain": [
       "<IPython.core.display.HTML object>"
      ]
     },
     "metadata": {},
     "output_type": "display_data"
    },
    {
     "data": {
      "text/plain": [
       "PosixPath('model/models/model6.pth')"
      ]
     },
     "execution_count": 40,
     "metadata": {},
     "output_type": "execute_result"
    }
   ],
   "source": [
    "learn6.fit_one_cycle(1, 1e-2, wd=0.2)\n",
    "learn6.save('model6', return_path=True)"
   ]
  },
  {
   "cell_type": "markdown",
   "metadata": {},
   "source": [
    "## 测试"
   ]
  },
  {
   "cell_type": "code",
   "execution_count": 41,
   "metadata": {},
   "outputs": [
    {
     "data": {
      "text/html": [],
      "text/plain": [
       "<IPython.core.display.HTML object>"
      ]
     },
     "metadata": {},
     "output_type": "display_data"
    },
    {
     "name": "stdout",
     "output_type": "stream",
     "text": [
      "------------概率yc[0,1]的分数---------------\n",
      "User-id:18\n",
      "程序开始运行时间为：2019-12-22 14:36:08.313582\n",
      "程序结束运行时间为：2019-12-22 14:36:09.700410\n",
      "程序运行时间（去除打分耗时）为：1.386828\n",
      "程序的准确率为：90.23486265\n",
      "最终得分为：91.21137638\n"
     ]
    }
   ],
   "source": [
    "get_score.post_user_id('18')\n",
    "preds6, y6 = learn6.get_preds(DatasetType.Test)\n",
    "\n",
    "tb6 = pd.DataFrame()\n",
    "tb6['zjnsrsbh'] = testsetb['zjnsrsbh']\n",
    "\n",
    "# 概率yc[0,1]的分数\n",
    "pr = preds6.narrow(dim=1, start=1, length=1).tolist()\n",
    "pr = [x[0] for x in pr]\n",
    "tb6['Probability'] = pr\n",
    "print('------------概率yc[0,1]的分数---------------')\n",
    "get_score.post_verify_data(tb6)"
   ]
  }
 ],
 "metadata": {
  "kernelspec": {
   "display_name": "Python 3",
   "language": "python",
   "name": "python3"
  },
  "language_info": {
   "codemirror_mode": {
    "name": "ipython",
    "version": 3
   },
   "file_extension": ".py",
   "mimetype": "text/x-python",
   "name": "python",
   "nbconvert_exporter": "python",
   "pygments_lexer": "ipython3",
   "version": "3.8.5"
  },
  "toc": {
   "base_numbering": 1,
   "nav_menu": {},
   "number_sections": true,
   "sideBar": true,
   "skip_h1_title": false,
   "title_cell": "Table of Contents",
   "title_sidebar": "Contents",
   "toc_cell": false,
   "toc_position": {},
   "toc_section_display": true,
   "toc_window_display": false
  }
 },
 "nbformat": 4,
 "nbformat_minor": 2
}
