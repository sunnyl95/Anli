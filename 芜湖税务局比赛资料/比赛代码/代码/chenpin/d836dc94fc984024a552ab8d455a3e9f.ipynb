{
 "cells": [
  {
   "cell_type": "code",
   "execution_count": 4,
   "metadata": {
    "tags": [
     "parameters"
    ]
   },
   "outputs": [],
   "source": [
    "# 输入数据的参数\n",
    "_TRAINSET1='{\"name\":\"trainset1\",\"type\":0,\"uri\":\"tmp_f3e3796135a8457e90f87536d759881b\"}'\n",
    "_TRAINSET2='{\"name\":\"trainset2\",\"type\":0,\"uri\":\"tmp_a90dbcba9ae14afaa171ed071cd126ea\"}'\n",
    "_TESTSETA='{\"name\":\"testsetA\",\"type\":0,\"uri\":\"tmp_c4e991086e684bddafeaac9de2666e07\"}'\n",
    "_TESTSETB='{\"name\":\"testsetB\",\"type\":0,\"uri\":\"tmp_03d402d824cf42e582b6646f7db46700\"}'\n",
    "\n",
    "# 输出数据的参数\n",
    "_OUTPUT='[{\"name\":\"output1\",\"type\":0,\"uri\":\"tmp_3a454c7ce17b4969bf657015fbd42c27\"},{\"name\":\"output2\",\"type\":0,\"uri\":\"tmp_b43a1a3625514c29a85eccf5be2221c9\"},{\"name\":\"output3\",\"type\":0,\"uri\":\"tmp_8aec5cc93c7e485c9b40422e05d0bbb6\"},{\"name\":\"output4\",\"type\":0,\"uri\":\"tmp_f4f33d1f1aa84a5cb56b964d672655e0\"}]'\n",
    "\n",
    "# 自定义参数\n"
   ]
  },
  {
   "cell_type": "markdown",
   "metadata": {},
   "source": [
    "## WHY DL\n",
    "\n",
    "[Jeremy Howrad对现有表格数据处理方法的评价](https://github.com/pinchenjohnny/wuhu-intelli-city-comp/blob/master/quote.png)\n",
    "\n",
    "（1）省去大量手动特征分析与提取。\n",
    "\n",
    "（2）泛化能力强，更好应对噪音、新情况的出现，减少维护成本。\n",
    "\n",
    "（3）实现非常简单，遵循深度学习这一类的处理方法，学习按比收益。\n",
    "\n",
    "（4）模型最低点一般较高，再差也往往比其他方法好。\n",
    "\n",
    "[DL处理表格数据原理](https://github.com/pinchenjohnny/wuhu-intelli-city-comp/blob/master/DL_process_tabular_essence.png)\n",
    "\n",
    "表格也是一种多维数据，拟合、计算的背后是矩阵乘，类似用DL作图像处理（CV）。\n",
    "\n",
    "[fastai tutorial](https://docs.fast.ai/tabular.html)"
   ]
  },
  {
   "cell_type": "markdown",
   "metadata": {},
   "source": [
    "## 安装环境"
   ]
  },
  {
   "cell_type": "markdown",
   "metadata": {},
   "source": [
    "conda安装失败且慢，用pip"
   ]
  },
  {
   "cell_type": "code",
   "execution_count": 41,
   "metadata": {},
   "outputs": [],
   "source": [
    "# conda install 安装fastai的包很慢，用pip\n",
    "# !conda config --add channels https://mirrors.tuna.tsinghua.edu.cn/anaconda/cloud/pytorch/\n",
    "# !conda config --add channels https://mirrors.tuna.tsinghua.edu.cn/anaconda/cloud/menpo/\n",
    "# !conda config --add channels https://mirrors.tuna.tsinghua.edu.cn/anaconda/cloud/bioconda/\n",
    "# !conda config --add channels https://mirrors.tuna.tsinghua.edu.cn/anaconda/cloud/msys2/\n",
    "# !conda config --add channels https://mirrors.tuna.tsinghua.edu.cn/anaconda/cloud/conda-forge/\n",
    "# !conda config --add channels https://mirrors.tuna.tsinghua.edu.cn/anaconda/pkgs/main/\n",
    "# !conda config --add channels https://mirrors.tuna.tsinghua.edu.cn/anaconda/pkgs/free/\n",
    "# !conda config --add channels https://mirrors.tuna.tsinghua.edu.cn/anaconda/cloud/conda-forge\n",
    "# !conda config --set show_channel_urls yes\n",
    "\n",
    "# !conda install pytorch torchvision cudatoolkit -y\n",
    "# !conda install -c pytorch -c fastai fastai -y\n",
    "# print('installation ends')"
   ]
  },
  {
   "cell_type": "code",
   "execution_count": null,
   "metadata": {},
   "outputs": [],
   "source": [
    "# install fastai\n",
    "!pip install fastai\n",
    "print('installation ends')"
   ]
  },
  {
   "cell_type": "markdown",
   "metadata": {},
   "source": [
    "## 准备工作"
   ]
  },
  {
   "cell_type": "code",
   "execution_count": 5,
   "metadata": {},
   "outputs": [
    {
     "name": "stdout",
     "output_type": "stream",
     "text": [
      "10000\n",
      "10000\n",
      "6000\n",
      "6000\n"
     ]
    }
   ],
   "source": [
    "import wfio\n",
    "import pandas as pd\n",
    "from pandas.core.frame import DataFrame\n",
    "\n",
    "# preprocess\n",
    "import time\n",
    "import datetime\n",
    "\n",
    "from fastai import *\n",
    "from fastai.tabular import *\n",
    "\n",
    "from ustciscrBDL_B import get_score\n",
    "\n",
    "import matplotlib.pyplot as plt\n",
    "import random\n",
    "\n",
    "trainset1 = wfio.read_dataframe(_TRAINSET1)\n",
    "trainset2 = wfio.read_dataframe(_TRAINSET2)\n",
    "testseta = wfio.read_dataframe(_TESTSETA)\n",
    "testseta['yc'] = 0\n",
    "testsetb = wfio.read_dataframe(_TESTSETB)\n",
    "testsetb['yc'] = 0\n",
    "\n",
    "for df in [trainset1, trainset2, testseta, testsetb]:\n",
    "    print(len(df))"
   ]
  },
  {
   "cell_type": "markdown",
   "metadata": {},
   "source": [
    "## 合并trainset1, trainset2 到 trainset"
   ]
  },
  {
   "cell_type": "markdown",
   "metadata": {},
   "source": [
    "trainset1,2 属性总数，有哪些属性，不同的属性"
   ]
  },
  {
   "cell_type": "code",
   "execution_count": 45,
   "metadata": {},
   "outputs": [
    {
     "name": "stdout",
     "output_type": "stream",
     "text": [
      "---trainset1---\n",
      "114\n",
      "2017q1fphdsl, 2017q1jxje, 2017q1jxsl, 2017q1kpje, 2017q1kps, 2017q1kpse, 2017q1kpsl, 2017q1rkse, 2017q2fphdsl, 2017q2jxje, 2017q2jxsl, 2017q2kpje, 2017q2kps, 2017q2kpse, 2017q2kpsl, 2017q2rkse, 2017q3fphdsl, 2017q3jxje, 2017q3jxsl, 2017q3kpje, 2017q3kps, 2017q3kpse, 2017q3kpsl, 2017q3rkse, 2017q4fphdsl, 2017q4jxje, 2017q4jxsl, 2017q4kpje, 2017q4kps, 2017q4kpse, 2017q4kpsl, 2017q4rkse, 2018q1fphdsl, 2018q1jxje, 2018q1jxsl, 2018q1kpje, 2018q1kps, 2018q1kpse, 2018q1kpsl, 2018q1rkse, 2018q2fphdsl, 2018q2jxje, 2018q2jxsl, 2018q2kpje, 2018q2kps, 2018q2kpse, 2018q2kpsl, 2018q2rkse, 2018q3fphdsl, 2018q3jxje, 2018q3jxsl, 2018q3kpje, 2018q3kps, 2018q3kpse, 2018q3kpsl, 2018q3rkse, 2018q4fphdsl, 2018q4jxje, 2018q4jxsl, 2018q4kpje, 2018q4kps, 2018q4kpse, 2018q4kpsl, 2018q4rkse, 2019q1fphdsl, 2019q1jxje, 2019q1jxsl, 2019q1kpje, 2019q1kps, 2019q1kpse, 2019q1kpsl, 2019q1rkse, 2019q2fphdsl, 2019q2jxje, 2019q2jxsl, 2019q2kpje, 2019q2kps, 2019q2kpse, 2019q2kpsl, 2019q2rkse, 2019q3fphdsl, 2019q3jxje, 2019q3jxsl, 2019q3kpje, 2019q3kps, 2019q3kpse, 2019q3kpsl, 2019q3rkse, 2019q4fphdsl, 2019q4jxje, 2019q4jxsl, 2019q4kpje, 2019q4kps, 2019q4kpse, 2019q4kpsl, 2019q4rkse, cwrysjh, cwryxm, cyrs, djkyrq, fddbrxm, frsjh, jdxz, jyfw, nsrmc, scjydz, xy, xydl, xyml, xyzl, yc, zcdz, zczby, zjnsrsbh, \n",
      "---trainset2---\n",
      "114\n",
      "2017q1fphdsl, 2017q1jxje, 2017q1jxsl, 2017q1kpje, 2017q1kps, 2017q1kpse, 2017q1kpsl, 2017q1rkse, 2017q2fphdsl, 2017q2jxje, 2017q2jxsl, 2017q2kpje, 2017q2kps, 2017q2kpse, 2017q2kpsl, 2017q2rkse, 2017q3fphdsl, 2017q3jxje, 2017q3jxsl, 2017q3kpje, 2017q3kps, 2017q3kpse, 2017q3kpsl, 2017q3rkse, 2017q4fphdsl, 2017q4jxje, 2017q4jxsl, 2017q4kpje, 2017q4kps, 2017q4kpse, 2017q4kpsl, 2017q4rkse, 2018q1fphdsl, 2018q1jxje, 2018q1jxsl, 2018q1kpje, 2018q1kps, 2018q1kpse, 2018q1kpsl, 2018q1rkse, 2018q2fphdsl, 2018q2jxje, 2018q2jxsl, 2018q2kpje, 2018q2kps, 2018q2kpse, 2018q2kpsl, 2018q2rkse, 2018q3fphdsl, 2018q3jxje, 2018q3jxsl, 2018q3kpje, 2018q3kps, 2018q3kpse, 2018q3kpsl, 2018q3rkse, 2018q4fphdsl, 2018q4jxje, 2018q4jxsl, 2018q4kpje, 2018q4kps, 2018q4kpse, 2018q4kpsl, 2018q4rkse, 2019q1fphdsl, 2019q1jxje, 2019q1jxsl, 2019q1kpje, 2019q1kps, 2019q1kpse, 2019q1kpsl, 2019q1rkse, 2019q2fphdsl, 2019q2jxje, 2019q2jxsl, 2019q2kpje, 2019q2kps, 2019q2kpse, 2019q2kpsl, 2019q2rkse, 2019q3fphdsl, 2019q3jxje, 2019q3jxsl, 2019q3kpje, 2019q3kps, 2019q3kpse, 2019q3kpsl, 2019q3rkse, 2019q4fphdsl, 2019q4jxje, 2019q4jxsl, 2019q4kpje, 2019q4kps, 2019q4kpse, 2019q4kpsl, 2019q4rkse, bsrxm, bsrxmmp, cyrs, djrq, fdbrxmp, fddbrxm, hy, hydl, hyml, hyzl, jyfw, nsrmc, scjydz, xzjd, yc, zcdz, zczb, zjnsrsbh, \n",
      "col1\t\t\tcol2\n",
      "cwrysjh\tbsrxm\n",
      "cwryxm\tbsrxmmp\n",
      "djkyrq\tdjrq\n",
      "fddbrxm\tfdbrxmp\n",
      "frsjh\tfddbrxm\n",
      "jdxz\thy\n",
      "jyfw\thydl\n",
      "nsrmc\thyml\n",
      "scjydz\thyzl\n",
      "xy\tjyfw\n",
      "xydl\tnsrmc\n",
      "xyml\tscjydz\n",
      "xyzl\txzjd\n",
      "zczby\tzczb\n"
     ]
    }
   ],
   "source": [
    "print('---trainset1---')\n",
    "print(trainset1.columns.size)\n",
    "for attr in list(trainset1.columns):\n",
    "    print(attr, end=', ')\n",
    "print()\n",
    "    \n",
    "print('---trainset2---')\n",
    "print(trainset2.columns.size)\n",
    "for attr in list(trainset2.columns):\n",
    "    print(attr, end=', ')\n",
    "print()\n",
    "\n",
    "col1 = list(trainset1.columns)\n",
    "col2 = list(trainset2.columns)\n",
    "print('col1\\t\\t\\tcol2')\n",
    "for i in range(114):\n",
    "    if col1[i] != col2[i]:\n",
    "        print(f'{col1[i]}\\t{col2[i]}')"
   ]
  },
  {
   "cell_type": "markdown",
   "metadata": {},
   "source": [
    "trainset1一个实例"
   ]
  },
  {
   "cell_type": "code",
   "execution_count": 46,
   "metadata": {},
   "outputs": [
    {
     "data": {
      "text/plain": [
       "2019q4rkse                               50.73\n",
       "cwrysjh       f239ac1d2808e5112c4c0559d383ca5a\n",
       "cwryxm                                     袁秀珍\n",
       "cyrs                                        15\n",
       "djkyrq                     2018-08-20 00:00:00\n",
       "fddbrxm                                    杨宠怀\n",
       "frsjh         54eba6f646d394796b1773da7e8b56f4\n",
       "jdxz                            芜湖市镜湖区滨江公共服务中心\n",
       "jyfw                                税务代理、咨询服务。\n",
       "nsrmc                         芜湖市快讯务师事务所有限责任公司\n",
       "scjydz               芜湖市镜湖区文化路39-2号海螺商务楼北楼4-5层\n",
       "xy                                  会计、审计及税务服务\n",
       "xydl                                     商务服务业\n",
       "xyml                                  租赁和商务服务业\n",
       "xyzl                                     咨询与调查\n",
       "yc                                           1\n",
       "zcdz                 芜湖市镜湖区文化路39-2号海螺商务楼北楼4-5层\n",
       "zczby                                   300000\n",
       "Name: 0, dtype: object"
      ]
     },
     "execution_count": 46,
     "metadata": {},
     "output_type": "execute_result"
    }
   ],
   "source": [
    "trainset1.iloc[0, -1-18:-1]"
   ]
  },
  {
   "cell_type": "markdown",
   "metadata": {},
   "source": [
    "trainset2一个实例"
   ]
  },
  {
   "cell_type": "code",
   "execution_count": 47,
   "metadata": {},
   "outputs": [
    {
     "data": {
      "text/plain": [
       "2019q4rkse                                                     \n",
       "bsrxm                                                        田捷\n",
       "bsrxmmp                        0ae1c93e676509d2c32b2a2a926c9553\n",
       "cyrs                                                        4.0\n",
       "djrq                                                   2017-3-2\n",
       "fdbrxmp                        6501eab4ce96004c87a85e3f5b9ca641\n",
       "fddbrxm                                                      田捷\n",
       "hy                                                          广告业\n",
       "hydl                                                      商务服务业\n",
       "hyml                                                   租赁和商务服务业\n",
       "hyzl                                                        广告业\n",
       "jyfw          广告设计、制作、代理及发布，文化艺术交流服务，企业管理咨询，商务信息咨询，会展庆典礼仪服务，...\n",
       "nsrmc                                           芜湖市时空盒数字方广告有限公司\n",
       "scjydz                                      芜湖市镜湖区利达新村15#楼11号门面\n",
       "xzjd                                             芜湖市镜湖区汀棠公共服务中心\n",
       "yc                                                            0\n",
       "zcdz                                        芜湖市镜湖区利达新村１５＃楼１１号门面\n",
       "zczb                                                   500000.0\n",
       "Name: 0, dtype: object"
      ]
     },
     "execution_count": 47,
     "metadata": {},
     "output_type": "execute_result"
    }
   ],
   "source": [
    "trainset2.iloc[0, -1-18:-1]"
   ]
  },
  {
   "cell_type": "markdown",
   "metadata": {},
   "source": [
    "（1）trainset1, 2 前96个税务属性一致\n",
    "\n",
    "> 年份季度前缀，如2017q1<br>\n",
    "> 发票核定数量fphdsl，<br>\n",
    "> 进项金额jxje，进项税率jxsl，<br>\n",
    "> 开票金额kpje，开票数kps，开票税额kpse，开票税率kpsl，<br>\n",
    "> 入库金额rkse<br>\n",
    "> 所以，每季度8个属性，2017~2019三年共12季度，12*8=96个属性<br>\n",
    "\n",
    "（2）后18个企业属性\n",
    "\n",
    "trainset1|trainset2\n",
    "-|-\n",
    "财务人员手机号cwrysjh, 财务人员姓名cwryxm,<br>从业人数cyrs, 登记开业日期djkyrq,<br>法定代表人姓名fddbrxm, 法人手机号frsjh,<br>街道乡镇jdxz,<br>经营范围jyfw,<br>纳税人名称nsrmc,<br>生产经营地址scjydz,<br>行（xing）业xy, 行业大类xydl, 行业门类xyml, 行业中类xyzl,<br>异常yc,<br>注册地址zcdz, 注册成本（元）zczby,<br>主键:纳税人识别号zjnsrsbh | 报税人姓名bsrxm, 报税人姓名？？（手机号加密值）bsrxmmp, <br>从业人数（float）cyrs, 登记日期（2017-3-2）djrq, <br>法定代表人姓名？（手机号加密值）fdbrxmp, 法定代表人姓名fddbrxm,<br>行业hy, 行业大类hydl, 行业门类hyml, 行业中类hyzl, 经营范围jyfw,<br>纳税人名称nsrmc, <br>生产经营地址scjydz, 乡镇街道xzjd, <br>异常yc, <br>注册地址zcdz, 注册资本zczb, 主键:纳税人识别号zjnsrsbh,"
   ]
  },
  {
   "cell_type": "markdown",
   "metadata": {},
   "source": [
    "**合并trainset1,2到trainset**"
   ]
  },
  {
   "cell_type": "markdown",
   "metadata": {},
   "source": [
    "以testset属性定义trainset属性，testset属性与trainset2是一致的"
   ]
  },
  {
   "cell_type": "code",
   "execution_count": 48,
   "metadata": {},
   "outputs": [
    {
     "name": "stdout",
     "output_type": "stream",
     "text": [
      "113\n",
      "2017q1fphdsl, 2017q1jxje, 2017q1jxsl, 2017q1kpje, 2017q1kps, 2017q1kpse, 2017q1kpsl, 2017q1rkse, 2017q2fphdsl, 2017q2jxje, 2017q2jxsl, 2017q2kpje, 2017q2kps, 2017q2kpse, 2017q2kpsl, 2017q2rkse, 2017q3fphdsl, 2017q3jxje, 2017q3jxsl, 2017q3kpje, 2017q3kps, 2017q3kpse, 2017q3kpsl, 2017q3rkse, 2017q4fphdsl, 2017q4jxje, 2017q4jxsl, 2017q4kpje, 2017q4kps, 2017q4kpse, 2017q4kpsl, 2017q4rkse, 2018q1fphdsl, 2018q1jxje, 2018q1jxsl, 2018q1kpje, 2018q1kps, 2018q1kpse, 2018q1kpsl, 2018q1rkse, 2018q2fphdsl, 2018q2jxje, 2018q2jxsl, 2018q2kpje, 2018q2kps, 2018q2kpse, 2018q2kpsl, 2018q2rkse, 2018q3fphdsl, 2018q3jxje, 2018q3jxsl, 2018q3kpje, 2018q3kps, 2018q3kpse, 2018q3kpsl, 2018q3rkse, 2018q4fphdsl, 2018q4jxje, 2018q4jxsl, 2018q4kpje, 2018q4kps, 2018q4kpse, 2018q4kpsl, 2018q4rkse, 2019q1fphdsl, 2019q1jxje, 2019q1jxsl, 2019q1kpje, 2019q1kps, 2019q1kpse, 2019q1kpsl, 2019q1rkse, 2019q2fphdsl, 2019q2jxje, 2019q2jxsl, 2019q2kpje, 2019q2kps, 2019q2kpse, 2019q2kpsl, 2019q2rkse, 2019q3fphdsl, 2019q3jxje, 2019q3jxsl, 2019q3kpje, 2019q3kps, 2019q3kpse, 2019q3kpsl, 2019q3rkse, 2019q4fphdsl, 2019q4jxje, 2019q4jxsl, 2019q4kpje, 2019q4kps, 2019q4kpse, 2019q4kpsl, 2019q4rkse, bsrxm, bsrxmmp, cyrs, djrq, fdbrxmp, fddbrxm, hy, hydl, hyml, hyzl, jyfw, nsrmc, scjydz, xzjd, zcdz, zczb, zjnsrsbh, "
     ]
    }
   ],
   "source": [
    "test_attr_n = test.columns.size\n",
    "print(test_attr_n)\n",
    "for i in range(test_attr_n):\n",
    "    print(testset.columns[i], end=', ')\n",
    "\n",
    "#  train2: bsrxm, bsrxmmp, cyrs, djrq, fdbrxmp, fddbrxm, hy, hydl, hyml, hyzl, jyfw, nsrmc, scjydz, xzjd, yc, zcdz, zczb, zjnsrsbh,"
   ]
  },
  {
   "cell_type": "code",
   "execution_count": 6,
   "metadata": {},
   "outputs": [
    {
     "name": "stdout",
     "output_type": "stream",
     "text": [
      "114\n",
      "Index(['2019q4rkse', 'bsrxm', 'bsrxmmp', 'cyrs', 'djrq', 'fdbrxmp', 'fddbrxm',\n",
      "       'hy', 'hydl', 'hyml', 'hyzl', 'jyfw', 'nsrmc', 'scjydz', 'xzjd', 'yc',\n",
      "       'zcdz', 'zczb'],\n",
      "      dtype='object')\n"
     ]
    }
   ],
   "source": [
    "trainset = pd.DataFrame()\n",
    "# 前96个税务属性直接拼接\n",
    "for i in range(96):\n",
    "    attr = str(trainset2.columns[i])\n",
    "    trainset[attr] = pd.concat([trainset1[attr], trainset2[attr]])\n",
    "\n",
    "# 后18个企业属性\n",
    "t1_attrs = ['cwryxm','cwrysjh',\n",
    "'cyrs', 'djkyrq',\n",
    "'frsjh', 'fddbrxm',\n",
    "'xy', 'xydl', 'xyml', 'xyzl', 'jyfw',\n",
    "'nsrmc',\n",
    "'scjydz', 'jdxz',\n",
    "'yc', \n",
    "'zcdz', 'zczby', 'zjnsrsbh'\n",
    "]\n",
    "for i in range(96,114):\n",
    "    t1_attr = t1_attrs[i-96]\n",
    "    attr = str(trainset2.columns[i])\n",
    "    trainset[attr] = pd.concat([trainset1[t1_attr], trainset2[attr]])\n",
    "\n",
    "print(trainset.columns.size)\n",
    "print(trainset.columns[-1-18:-1])"
   ]
  },
  {
   "cell_type": "markdown",
   "metadata": {},
   "source": [
    "## 合并后trainset 属性\n",
    "\n",
    "（1）前96个税务属性<br>\n",
    "> 年份季度前缀，如2017q1<br>\n",
    "> 发票核定数量fphdsl，<br>\n",
    "> 进项金额jxje，进项税率jxsl，<br>\n",
    "> 开票金额kpje，开票数kps，开票税额kpse，开票税率kpsl，<br>\n",
    "> 入库金额rkse<br>\n",
    "\n",
    "（2）剩下18个企业属性<br>\n",
    "> 报税人姓名bsrxm, 报税人姓名？？（手机号加密值）bsrxmmp, <br>\n",
    "> 从业人数（int, float）cyrs, <br>\n",
    "> 登记日期（2018-08-20 00:00:00，2017-3-2）djrq, <br>\n",
    "> 法定代表人姓名？（手机号加密值）fdbrxmp, 法定代表人姓名fddbrxm,<br>\n",
    "> 行业hy, 行业大类hydl, 行业门类hyml, 行业中类hyzl, 经营范围jyfw,<br>\n",
    "> 纳税人名称nsrmc, <br>\n",
    "> 生产经营地址scjydz, 乡镇街道xzjd, <br>\n",
    "> 异常yc, <br>\n",
    "> 注册地址zcdz, 注册资本zczb, <br>\n",
    "> 主键:纳税人识别号zjnsrsbh"
   ]
  },
  {
   "cell_type": "markdown",
   "metadata": {},
   "source": [
    "## 登记日期 转为距今（2019-12-32）多少"
   ]
  },
  {
   "cell_type": "code",
   "execution_count": 7,
   "metadata": {},
   "outputs": [],
   "source": [
    "def transform_attr_djrq(df):\n",
    "    for index, row in df.iterrows():\n",
    "        start = str(row['djrq'])\n",
    "        end = '2019-12-31 00:00:00'\n",
    "        try:\n",
    "            start=time.strptime(start, \"%Y-%m-%d %H:%M:%S\")\n",
    "        except ValueError:\n",
    "            start=time.strptime(start, \"%Y-%m-%d\")\n",
    "        end=time.strptime(end, \"%Y-%m-%d %H:%M:%S\")\n",
    "        userStart=datetime.datetime(start[0],start[1],start[2])\n",
    "        userEnd=datetime.datetime(end[0],end[1],end[2])\n",
    "        res = (userEnd-userStart).days\n",
    "        row['djrq'] = res\n",
    "\n",
    "datasets = [trainset, testseta, testsetb]\n",
    "for dataset in datasets:\n",
    "    transform_attr_djrq(dataset)"
   ]
  },
  {
   "cell_type": "markdown",
   "metadata": {},
   "source": [
    "## 增加属性：开票比例、进项税额、应纳税额、欠税"
   ]
  },
  {
   "cell_type": "raw",
   "metadata": {},
   "source": [
    "开票比例kpbl = \n",
    "    if 发票核定数量fphdsl > 0:\n",
    "        开票数kps / 发票核定数量fphdsl\n",
    "    else: # ==0\n",
    "        开票数kps\n",
    "\n",
    "进项税额jxse = 进项金额jxje * 进项税率jxsl\n",
    "\n",
    "应纳税额ynse = 开票税额kpse - 进项税额jxse * （进项税率jxsl >= 0.03）\n",
    "\n",
    "欠税qs = \n",
    "    if 应纳税额ynse - 入库税额rkse:\n",
    "        this\n",
    "    else: # <=0\n",
    "        0"
   ]
  },
  {
   "cell_type": "code",
   "execution_count": 8,
   "metadata": {},
   "outputs": [],
   "source": [
    "def add_tax_attrs(df):\n",
    "    kpbl=[]; jxse=[]; ynse=[]; qs=[]\n",
    "    for i in range(12):\n",
    "        kpbl.append([]); jxse.append([]); ynse.append([]); qs.append([])\n",
    "\n",
    "    for index, row in df.iterrows():\n",
    "        for yn in range(3):\n",
    "            for sn in range(4):\n",
    "                prefix = str(2017+yn)+'q'+str(sn+1)\n",
    "                i = yn*4+sn # 12季度中的第几季度(从0开始)\n",
    "                attr_names = []\n",
    "                for attr_body in ['kps', 'fphdsl',\n",
    "                    'jxje', 'jxsl',\n",
    "                    'kpse',\n",
    "                    'rkse'\n",
    "                ]: attr_names.append(prefix+attr_body)\n",
    "                \n",
    "                try: kps=float(row[attr_names[0]]);\n",
    "                except: kps=0\n",
    "                try: fphdsl=float(row[attr_names[1]])\n",
    "                except: fphdsl=0\n",
    "                try: jxje=float(row[attr_names[2]])\n",
    "                except: jxje=0\n",
    "                try: jxsl=float(row[attr_names[3]])\n",
    "                except: jxsl=0\n",
    "                try: kpse=float(row[attr_names[4]])\n",
    "                except: kpse=0\n",
    "                try: rkse=float(row[attr_names[5]])\n",
    "                except: rkse=0\n",
    "                \n",
    "\n",
    "                # 开票数\n",
    "                if fphdsl>0: kpbl[i].append(kps/fphdsl)\n",
    "                else: kpbl[i].append(kps)\n",
    "                # 进项税额\n",
    "                tmp_jxse = jxje * jxsl\n",
    "                jxse[i].append(tmp_jxse)\n",
    "                # 应纳税额\n",
    "                tmp_ynse = kpse - tmp_jxse * (jxsl >= 0.03)\n",
    "                ynse[i].append(tmp_ynse)\n",
    "                # 欠税\n",
    "                tmp_qs = tmp_ynse - rkse\n",
    "                if tmp_qs>0: qs[i].append(tmp_qs)\n",
    "                else: qs[i].append(0)\n",
    "\n",
    "    # 走完所有row\n",
    "    for yn in range(3):\n",
    "            for sn in range(4):\n",
    "                prefix = str(2017+yn)+'q'+str(sn+1)\n",
    "                i = yn*4+sn # 12季度中的第几季度(从0开始)\n",
    "                attr_names = []\n",
    "                for attr_body in ['kpbl', 'jxse', 'ynse', 'qs']:\n",
    "                    attr_names.append(prefix+attr_body)\n",
    "                df[attr_names[0]] = kpbl[i]\n",
    "                df[attr_names[1]] = jxse[i]\n",
    "                df[attr_names[2]] = ynse[i]\n",
    "                df[attr_names[3]] = qs[i]\n",
    "\n",
    "for dset in datasets:\n",
    "    add_tax_attrs(dset)"
   ]
  },
  {
   "cell_type": "markdown",
   "metadata": {},
   "source": [
    "## 综上，trainset中的属性"
   ]
  },
  {
   "cell_type": "raw",
   "metadata": {},
   "source": [
    "（1）(8旧+4新)*12季度=144个税务属性\n",
    "年份季度前缀，如2017q1\n",
    "开票数kps，发票核定数量fphdsl，开票比例 kpbl，\n",
    "进项金额jxje，进项税率jxsl，进项税额jxse，\n",
    "开票金额kpje，开票税率kpsl，开票税额kpse，\n",
    "应纳税额ynse，入库金额rkse，欠税qs\n",
    "\n",
    "（2）14个企业属性，剩下4个地址值舍弃\n",
    "报税人姓名bsrxm, 报税人姓名？？（手机号加密值）bsrxmmp, \n",
    "从业人数（int, float）cyrs, \n",
    "登记日期（距今天数）djrq, \n",
    "法定代表人姓名？（手机号加密值）fdbrxmp, \n",
    "法定代表人姓名fddbrxm,\n",
    "行业hy, 行业大类hydl, 行业门类hyml, 行业中类hyzl,\n",
    "纳税人名称nsrmc, \n",
    "异常yc, \n",
    "注册资本zczb, \n",
    "主键:纳税人识别号zjnsrsbh"
   ]
  },
  {
   "cell_type": "markdown",
   "metadata": {},
   "source": [
    "## 修正列类型"
   ]
  },
  {
   "cell_type": "code",
   "execution_count": 9,
   "metadata": {},
   "outputs": [
    {
     "name": "stdout",
     "output_type": "stream",
     "text": [
      "--------check column dtype-----------\n",
      "--------first 96 tax attrs--------\n",
      "take one season (8 attrs) to represent\n",
      "2017q1fphdsl\tint64\n",
      "2017q1jxje\tfloat64\n",
      "2017q1jxsl\tfloat64\n",
      "2017q1kpje\tfloat64\n",
      "2017q1kps\tint64\n",
      "2017q1kpse\tfloat64\n",
      "2017q1kpsl\tfloat64\n",
      "2017q1rkse\tfloat64\n",
      "-----------mid 14 company attrs-----------\n",
      "fdbrxmp\tobject\n",
      "fddbrxm\tobject\n",
      "hy\tobject\n",
      "hydl\tobject\n",
      "hyml\tobject\n",
      "hyzl\tobject\n",
      "jyfw\tobject\n",
      "nsrmc\tobject\n",
      "scjydz\tobject\n",
      "xzjd\tobject\n",
      "yc\tint64\n",
      "zcdz\tobject\n",
      "zczb\tfloat64\n",
      "zjnsrsbh\tobject\n",
      "-----------last 48 tax attrs-----------\n",
      "take one season (4 attrs) to represent\n",
      "2017q1kpbl\tfloat64\n",
      "2017q1jxse\tfloat64\n",
      "2017q1ynse\tfloat64\n",
      "2017q1qs\tfloat64\n"
     ]
    }
   ],
   "source": [
    "# 修正列类型\n",
    "def correct_dtypes(df):\n",
    "    cols = df.columns\n",
    "    # 前8*12=96个税务属性\n",
    "    for i in range(96):\n",
    "        attr = cols[i]\n",
    "        df[attr] = pd.to_numeric(df[attr], errors='coerce').fillna(0)\n",
    "    # 尾4*12=48个税务属性\n",
    "    for i in range(114,114+48):\n",
    "        attr = cols[i]\n",
    "        df[attr] = pd.to_numeric(df[attr], errors='coerce').fillna(0)\n",
    "    # 企业属性和异常属性\n",
    "    for attr in ['cyrs', 'djrq', 'yc', 'zczb']:\n",
    "        df[attr] = pd.to_numeric(df[attr], errors='coerce').fillna(0)\n",
    "\n",
    "# 查看各列属性\n",
    "def show_dtypes(df):\n",
    "    cols = df.columns\n",
    "    print('--------check column dtype-----------')\n",
    "    print('--------first 96 tax attrs--------')\n",
    "    print('take one season (8 attrs) to represent')\n",
    "    for i in range(8):\n",
    "        print(cols[i], end='\\t')\n",
    "        print(trainset[cols[i]].dtype)\n",
    "    print('-----------mid 14 company attrs-----------')\n",
    "    for i in range(100, 114):\n",
    "        print(cols[i], end='\\t')\n",
    "        print(trainset[cols[i]].dtype)\n",
    "    print('-----------last 48 tax attrs-----------')\n",
    "    print('take one season (4 attrs) to represent')\n",
    "    for i in range(114,114+4):\n",
    "        print(cols[i], end='\\t')\n",
    "        print(trainset[cols[i]].dtype)\n",
    "\n",
    "correct_dtypes(trainset)\n",
    "show_dtypes(trainset)\n",
    "correct_dtypes(testseta)\n",
    "correct_dtypes(testsetb)"
   ]
  },
  {
   "cell_type": "markdown",
   "metadata": {},
   "source": [
    "## 模型训练"
   ]
  },
  {
   "cell_type": "code",
   "execution_count": 10,
   "metadata": {},
   "outputs": [
    {
     "name": "stdout",
     "output_type": "stream",
     "text": [
      "model\n"
     ]
    }
   ],
   "source": [
    "!mkdir model\n",
    "!ls"
   ]
  },
  {
   "cell_type": "markdown",
   "metadata": {},
   "source": [
    "## model1 144+14个属性全用上"
   ]
  },
  {
   "cell_type": "code",
   "execution_count": 11,
   "metadata": {},
   "outputs": [],
   "source": [
    "# 缺失值，分类值，连续值的处理方法\n",
    "procs = [FillMissing, Categorify, Normalize]\n",
    "\n",
    "# 分类值categorical\n",
    "cat_names1 = [\n",
    "    'bsrxm', 'bsrxmmp',\n",
    "    'fdbrxmp', 'fddbrxm',\n",
    "    'hy', 'hydl', 'hyml', 'hyzl', \n",
    "    'nsrmc', \n",
    "    'zjnsrsbh'\n",
    "]\n",
    "\n",
    "# 连续值continous\n",
    "cont_names1 = [\n",
    "    'cyrs',\n",
    "    'djrq',\n",
    "    'zczb',\n",
    "]\n",
    "for yn in range(3): # year num\n",
    "    for sn in range(4): # seasom num\n",
    "        prefix = str(2017+yn)+'q'+str(sn+1)\n",
    "        for attr in [\n",
    "            'kps', 'fphdsl', 'kpbl',\n",
    "            'jxje', 'jxsl', 'jxse',\n",
    "            'kpje', 'kpsl', 'kpse',\n",
    "            'ynse', 'rkse',  'qs'\n",
    "        ]:\n",
    "            attr = prefix + attr\n",
    "            cont_names1.append(attr)\n",
    "            \n",
    "# 因变量\n",
    "dep_var = 'yc'"
   ]
  },
  {
   "cell_type": "markdown",
   "metadata": {},
   "source": [
    "## 划分验证集"
   ]
  },
  {
   "cell_type": "code",
   "execution_count": 106,
   "metadata": {},
   "outputs": [
    {
     "name": "stdout",
     "output_type": "stream",
     "text": [
      "全集 异常占比 0.1\n",
      "18000 + 2000 = 20000\n",
      "val1 异常占比 0.10025\n",
      "3599 + 401 = 4000\n",
      "val2 异常占比 0.555\n",
      "890 + 1110 = 2000\n",
      "val3 异常占比 0.09625\n",
      "3615 + 385 = 4000\n"
     ]
    }
   ],
   "source": [
    "# 数据集异常占比\n",
    "def stat_yc(df):\n",
    "    ones = 0\n",
    "    zeros = 0\n",
    "    for index, row in df.iterrows():\n",
    "        if row['yc'] == 1:\n",
    "            ones += 1\n",
    "        elif row['yc'] == 0:\n",
    "            zeros += 1\n",
    "    print(f'异常占比 {ones/(ones+zeros)}')\n",
    "    print(f'{zeros} + {ones} = {zeros+ones}')\n",
    "\n",
    "# 全集异常比\n",
    "print('全集 ', end='')\n",
    "stat_yc(trainset)\n",
    "\n",
    "# 划分法一：随机出20%作验证集\n",
    "valid_idx = [random.randint(0,20000-1) for _ in range(int(0.2*len(trainset)))]\n",
    "ones = 0\n",
    "zeros = 0\n",
    "for i in valid_idx:\n",
    "    row = trainset.iloc[i]\n",
    "    if row['yc'] == 1:\n",
    "        ones += 1\n",
    "    elif row['yc'] == 0:\n",
    "        zeros += 1\n",
    "print(f'val1 异常占比 {ones/(ones+zeros)}')\n",
    "print(f'{zeros} + {ones} = {zeros+ones}')\n",
    "\n",
    "# 法二：trainset1，2各取前10%，所构成数据集的异常比\n",
    "ones = 0\n",
    "zeros = 0\n",
    "for index, row in trainset.iloc[0:1000].iterrows():\n",
    "    if row['yc'] == 1:\n",
    "        ones += 1\n",
    "    elif row['yc'] == 0:\n",
    "        zeros += 1\n",
    "for index, row in trainset.iloc[10000:11000].iterrows():\n",
    "    if row['yc'] == 1:\n",
    "        ones += 1\n",
    "    elif row['yc'] == 0:\n",
    "        zeros += 1\n",
    "print(f'val2 异常占比 {ones/(ones+zeros)}')\n",
    "print(f'{zeros} + {ones} = {zeros+ones}')\n",
    "\n",
    "# 法三：取trainset后20%，即trainset2后40%的异常比\n",
    "print('val3 ', end='')\n",
    "stat_yc(trainset.iloc[16000:20000])"
   ]
  },
  {
   "cell_type": "markdown",
   "metadata": {},
   "source": [
    "**法一不稳定，法二很糟糕，法三基本保持了全集异常分布。**"
   ]
  },
  {
   "cell_type": "markdown",
   "metadata": {},
   "source": [
    "## 训练 model1"
   ]
  },
  {
   "cell_type": "code",
   "execution_count": 126,
   "metadata": {},
   "outputs": [],
   "source": [
    "path = 'model' # 存放训练过程中产生的数据，如模型\n",
    "\n",
    "n = len(trainset)\n",
    "valid_idx = range(int(n*0.8), n) # 后20% 4千条作验证集，即trainset2的40%\n",
    "\n",
    "traindata = TabularDataBunch.from_df(path, trainset, dep_var, valid_idx, procs, cat_names1, cont_names1, test_df=testsetb)"
   ]
  },
  {
   "cell_type": "code",
   "execution_count": 127,
   "metadata": {},
   "outputs": [
    {
     "data": {
      "text/html": [],
      "text/plain": [
       "<IPython.core.display.HTML object>"
      ]
     },
     "metadata": {},
     "output_type": "display_data"
    },
    {
     "name": "stdout",
     "output_type": "stream",
     "text": [
      "LR Finder is complete, type {learner_name}.recorder.plot() to see the graph.\n"
     ]
    },
    {
     "data": {
      "image/png": "[encoded data removed]",
      "text/plain": [
       "<Figure size 432x288 with 1 Axes>"
      ]
     },
     "metadata": {
      "needs_background": "light"
     },
     "output_type": "display_data"
    }
   ],
   "source": [
    "learn1 = tabular_learner(traindata, layers=[200,100], metrics=accuracy)\n",
    "# 寻找合适的学习率\n",
    "learn1.lr_find()\n",
    "learn1.recorder.plot()"
   ]
  },
  {
   "cell_type": "code",
   "execution_count": 128,
   "metadata": {},
   "outputs": [
    {
     "data": {
      "text/html": [
       "<table border=\"1\" class=\"dataframe\">\n",
       "  <thead>\n",
       "    <tr style=\"text-align: left;\">\n",
       "      <th>epoch</th>\n",
       "      <th>train_loss</th>\n",
       "      <th>valid_loss</th>\n",
       "      <th>accuracy</th>\n",
       "      <th>time</th>\n",
       "    </tr>\n",
       "  </thead>\n",
       "  <tbody>\n",
       "    <tr>\n",
       "      <td>0</td>\n",
       "      <td>0.048455</td>\n",
       "      <td>0.023598</td>\n",
       "      <td>0.995000</td>\n",
       "      <td>05:31</td>\n",
       "    </tr>\n",
       "  </tbody>\n",
       "</table>"
      ],
      "text/plain": [
       "<IPython.core.display.HTML object>"
      ]
     },
     "metadata": {},
     "output_type": "display_data"
    }
   ],
   "source": [
    "learn1.fit(1, 1e-2)"
   ]
  },
  {
   "cell_type": "code",
   "execution_count": 130,
   "metadata": {},
   "outputs": [
    {
     "data": {
      "text/plain": [
       "PosixPath('model/models/model1.pth')"
      ]
     },
     "execution_count": 130,
     "metadata": {},
     "output_type": "execute_result"
    }
   ],
   "source": [
    "learn1.save('model1', return_path=True) # 训练时临时保存，用load加载"
   ]
  },
  {
   "cell_type": "code",
   "execution_count": 131,
   "metadata": {},
   "outputs": [],
   "source": [
    "learn1.export('model1.pkl') # 保存模型全部信息，用load_learner加载"
   ]
  },
  {
   "cell_type": "markdown",
   "metadata": {},
   "source": [
    "## 测试"
   ]
  },
  {
   "cell_type": "code",
   "execution_count": 132,
   "metadata": {},
   "outputs": [
    {
     "name": "stdout",
     "output_type": "stream",
     "text": [
      "[0, 1]\n"
     ]
    },
    {
     "data": {
      "text/html": [],
      "text/plain": [
       "<IPython.core.display.HTML object>"
      ]
     },
     "metadata": {},
     "output_type": "display_data"
    },
    {
     "name": "stdout",
     "output_type": "stream",
     "text": [
      "tensor([[5.0806e-14, 1.0000e+00],\n",
      "        [9.7803e-01, 2.1965e-02],\n",
      "        [2.2050e-04, 9.9978e-01],\n",
      "        ...,\n",
      "        [9.9875e-01, 1.2482e-03],\n",
      "        [9.9836e-01, 1.6443e-03],\n",
      "        [9.9812e-01, 1.8796e-03]])\n",
      "tensor([0, 0, 0,  ..., 0, 0, 0])\n"
     ]
    }
   ],
   "source": [
    "print(learn1.data.classes) # classes[0]是0，classes[1]是1\n",
    "\n",
    "# preds是预测值，共classes个，哪个大取哪个class\n",
    "# y是标注的class在classes中的索引，之前用0临时填充，故这里全是classes.index=0\n",
    "preds1, y1 = learn1.get_preds(DatasetType.Test)\n",
    "print(preds1); print(y1)"
   ]
  },
  {
   "cell_type": "markdown",
   "metadata": {},
   "source": [
    "### 先取离散值 yc = {0,1} 看下分数"
   ]
  },
  {
   "cell_type": "code",
   "execution_count": 134,
   "metadata": {},
   "outputs": [
    {
     "name": "stdout",
     "output_type": "stream",
     "text": [
      "3139\n"
     ]
    },
    {
     "data": {
      "text/html": [
       "<div>\n",
       "<style scoped>\n",
       "    .dataframe tbody tr th:only-of-type {\n",
       "        vertical-align: middle;\n",
       "    }\n",
       "\n",
       "    .dataframe tbody tr th {\n",
       "        vertical-align: top;\n",
       "    }\n",
       "\n",
       "    .dataframe thead th {\n",
       "        text-align: right;\n",
       "    }\n",
       "</style>\n",
       "<table border=\"1\" class=\"dataframe\">\n",
       "  <thead>\n",
       "    <tr style=\"text-align: right;\">\n",
       "      <th></th>\n",
       "      <th>zjnsrsbh</th>\n",
       "      <th>Probability</th>\n",
       "    </tr>\n",
       "  </thead>\n",
       "  <tbody>\n",
       "    <tr>\n",
       "      <th>0</th>\n",
       "      <td>6a6c2ca338a3a48d33d701c7ef82986d</td>\n",
       "      <td>1</td>\n",
       "    </tr>\n",
       "    <tr>\n",
       "      <th>1</th>\n",
       "      <td>e2ce1429b399560a9ffd5d6edee21379</td>\n",
       "      <td>0</td>\n",
       "    </tr>\n",
       "    <tr>\n",
       "      <th>2</th>\n",
       "      <td>10978ccba846b58fc76742ab32b8c197</td>\n",
       "      <td>1</td>\n",
       "    </tr>\n",
       "    <tr>\n",
       "      <th>3</th>\n",
       "      <td>c862b7f4ad6a531f3552bed41c94138c</td>\n",
       "      <td>0</td>\n",
       "    </tr>\n",
       "    <tr>\n",
       "      <th>4</th>\n",
       "      <td>4628e5c776c5bede7d0208495e9d4ab7</td>\n",
       "      <td>1</td>\n",
       "    </tr>\n",
       "  </tbody>\n",
       "</table>\n",
       "</div>"
      ],
      "text/plain": [
       "                           zjnsrsbh  Probability\n",
       "0  6a6c2ca338a3a48d33d701c7ef82986d            1\n",
       "1  e2ce1429b399560a9ffd5d6edee21379            0\n",
       "2  10978ccba846b58fc76742ab32b8c197            1\n",
       "3  c862b7f4ad6a531f3552bed41c94138c            0\n",
       "4  4628e5c776c5bede7d0208495e9d4ab7            1"
      ]
     },
     "execution_count": 134,
     "metadata": {},
     "output_type": "execute_result"
    }
   ],
   "source": [
    "# yc = {0,1} 看下分数\n",
    "tb1 = pd.DataFrame()\n",
    "tb1['zjnsrsbh'] = testsetb['zjnsrsbh']\n",
    "\n",
    "yc1 = np.argmax(preds1, 1).tolist()\n",
    "print(yc1.count(0)) # testsetb六千条中多少0 （正常yc）\n",
    "tb1['Probability'] = yc1\n",
    "tb1.head()"
   ]
  },
  {
   "cell_type": "code",
   "execution_count": 135,
   "metadata": {},
   "outputs": [
    {
     "name": "stdout",
     "output_type": "stream",
     "text": [
      "User-id:022\n",
      "程序开始运行时间为：2019-12-22 04:42:09.891257\n",
      "程序结束运行时间为：2019-12-22 04:42:09.900180\n",
      "程序运行时间（去除打分耗时）为：0.008923\n",
      "程序的准确率为：17.68255627\n",
      "最终得分为：25.91430064\n"
     ]
    }
   ],
   "source": [
    "get_score.post_user_id('022')\n",
    "get_score.post_verify_data(tb1)"
   ]
  },
  {
   "cell_type": "markdown",
   "metadata": {},
   "source": [
    "### 连续值 yc属于[0,1] 再看下分数"
   ]
  },
  {
   "cell_type": "code",
   "execution_count": 137,
   "metadata": {},
   "outputs": [
    {
     "data": {
      "text/html": [
       "<div>\n",
       "<style scoped>\n",
       "    .dataframe tbody tr th:only-of-type {\n",
       "        vertical-align: middle;\n",
       "    }\n",
       "\n",
       "    .dataframe tbody tr th {\n",
       "        vertical-align: top;\n",
       "    }\n",
       "\n",
       "    .dataframe thead th {\n",
       "        text-align: right;\n",
       "    }\n",
       "</style>\n",
       "<table border=\"1\" class=\"dataframe\">\n",
       "  <thead>\n",
       "    <tr style=\"text-align: right;\">\n",
       "      <th></th>\n",
       "      <th>zjnsrsbh</th>\n",
       "      <th>Probability</th>\n",
       "    </tr>\n",
       "  </thead>\n",
       "  <tbody>\n",
       "    <tr>\n",
       "      <th>0</th>\n",
       "      <td>6a6c2ca338a3a48d33d701c7ef82986d</td>\n",
       "      <td>1.000000</td>\n",
       "    </tr>\n",
       "    <tr>\n",
       "      <th>1</th>\n",
       "      <td>e2ce1429b399560a9ffd5d6edee21379</td>\n",
       "      <td>0.021965</td>\n",
       "    </tr>\n",
       "    <tr>\n",
       "      <th>2</th>\n",
       "      <td>10978ccba846b58fc76742ab32b8c197</td>\n",
       "      <td>0.999780</td>\n",
       "    </tr>\n",
       "    <tr>\n",
       "      <th>3</th>\n",
       "      <td>c862b7f4ad6a531f3552bed41c94138c</td>\n",
       "      <td>0.005570</td>\n",
       "    </tr>\n",
       "    <tr>\n",
       "      <th>4</th>\n",
       "      <td>4628e5c776c5bede7d0208495e9d4ab7</td>\n",
       "      <td>1.000000</td>\n",
       "    </tr>\n",
       "  </tbody>\n",
       "</table>\n",
       "</div>"
      ],
      "text/plain": [
       "                           zjnsrsbh  Probability\n",
       "0  6a6c2ca338a3a48d33d701c7ef82986d     1.000000\n",
       "1  e2ce1429b399560a9ffd5d6edee21379     0.021965\n",
       "2  10978ccba846b58fc76742ab32b8c197     0.999780\n",
       "3  c862b7f4ad6a531f3552bed41c94138c     0.005570\n",
       "4  4628e5c776c5bede7d0208495e9d4ab7     1.000000"
      ]
     },
     "execution_count": 137,
     "metadata": {},
     "output_type": "execute_result"
    }
   ],
   "source": [
    "# 分类至1的概率 pr\n",
    "# 要缩小列（第二维，dim=1，dim从0开始）\n",
    "# 从start开始，保持length长\n",
    "# pr是第二列 start=1\n",
    "# 只留p1一列 length=1\n",
    "pr = preds1.narrow(dim=1, start=1, length=1).tolist()\n",
    "pr = [x[0] for x in pr]\n",
    "# print(pr)\n",
    "# for x in pr:\n",
    "#     if x>1 or x<0:\n",
    "#         print(x, end=',')\n",
    "\n",
    "tb1['Probability'] = pr\n",
    "tb1.head()"
   ]
  },
  {
   "cell_type": "code",
   "execution_count": 138,
   "metadata": {},
   "outputs": [
    {
     "name": "stdout",
     "output_type": "stream",
     "text": [
      "User-id:022\n",
      "程序开始运行时间为：2019-12-22 04:42:22.162320\n",
      "程序结束运行时间为：2019-12-22 04:42:22.168689\n",
      "程序运行时间（去除打分耗时）为：0.006369\n",
      "程序的准确率为：90.45194928\n",
      "最终得分为：91.40675435\n"
     ]
    }
   ],
   "source": [
    "get_score.post_user_id('022')\n",
    "get_score.post_verify_data(tb1)"
   ]
  },
  {
   "cell_type": "markdown",
   "metadata": {},
   "source": [
    "## model2 只用连续属性"
   ]
  },
  {
   "cell_type": "code",
   "execution_count": 140,
   "metadata": {},
   "outputs": [
    {
     "data": {
      "text/html": [],
      "text/plain": [
       "<IPython.core.display.HTML object>"
      ]
     },
     "metadata": {},
     "output_type": "display_data"
    },
    {
     "name": "stdout",
     "output_type": "stream",
     "text": [
      "LR Finder is complete, type {learner_name}.recorder.plot() to see the graph.\n"
     ]
    },
    {
     "data": {
      "image/png": "[encoded data removed]",
      "text/plain": [
       "<Figure size 432x288 with 1 Axes>"
      ]
     },
     "metadata": {
      "needs_background": "light"
     },
     "output_type": "display_data"
    }
   ],
   "source": [
    "cat_names2 = []\n",
    "traindata = TabularDataBunch.from_df(path, trainset, dep_var, valid_idx, procs, cat_names2, cont_names1, test_df=testsetb)\n",
    "\n",
    "learn2 = tabular_learner(traindata, layers=[200,100], metrics=accuracy)\n",
    "# 寻找合适的学习率\n",
    "learn2.lr_find()\n",
    "learn2.recorder.plot()"
   ]
  },
  {
   "cell_type": "code",
   "execution_count": 141,
   "metadata": {},
   "outputs": [
    {
     "data": {
      "text/html": [
       "<table border=\"1\" class=\"dataframe\">\n",
       "  <thead>\n",
       "    <tr style=\"text-align: left;\">\n",
       "      <th>epoch</th>\n",
       "      <th>train_loss</th>\n",
       "      <th>valid_loss</th>\n",
       "      <th>accuracy</th>\n",
       "      <th>time</th>\n",
       "    </tr>\n",
       "  </thead>\n",
       "  <tbody>\n",
       "    <tr>\n",
       "      <td>0</td>\n",
       "      <td>0.065277</td>\n",
       "      <td>0.042922</td>\n",
       "      <td>0.995250</td>\n",
       "      <td>00:32</td>\n",
       "    </tr>\n",
       "  </tbody>\n",
       "</table>"
      ],
      "text/plain": [
       "<IPython.core.display.HTML object>"
      ]
     },
     "metadata": {},
     "output_type": "display_data"
    }
   ],
   "source": [
    "learn2.fit(1, 0.05)"
   ]
  },
  {
   "cell_type": "code",
   "execution_count": 144,
   "metadata": {},
   "outputs": [
    {
     "data": {
      "text/plain": [
       "PosixPath('model/models/model2.pth')"
      ]
     },
     "execution_count": 144,
     "metadata": {},
     "output_type": "execute_result"
    }
   ],
   "source": [
    "learn2.save('model2', return_path=True)"
   ]
  },
  {
   "cell_type": "code",
   "execution_count": 146,
   "metadata": {},
   "outputs": [
    {
     "data": {
      "text/html": [],
      "text/plain": [
       "<IPython.core.display.HTML object>"
      ]
     },
     "metadata": {},
     "output_type": "display_data"
    },
    {
     "name": "stdout",
     "output_type": "stream",
     "text": [
      "测试集B中预测多少0(正常)\t3137\n",
      "                           zjnsrsbh  Probability\n",
      "0  6a6c2ca338a3a48d33d701c7ef82986d            1\n",
      "1  e2ce1429b399560a9ffd5d6edee21379            0\n",
      "2  10978ccba846b58fc76742ab32b8c197            1\n",
      "3  c862b7f4ad6a531f3552bed41c94138c            0\n",
      "4  4628e5c776c5bede7d0208495e9d4ab7            1\n",
      "------------分类yc{0,1} 的分数---------------\n",
      "User-id:022\n",
      "程序开始运行时间为：2019-12-22 04:46:21.306080\n",
      "程序结束运行时间为：2019-12-22 04:46:21.310805\n",
      "程序运行时间（去除打分耗时）为：0.004725\n",
      "程序的准确率为：21.13646056\n",
      "最终得分为：29.02281451\n",
      "------------概率yc[0,1]的分数---------------\n",
      "User-id:022\n",
      "程序开始运行时间为：2019-12-22 04:46:21.429280\n",
      "程序结束运行时间为：2019-12-22 04:46:21.434653\n",
      "程序运行时间（去除打分耗时）为：0.005373\n",
      "程序的准确率为：83.80077958\n",
      "最终得分为：85.42070162\n"
     ]
    }
   ],
   "source": [
    "learn2.export('model2.pkl')\n",
    "\n",
    "preds2, y2 = learn2.get_preds(DatasetType.Test)\n",
    "\n",
    "# # 分类yc{0,1} 的分数\n",
    "tb2 = pd.DataFrame()\n",
    "tb2['zjnsrsbh'] = testsetb['zjnsrsbh']\n",
    "\n",
    "yc2 = np.argmax(preds2, 1).tolist()\n",
    "print(f'测试集B中预测多少0(正常)\\t{yc2.count(0)}')\n",
    "tb2['Probability'] = yc2\n",
    "print(tb2.head())\n",
    "\n",
    "print('------------分类yc{0,1} 的分数---------------')\n",
    "get_score.post_user_id('022')\n",
    "get_score.post_verify_data(tb2)\n",
    "\n",
    "# 概率yc[0,1]的分数\n",
    "pr = preds2.narrow(dim=1, start=1, length=1).tolist()\n",
    "pr = [x[0] for x in pr]\n",
    "tb2['Probability'] = pr\n",
    "print('------------概率yc[0,1]的分数---------------')\n",
    "get_score.post_user_id('022')\n",
    "get_score.post_verify_data(tb2)"
   ]
  },
  {
   "cell_type": "markdown",
   "metadata": {},
   "source": [
    "## model3 部分cat部分cont"
   ]
  },
  {
   "cell_type": "code",
   "execution_count": 101,
   "metadata": {},
   "outputs": [
    {
     "name": "stdout",
     "output_type": "stream",
     "text": [
      "----------hy--------------\n",
      "0     会计、审计及税务服务\n",
      "1          建筑装饰业\n",
      "2      医疗用品及器材批发\n",
      "3    其他未列明金属制品制造\n",
      "4      其他非货币银行服务\n",
      "Name: hy, dtype: object\n",
      "----------hydl--------------\n",
      "0         商务服务业\n",
      "1    建筑装饰和其他建筑业\n",
      "2           批发业\n",
      "3         金属制品业\n",
      "4        货币金融服务\n",
      "Name: hydl, dtype: object\n",
      "----------hyml--------------\n",
      "0    租赁和商务服务业\n",
      "1         建筑业\n",
      "2      批发和零售业\n",
      "3         制造业\n",
      "4         金融业\n",
      "Name: hyml, dtype: object\n",
      "----------hyzl--------------\n",
      "0        咨询与调查\n",
      "1        建筑装饰业\n",
      "2    医药及医疗器材批发\n",
      "3     其他金属制品制造\n",
      "4      非货币银行服务\n",
      "Name: hyzl, dtype: object\n"
     ]
    }
   ],
   "source": [
    "for name in ['hy', 'hydl', 'hyml', 'hyzl']:\n",
    "    print(f'----------{name}--------------')\n",
    "    print(trainset[name][:5])"
   ]
  },
  {
   "cell_type": "code",
   "execution_count": 12,
   "metadata": {},
   "outputs": [],
   "source": [
    "# 报税人姓名bsrxm\n",
    "# 法定代表人姓名fddbrxm,\n",
    "# 行业hy, 行业中类hyzl,\n",
    "# 纳税人名称nsrmc, \n",
    "cat_names3 = [\n",
    "    'bsrxm',\n",
    "    'fddbrxm',\n",
    "    'hy', 'hyzl',\n",
    "    'nsrmc'\n",
    "]\n",
    "\n",
    "# 从业人数 cyrs, \n",
    "# 注册资本zczb, \n",
    "# 开票数kps，开票比例 kpbl，\n",
    "# 进项金额jxje，进项税额jxse，\n",
    "# 开票金额kpje，开票税额kpse，\n",
    "# 应纳税额ynse，入库金额rkse，欠税qs\n",
    "cont_names3 = [\n",
    "    'cyrs',\n",
    "    'zczb'\n",
    "]\n",
    "for yn in range(3): # year num\n",
    "    for sn in range(4): # seasom num\n",
    "        prefix = str(2017+yn)+'q'+str(sn+1)\n",
    "        for attr in [\n",
    "            'kps', 'fphdsl', 'kpbl',\n",
    "            'jxje', 'jxsl', 'jxse',\n",
    "            'kpje', 'kpsl', 'kpse',\n",
    "            'ynse', 'rkse',  'qs'\n",
    "        ]:\n",
    "            attr = prefix + attr\n",
    "            cont_names3.append(attr)"
   ]
  },
  {
   "cell_type": "code",
   "execution_count": 149,
   "metadata": {},
   "outputs": [
    {
     "data": {
      "text/html": [],
      "text/plain": [
       "<IPython.core.display.HTML object>"
      ]
     },
     "metadata": {},
     "output_type": "display_data"
    },
    {
     "name": "stdout",
     "output_type": "stream",
     "text": [
      "LR Finder is complete, type {learner_name}.recorder.plot() to see the graph.\n"
     ]
    },
    {
     "data": {
      "image/png": "[encoded data removed]",
      "text/plain": [
       "<Figure size 432x288 with 1 Axes>"
      ]
     },
     "metadata": {
      "needs_background": "light"
     },
     "output_type": "display_data"
    }
   ],
   "source": [
    "traindata = TabularDataBunch.from_df(path, trainset, dep_var, valid_idx, procs, cat_names3, cont_names3, test_df=testsetb)\n",
    "\n",
    "learn3 = tabular_learner(traindata, layers=[200,100], metrics=accuracy)\n",
    "# 寻找合适的学习率\n",
    "learn3.lr_find()\n",
    "learn3.recorder.plot()"
   ]
  },
  {
   "cell_type": "code",
   "execution_count": 150,
   "metadata": {},
   "outputs": [
    {
     "data": {
      "text/html": [
       "<table border=\"1\" class=\"dataframe\">\n",
       "  <thead>\n",
       "    <tr style=\"text-align: left;\">\n",
       "      <th>epoch</th>\n",
       "      <th>train_loss</th>\n",
       "      <th>valid_loss</th>\n",
       "      <th>accuracy</th>\n",
       "      <th>time</th>\n",
       "    </tr>\n",
       "  </thead>\n",
       "  <tbody>\n",
       "    <tr>\n",
       "      <td>0</td>\n",
       "      <td>0.056696</td>\n",
       "      <td>0.028653</td>\n",
       "      <td>0.995250</td>\n",
       "      <td>03:34</td>\n",
       "    </tr>\n",
       "  </tbody>\n",
       "</table>"
      ],
      "text/plain": [
       "<IPython.core.display.HTML object>"
      ]
     },
     "metadata": {},
     "output_type": "display_data"
    }
   ],
   "source": [
    "learn3.fit(1, 1e-2)"
   ]
  },
  {
   "cell_type": "code",
   "execution_count": 151,
   "metadata": {},
   "outputs": [],
   "source": [
    "learn3.save('model3', return_path=True)\n",
    "learn3.export('model3.pkl')"
   ]
  },
  {
   "cell_type": "code",
   "execution_count": 152,
   "metadata": {},
   "outputs": [
    {
     "data": {
      "text/html": [],
      "text/plain": [
       "<IPython.core.display.HTML object>"
      ]
     },
     "metadata": {},
     "output_type": "display_data"
    },
    {
     "name": "stdout",
     "output_type": "stream",
     "text": [
      "测试集B中预测多少0(正常)\t3171\n",
      "                           zjnsrsbh  Probability\n",
      "0  6a6c2ca338a3a48d33d701c7ef82986d            1\n",
      "1  e2ce1429b399560a9ffd5d6edee21379            0\n",
      "2  10978ccba846b58fc76742ab32b8c197            1\n",
      "3  c862b7f4ad6a531f3552bed41c94138c            0\n",
      "4  4628e5c776c5bede7d0208495e9d4ab7            1\n",
      "------------分类yc{0,1} 的分数---------------\n",
      "User-id:022\n",
      "程序开始运行时间为：2019-12-22 04:53:30.398475\n",
      "程序结束运行时间为：2019-12-22 04:53:30.403317\n",
      "程序运行时间（去除打分耗时）为：0.004842\n",
      "程序的准确率为：0.4131814\n",
      "最终得分为：10.37186326\n",
      "------------概率yc[0,1]的分数---------------\n",
      "User-id:022\n",
      "程序开始运行时间为：2019-12-22 04:53:30.522901\n",
      "程序结束运行时间为：2019-12-22 04:53:30.529333\n",
      "程序运行时间（去除打分耗时）为：0.006432\n",
      "程序的准确率为：90.90110146\n",
      "最终得分为：91.81099132\n"
     ]
    }
   ],
   "source": [
    "preds3, y3 = learn3.get_preds(DatasetType.Test)\n",
    "\n",
    "# 分类yc{0,1} 的分数\n",
    "tb3 = pd.DataFrame()\n",
    "tb3['zjnsrsbh'] = testsetb['zjnsrsbh']\n",
    "\n",
    "yc3 = np.argmax(preds3, 1).tolist()\n",
    "print(f'测试集B中预测多少0(正常)\\t{yc3.count(0)}')\n",
    "tb3['Probability'] = yc3\n",
    "print(tb3.head())\n",
    "\n",
    "print('------------分类yc{0,1} 的分数---------------')\n",
    "get_score.post_user_id('022')\n",
    "get_score.post_verify_data(tb3)\n",
    "\n",
    "# 概率yc[0,1]的分数\n",
    "pr = preds3.narrow(dim=1, start=1, length=1).tolist()\n",
    "pr = [x[0] for x in pr]\n",
    "tb3['Probability'] = pr\n",
    "print('------------概率yc[0,1]的分数---------------')\n",
    "get_score.post_user_id('022')\n",
    "get_score.post_verify_data(tb3)"
   ]
  },
  {
   "cell_type": "markdown",
   "metadata": {},
   "source": [
    "## model4 只用直接提供的属性，意味着基本无预处理，耗时最短"
   ]
  },
  {
   "cell_type": "code",
   "execution_count": 154,
   "metadata": {},
   "outputs": [],
   "source": [
    "# 分类值categorical\n",
    "cat_names4 = [\n",
    "    'bsrxm', 'bsrxmmp',\n",
    "    'fdbrxmp', 'fddbrxm',\n",
    "    'hy', 'hydl', 'hyml', 'hyzl', \n",
    "    'nsrmc', \n",
    "    'zjnsrsbh'\n",
    "]\n",
    "\n",
    "# 连续值continous\n",
    "cont_names4 = [\n",
    "    'cyrs',\n",
    "    'zczb',\n",
    "]\n",
    "for yn in range(3): # year num\n",
    "    for sn in range(4): # seasom num\n",
    "        prefix = str(2017+yn)+'q'+str(sn+1)\n",
    "        for attr in [\n",
    "            'kps', 'fphdsl',\n",
    "            'jxje', 'jxsl',\n",
    "            'kpje', 'kpsl', 'kpse',\n",
    "            'rkse',\n",
    "        ]:\n",
    "            attr = prefix + attr\n",
    "            cont_names4.append(attr)"
   ]
  },
  {
   "cell_type": "code",
   "execution_count": 157,
   "metadata": {},
   "outputs": [
    {
     "data": {
      "text/html": [],
      "text/plain": [
       "<IPython.core.display.HTML object>"
      ]
     },
     "metadata": {},
     "output_type": "display_data"
    },
    {
     "name": "stdout",
     "output_type": "stream",
     "text": [
      "LR Finder is complete, type {learner_name}.recorder.plot() to see the graph.\n"
     ]
    },
    {
     "data": {
      "image/png": "[encoded data removed]",
      "text/plain": [
       "<Figure size 432x288 with 1 Axes>"
      ]
     },
     "metadata": {
      "needs_background": "light"
     },
     "output_type": "display_data"
    }
   ],
   "source": [
    "traindata = TabularDataBunch.from_df(path, trainset, dep_var, valid_idx, procs, cat_names4, cont_names4, test_df=testsetb)\n",
    "\n",
    "learn4 = tabular_learner(traindata, layers=[200,100], metrics=accuracy)\n",
    "# 寻找合适的学习率\n",
    "learn4.lr_find()\n",
    "learn4.recorder.plot()"
   ]
  },
  {
   "cell_type": "code",
   "execution_count": 158,
   "metadata": {},
   "outputs": [
    {
     "data": {
      "text/html": [
       "<table border=\"1\" class=\"dataframe\">\n",
       "  <thead>\n",
       "    <tr style=\"text-align: left;\">\n",
       "      <th>epoch</th>\n",
       "      <th>train_loss</th>\n",
       "      <th>valid_loss</th>\n",
       "      <th>accuracy</th>\n",
       "      <th>time</th>\n",
       "    </tr>\n",
       "  </thead>\n",
       "  <tbody>\n",
       "    <tr>\n",
       "      <td>0</td>\n",
       "      <td>0.093458</td>\n",
       "      <td>0.167054</td>\n",
       "      <td>0.917500</td>\n",
       "      <td>05:40</td>\n",
       "    </tr>\n",
       "  </tbody>\n",
       "</table>"
      ],
      "text/plain": [
       "<IPython.core.display.HTML object>"
      ]
     },
     "metadata": {},
     "output_type": "display_data"
    }
   ],
   "source": [
    "learn4.fit(1, 0.03)"
   ]
  },
  {
   "cell_type": "code",
   "execution_count": 163,
   "metadata": {},
   "outputs": [
    {
     "data": {
      "text/html": [],
      "text/plain": [
       "<IPython.core.display.HTML object>"
      ]
     },
     "metadata": {},
     "output_type": "display_data"
    },
    {
     "name": "stdout",
     "output_type": "stream",
     "text": [
      "LR Finder is complete, type {learner_name}.recorder.plot() to see the graph.\n"
     ]
    },
    {
     "data": {
      "image/png": "[encoded data removed]",
      "text/plain": [
       "<Figure size 432x288 with 1 Axes>"
      ]
     },
     "metadata": {
      "needs_background": "light"
     },
     "output_type": "display_data"
    }
   ],
   "source": [
    "learn4.lr_find()\n",
    "learn4.recorder.plot()"
   ]
  },
  {
   "cell_type": "code",
   "execution_count": 159,
   "metadata": {},
   "outputs": [],
   "source": [
    "learn4.save('model4', return_path=True)\n",
    "learn4.export('model4.pkl')"
   ]
  },
  {
   "cell_type": "code",
   "execution_count": 160,
   "metadata": {},
   "outputs": [
    {
     "data": {
      "text/html": [],
      "text/plain": [
       "<IPython.core.display.HTML object>"
      ]
     },
     "metadata": {},
     "output_type": "display_data"
    },
    {
     "name": "stdout",
     "output_type": "stream",
     "text": [
      "测试集B中预测多少0(正常)\t3767\n",
      "                           zjnsrsbh  Probability\n",
      "0  6a6c2ca338a3a48d33d701c7ef82986d            1\n",
      "1  e2ce1429b399560a9ffd5d6edee21379            0\n",
      "2  10978ccba846b58fc76742ab32b8c197            0\n",
      "3  c862b7f4ad6a531f3552bed41c94138c            0\n",
      "4  4628e5c776c5bede7d0208495e9d4ab7            1\n",
      "------------分类yc{0,1} 的分数---------------\n",
      "User-id:022\n",
      "程序开始运行时间为：2019-12-22 05:06:40.602134\n",
      "程序结束运行时间为：2019-12-22 05:06:40.606864\n",
      "程序运行时间（去除打分耗时）为：0.00473\n",
      "程序的准确率为：0\n",
      "最终得分为：0\n",
      "------------概率yc[0,1]的分数---------------\n",
      "User-id:022\n",
      "程序开始运行时间为：2019-12-22 05:06:40.726303\n",
      "程序结束运行时间为：2019-12-22 05:06:40.732145\n",
      "程序运行时间（去除打分耗时）为：0.005842\n",
      "程序的准确率为：31.30259388\n",
      "最终得分为：38.17233449\n"
     ]
    }
   ],
   "source": [
    "preds4, y4 = learn1.get_preds(DatasetType.Test)\n",
    "\n",
    "# 分类yc{0,1} 的分数\n",
    "tb4 = pd.DataFrame()\n",
    "tb4['zjnsrsbh'] = testsetb['zjnsrsbh']\n",
    "\n",
    "yc4 = np.argmax(preds4, 1).tolist()\n",
    "print(f'测试集B中预测多少0(正常)\\t{yc4.count(0)}')\n",
    "tb4['Probability'] = yc4\n",
    "print(tb4.head())\n",
    "\n",
    "print('------------分类yc{0,1} 的分数---------------')\n",
    "get_score.post_user_id('022')\n",
    "get_score.post_verify_data(tb4)\n",
    "\n",
    "# 概率yc[0,1]的分数\n",
    "pr = preds4.narrow(dim=1, start=1, length=1).tolist()\n",
    "pr = [x[0] for x in pr]\n",
    "tb4['Probability'] = pr\n",
    "print('------------概率yc[0,1]的分数---------------')\n",
    "get_score.post_user_id('022')\n",
    "get_score.post_verify_data(tb4)"
   ]
  },
  {
   "cell_type": "markdown",
   "metadata": {},
   "source": [
    "### 综上，model3（部分cat部分cont）得分最高（91.811），model4（只用直接属性）得分最低（38.172）这说明：\n",
    "\n",
    "（1）仅直接属性是不够的\n",
    "\n",
    "（2）属性间存在关联关系，要注意减少冗余。\n",
    "\n",
    "四个model按耗时从低到高排序：4 < 3 = 2 < 1"
   ]
  },
  {
   "cell_type": "markdown",
   "metadata": {},
   "source": [
    "## model5 增强模型"
   ]
  },
  {
   "cell_type": "code",
   "execution_count": 172,
   "metadata": {},
   "outputs": [
    {
     "data": {
      "text/html": [],
      "text/plain": [
       "<IPython.core.display.HTML object>"
      ]
     },
     "metadata": {},
     "output_type": "display_data"
    },
    {
     "name": "stdout",
     "output_type": "stream",
     "text": [
      "LR Finder is complete, type {learner_name}.recorder.plot() to see the graph.\n"
     ]
    },
    {
     "data": {
      "image/png": "[encoded data removed]",
      "text/plain": [
       "<Figure size 432x288 with 1 Axes>"
      ]
     },
     "metadata": {
      "needs_background": "light"
     },
     "output_type": "display_data"
    }
   ],
   "source": [
    "valid_idx = []\n",
    "traindata = TabularDataBunch.from_df(path, trainset, dep_var, valid_idx, procs, cat_names3, cont_names3, test_df=testsetb)\n",
    "\n",
    "learn5 = tabular_learner(traindata, layers=[1000,500], ps=[0.001,0.01], emb_drop=0.04, metrics=accuracy)\n",
    "learn5.model\n",
    "\n",
    "# 寻找合适的学习率\n",
    "learn5.lr_find()\n",
    "learn5.recorder.plot()"
   ]
  },
  {
   "cell_type": "code",
   "execution_count": 173,
   "metadata": {},
   "outputs": [
    {
     "data": {
      "text/html": [
       "<table border=\"1\" class=\"dataframe\">\n",
       "  <thead>\n",
       "    <tr style=\"text-align: left;\">\n",
       "      <th>epoch</th>\n",
       "      <th>train_loss</th>\n",
       "      <th>valid_loss</th>\n",
       "      <th>accuracy</th>\n",
       "      <th>time</th>\n",
       "    </tr>\n",
       "  </thead>\n",
       "  <tbody>\n",
       "    <tr>\n",
       "      <td>0</td>\n",
       "      <td>0.066183</td>\n",
       "      <td>#na#</td>\n",
       "      <td>08:14</td>\n",
       "    </tr>\n",
       "  </tbody>\n",
       "</table>"
      ],
      "text/plain": [
       "<IPython.core.display.HTML object>"
      ]
     },
     "metadata": {},
     "output_type": "display_data"
    }
   ],
   "source": [
    "learn5.fit_one_cycle(1, 1e-2, wd=0.2)"
   ]
  },
  {
   "cell_type": "code",
   "execution_count": 176,
   "metadata": {},
   "outputs": [],
   "source": [
    "learn5.save('model5', return_path=True)\n",
    "learn5.export('model5.pkl')"
   ]
  },
  {
   "cell_type": "code",
   "execution_count": 174,
   "metadata": {},
   "outputs": [
    {
     "data": {
      "text/html": [],
      "text/plain": [
       "<IPython.core.display.HTML object>"
      ]
     },
     "metadata": {},
     "output_type": "display_data"
    },
    {
     "name": "stdout",
     "output_type": "stream",
     "text": [
      "测试集B中预测多少0(正常)\t3146\n",
      "                           zjnsrsbh\n",
      "0  6a6c2ca338a3a48d33d701c7ef82986d\n",
      "1  e2ce1429b399560a9ffd5d6edee21379\n",
      "2  10978ccba846b58fc76742ab32b8c197\n",
      "3  c862b7f4ad6a531f3552bed41c94138c\n",
      "4  4628e5c776c5bede7d0208495e9d4ab7\n",
      "------------分类yc{0,1} 的分数---------------\n",
      "User-id:022\n",
      "程序开始运行时间为：2019-12-22 06:21:25.454346\n",
      "程序结束运行时间为：2019-12-22 06:21:25.459689\n",
      "程序运行时间（去除打分耗时）为：0.005343\n",
      "程序的准确率为：15.95564411\n",
      "最终得分为：24.3600797\n",
      "------------概率yc[0,1]的分数---------------\n",
      "User-id:022\n",
      "程序开始运行时间为：2019-12-22 06:21:25.581578\n",
      "程序结束运行时间为：2019-12-22 06:21:25.584785\n",
      "程序运行时间（去除打分耗时）为：0.003207\n",
      "程序的准确率为：91.03051793\n",
      "最终得分为：91.92746614\n"
     ]
    }
   ],
   "source": [
    "preds5, y5 = learn5.get_preds(DatasetType.Test)\n",
    "\n",
    "# 分类yc{0,1} 的分数\n",
    "tb5 = pd.DataFrame()\n",
    "tb5['zjnsrsbh'] = testsetb['zjnsrsbh']\n",
    "\n",
    "yc5 = np.argmax(preds5, 1).tolist()\n",
    "print(f'测试集B中预测多少0(正常)\\t{yc5.count(0)}')\n",
    "tb1['Probability'] = yc5\n",
    "print(tb5.head())\n",
    "\n",
    "print('------------分类yc{0,1} 的分数---------------')\n",
    "get_score.post_user_id('022')\n",
    "get_score.post_verify_data(tb1)\n",
    "\n",
    "# 概率yc[0,1]的分数\n",
    "pr = preds5.narrow(dim=1, start=1, length=1).tolist()\n",
    "pr = [x[0] for x in pr]\n",
    "tb5['Probability'] = pr\n",
    "print('------------概率yc[0,1]的分数---------------')\n",
    "get_score.post_user_id('022')\n",
    "get_score.post_verify_data(tb5)"
   ]
  },
  {
   "cell_type": "markdown",
   "metadata": {},
   "source": [
    "## model6 以上是否存在过拟合"
   ]
  },
  {
   "cell_type": "code",
   "execution_count": 25,
   "metadata": {},
   "outputs": [
    {
     "name": "stderr",
     "output_type": "stream",
     "text": [
      "/opt/conda/lib/python3.7/site-packages/fastai/data_block.py:457: UserWarning: Your validation set is empty. If this is by design, use `split_none()`\n",
      "                 or pass `ignore_empty=True` when labelling to remove this warning.\n",
      "  or pass `ignore_empty=True` when labelling to remove this warning.\"\"\")\n"
     ]
    },
    {
     "data": {
      "text/html": [],
      "text/plain": [
       "<IPython.core.display.HTML object>"
      ]
     },
     "metadata": {},
     "output_type": "display_data"
    },
    {
     "name": "stdout",
     "output_type": "stream",
     "text": [
      "LR Finder is complete, type {learner_name}.recorder.plot() to see the graph.\n"
     ]
    },
    {
     "data": {
      "image/png": "[encoded data removed]",
      "text/plain": [
       "<Figure size 432x288 with 1 Axes>"
      ]
     },
     "metadata": {
      "needs_background": "light"
     },
     "output_type": "display_data"
    }
   ],
   "source": [
    "valid_idx = []\n",
    "traindata = TabularDataBunch.from_df(path, trainset, dep_var, valid_idx, procs, cat_names3, cont_names3, test_df=testsetb)\n",
    "\n",
    "learn6 = tabular_learner(traindata, layers=[500,300], ps=[0.001,0.01], emb_drop=0.1, metrics=accuracy)\n",
    "learn6.model\n",
    "\n",
    "# 寻找合适的学习率\n",
    "learn6.lr_find()\n",
    "learn6.recorder.plot()"
   ]
  },
  {
   "cell_type": "code",
   "execution_count": 26,
   "metadata": {},
   "outputs": [
    {
     "data": {
      "text/html": [
       "<table border=\"1\" class=\"dataframe\">\n",
       "  <thead>\n",
       "    <tr style=\"text-align: left;\">\n",
       "      <th>epoch</th>\n",
       "      <th>train_loss</th>\n",
       "      <th>valid_loss</th>\n",
       "      <th>accuracy</th>\n",
       "      <th>time</th>\n",
       "    </tr>\n",
       "  </thead>\n",
       "  <tbody>\n",
       "    <tr>\n",
       "      <td>0</td>\n",
       "      <td>0.073497</td>\n",
       "      <td>#na#</td>\n",
       "      <td>05:36</td>\n",
       "    </tr>\n",
       "  </tbody>\n",
       "</table>"
      ],
      "text/plain": [
       "<IPython.core.display.HTML object>"
      ]
     },
     "metadata": {},
     "output_type": "display_data"
    }
   ],
   "source": [
    "learn6.fit_one_cycle(1, 1e-2, wd=0.2)"
   ]
  },
  {
   "cell_type": "code",
   "execution_count": 180,
   "metadata": {},
   "outputs": [],
   "source": [
    "learn6.save('model6', return_path=True)\n",
    "learn6.export('model6.pkl')"
   ]
  },
  {
   "cell_type": "code",
   "execution_count": 181,
   "metadata": {},
   "outputs": [
    {
     "data": {
      "text/html": [],
      "text/plain": [
       "<IPython.core.display.HTML object>"
      ]
     },
     "metadata": {},
     "output_type": "display_data"
    },
    {
     "name": "stdout",
     "output_type": "stream",
     "text": [
      "测试集B中预测多少0(正常)\t3162\n",
      "                           zjnsrsbh\n",
      "0  6a6c2ca338a3a48d33d701c7ef82986d\n",
      "1  e2ce1429b399560a9ffd5d6edee21379\n",
      "2  10978ccba846b58fc76742ab32b8c197\n",
      "3  c862b7f4ad6a531f3552bed41c94138c\n",
      "4  4628e5c776c5bede7d0208495e9d4ab7\n",
      "------------分类yc{0,1} 的分数---------------\n",
      "User-id:022\n",
      "程序开始运行时间为：2019-12-22 06:35:04.036180\n",
      "程序结束运行时间为：2019-12-22 06:35:04.041160\n",
      "程序运行时间（去除打分耗时）为：0.00498\n",
      "程序的准确率为：6.74530373\n",
      "最终得分为：16.07077336\n",
      "------------概率yc[0,1]的分数---------------\n",
      "User-id:022\n",
      "程序开始运行时间为：2019-12-22 06:35:04.161490\n",
      "程序结束运行时间为：2019-12-22 06:35:04.170111\n",
      "程序运行时间（去除打分耗时）为：0.008621\n",
      "程序的准确率为：91.48339991\n",
      "最终得分为：92.33505992\n"
     ]
    }
   ],
   "source": [
    "preds6, y6 = learn6.get_preds(DatasetType.Test)\n",
    "\n",
    "# 分类yc{0,1} 的分数\n",
    "tb6 = pd.DataFrame()\n",
    "tb6['zjnsrsbh'] = testsetb['zjnsrsbh']\n",
    "\n",
    "yc6 = np.argmax(preds6, 1).tolist()\n",
    "print(f'测试集B中预测多少0(正常)\\t{yc6.count(0)}')\n",
    "tb1['Probability'] = yc6\n",
    "print(tb6.head())\n",
    "\n",
    "print('------------分类yc{0,1} 的分数---------------')\n",
    "get_score.post_user_id('022')\n",
    "get_score.post_verify_data(tb1)\n",
    "\n",
    "# 概率yc[0,1]的分数\n",
    "pr = preds6.narrow(dim=1, start=1, length=1).tolist()\n",
    "pr = [x[0] for x in pr]\n",
    "tb6['Probability'] = pr\n",
    "print('------------概率yc[0,1]的分数---------------')\n",
    "get_score.post_user_id('022')\n",
    "get_score.post_verify_data(tb6)"
   ]
  },
  {
   "cell_type": "markdown",
   "metadata": {},
   "source": [
    "## model7 减少训练集的量"
   ]
  },
  {
   "cell_type": "code",
   "execution_count": 21,
   "metadata": {},
   "outputs": [
    {
     "data": {
      "text/html": [],
      "text/plain": [
       "<IPython.core.display.HTML object>"
      ]
     },
     "metadata": {},
     "output_type": "display_data"
    },
    {
     "name": "stdout",
     "output_type": "stream",
     "text": [
      "LR Finder is complete, type {learner_name}.recorder.plot() to see the graph.\n"
     ]
    },
    {
     "data": {
      "image/png": "[encoded data removed]",
      "text/plain": [
       "<Figure size 432x288 with 1 Axes>"
      ]
     },
     "metadata": {
      "needs_background": "light"
     },
     "output_type": "display_data"
    }
   ],
   "source": [
    "path = 'model' # 存放训练过程中产生的数据，如模型\n",
    "\n",
    "n = len(trainset)\n",
    "valid_idx = range(int(n*0.6), n) # 后40%作验证集\n",
    "traindata = TabularDataBunch.from_df(path, trainset, dep_var, valid_idx, procs, cat_names3, cont_names3, test_df=testsetb)\n",
    "\n",
    "learn7 = tabular_learner(traindata, layers=[500,300], ps=[0.001,0.01], emb_drop=0.1, metrics=accuracy)\n",
    "learn7.model\n",
    "\n",
    "# 寻找合适的学习率\n",
    "learn7.lr_find()\n",
    "learn7.recorder.plot()"
   ]
  },
  {
   "cell_type": "code",
   "execution_count": 22,
   "metadata": {},
   "outputs": [
    {
     "data": {
      "text/html": [
       "<table border=\"1\" class=\"dataframe\">\n",
       "  <thead>\n",
       "    <tr style=\"text-align: left;\">\n",
       "      <th>epoch</th>\n",
       "      <th>train_loss</th>\n",
       "      <th>valid_loss</th>\n",
       "      <th>accuracy</th>\n",
       "      <th>time</th>\n",
       "    </tr>\n",
       "  </thead>\n",
       "  <tbody>\n",
       "    <tr>\n",
       "      <td>0</td>\n",
       "      <td>0.063821</td>\n",
       "      <td>0.072750</td>\n",
       "      <td>0.994625</td>\n",
       "      <td>03:21</td>\n",
       "    </tr>\n",
       "  </tbody>\n",
       "</table>"
      ],
      "text/plain": [
       "<IPython.core.display.HTML object>"
      ]
     },
     "metadata": {},
     "output_type": "display_data"
    }
   ],
   "source": [
    "learn7.fit_one_cycle(1, 1e-2, wd=0.2)"
   ]
  },
  {
   "cell_type": "code",
   "execution_count": 23,
   "metadata": {},
   "outputs": [],
   "source": [
    "learn7.save('model7', return_path=True)\n",
    "learn7.export('model7.pkl')"
   ]
  },
  {
   "cell_type": "code",
   "execution_count": 24,
   "metadata": {},
   "outputs": [
    {
     "data": {
      "text/html": [],
      "text/plain": [
       "<IPython.core.display.HTML object>"
      ]
     },
     "metadata": {},
     "output_type": "display_data"
    },
    {
     "name": "stdout",
     "output_type": "stream",
     "text": [
      "测试集B中预测多少0(正常)\t3153\n",
      "                           zjnsrsbh  Probability\n",
      "0  6a6c2ca338a3a48d33d701c7ef82986d            1\n",
      "1  e2ce1429b399560a9ffd5d6edee21379            0\n",
      "2  10978ccba846b58fc76742ab32b8c197            1\n",
      "3  c862b7f4ad6a531f3552bed41c94138c            0\n",
      "4  4628e5c776c5bede7d0208495e9d4ab7            1\n",
      "------------分类yc{0,1} 的分数---------------\n",
      "User-id:022\n",
      "程序开始运行时间为：2019-12-22 11:02:04.026845\n",
      "程序结束运行时间为：2019-12-22 11:02:04.030554\n",
      "程序运行时间（去除打分耗时）为：0.003709\n",
      "程序的准确率为：11.92612019\n",
      "最终得分为：20.73350817\n",
      "------------概率yc[0,1]的分数---------------\n",
      "User-id:022\n",
      "程序开始运行时间为：2019-12-22 11:02:04.154548\n",
      "程序结束运行时间为：2019-12-22 11:02:04.159074\n",
      "程序运行时间（去除打分耗时）为：0.004526\n",
      "程序的准确率为：89.83484344\n",
      "最终得分为：90.85135909\n"
     ]
    }
   ],
   "source": [
    "preds7, y7 = learn7.get_preds(DatasetType.Test)\n",
    "\n",
    "# 分类yc{0,1} 的分数\n",
    "tb7 = pd.DataFrame()\n",
    "tb7['zjnsrsbh'] = testsetb['zjnsrsbh']\n",
    "\n",
    "yc7 = np.argmax(preds7, 1).tolist()\n",
    "print(f'测试集B中预测多少0(正常)\\t{yc7.count(0)}')\n",
    "tb7['Probability'] = yc7\n",
    "print(tb7.head())\n",
    "\n",
    "print('------------分类yc{0,1} 的分数---------------')\n",
    "get_score.post_user_id('022')\n",
    "get_score.post_verify_data(tb7)\n",
    "\n",
    "# 概率yc[0,1]的分数\n",
    "pr = preds7.narrow(dim=1, start=1, length=1).tolist()\n",
    "pr = [x[0] for x in pr]\n",
    "tb7['Probability'] = pr\n",
    "print('------------概率yc[0,1]的分数---------------')\n",
    "get_score.post_user_id('022')\n",
    "get_score.post_verify_data(tb7)"
   ]
  },
  {
   "cell_type": "markdown",
   "metadata": {},
   "source": [
    "### model5~7中，model6得分最高（92.335），\n",
    "\n",
    "说明增强模型能提高一定的得分，如一定程度地增强层，添加drop机制。\n",
    "\n",
    "model6 7 除训练集大小其余设置相同，6用全集训练，7用60%训练，6的得分更高，说明全集训练并没有过多。"
   ]
  },
  {
   "cell_type": "markdown",
   "metadata": {},
   "source": [
    "## 一个尝试"
   ]
  },
  {
   "cell_type": "code",
   "execution_count": 31,
   "metadata": {},
   "outputs": [
    {
     "data": {
      "text/html": [],
      "text/plain": [
       "<IPython.core.display.HTML object>"
      ]
     },
     "metadata": {},
     "output_type": "display_data"
    },
    {
     "name": "stdout",
     "output_type": "stream",
     "text": [
      "min r\t0.00014594814274460077\n",
      "------------概率yc[0,1]的分数---------------\n",
      "User-id:022\n",
      "程序开始运行时间为：2019-12-22 11:21:53.514042\n",
      "程序结束运行时间为：2019-12-22 11:21:53.518580\n",
      "程序运行时间（去除打分耗时）为：0.004538\n",
      "程序的准确率为：89.80452581\n",
      "最终得分为：90.82407323\n"
     ]
    }
   ],
   "source": [
    "preds6, y6 = learn6.get_preds(DatasetType.Test)\n",
    "\n",
    "# 分类yc{0,1} 的分数\n",
    "tb6 = pd.DataFrame()\n",
    "tb6['zjnsrsbh'] = testsetb['zjnsrsbh']\n",
    "\n",
    "# 概率yc[0,1]的分数\n",
    "pr = preds6.narrow(dim=1, start=1, length=1).tolist()\n",
    "pr = [x[0] for x in pr]\n",
    "\n",
    "min_pr = min(pr)\n",
    "print(f'min r\\t{min_pr}')\n",
    "pr = [x-min_pr for x in pr]\n",
    "\n",
    "tb6['Probability'] = pr\n",
    "print('------------概率yc[0,1]的分数---------------')\n",
    "get_score.post_user_id('022')\n",
    "get_score.post_verify_data(tb6)"
   ]
  },
  {
   "cell_type": "markdown",
   "metadata": {},
   "source": [
    "## A榜"
   ]
  },
  {
   "cell_type": "markdown",
   "metadata": {},
   "source": [
    "用model3 打下A榜。"
   ]
  },
  {
   "cell_type": "code",
   "execution_count": 161,
   "metadata": {},
   "outputs": [
    {
     "data": {
      "text/html": [],
      "text/plain": [
       "<IPython.core.display.HTML object>"
      ]
     },
     "metadata": {},
     "output_type": "display_data"
    },
    {
     "name": "stdout",
     "output_type": "stream",
     "text": [
      "LR Finder is complete, type {learner_name}.recorder.plot() to see the graph.\n"
     ]
    },
    {
     "data": {
      "image/png": "[encoded data removed]",
      "text/plain": [
       "<Figure size 432x288 with 1 Axes>"
      ]
     },
     "metadata": {
      "needs_background": "light"
     },
     "output_type": "display_data"
    }
   ],
   "source": [
    "from ustciscrLab_A import get_score as get_score_A\n",
    "\n",
    "traindata = TabularDataBunch.from_df(path, trainset, dep_var, valid_idx, procs, cat_names3, cont_names3, test_df=testseta)\n",
    "\n",
    "learnA = tabular_learner(traindata, layers=[200,100], metrics=accuracy)\n",
    "# 寻找合适的学习率\n",
    "learnA.lr_find()\n",
    "learnA.recorder.plot()"
   ]
  },
  {
   "cell_type": "code",
   "execution_count": 162,
   "metadata": {},
   "outputs": [
    {
     "data": {
      "text/html": [
       "<table border=\"1\" class=\"dataframe\">\n",
       "  <thead>\n",
       "    <tr style=\"text-align: left;\">\n",
       "      <th>epoch</th>\n",
       "      <th>train_loss</th>\n",
       "      <th>valid_loss</th>\n",
       "      <th>accuracy</th>\n",
       "      <th>time</th>\n",
       "    </tr>\n",
       "  </thead>\n",
       "  <tbody>\n",
       "    <tr>\n",
       "      <td>0</td>\n",
       "      <td>0.057321</td>\n",
       "      <td>0.034106</td>\n",
       "      <td>0.992250</td>\n",
       "      <td>03:37</td>\n",
       "    </tr>\n",
       "  </tbody>\n",
       "</table>"
      ],
      "text/plain": [
       "<IPython.core.display.HTML object>"
      ]
     },
     "metadata": {},
     "output_type": "display_data"
    }
   ],
   "source": [
    "learnA.fit(1, 1e-2)"
   ]
  },
  {
   "cell_type": "code",
   "execution_count": 165,
   "metadata": {},
   "outputs": [],
   "source": [
    "learnA.save('modelA', return_path=True)\n",
    "learnA.export('modelA.pkl')"
   ]
  },
  {
   "cell_type": "code",
   "execution_count": 166,
   "metadata": {},
   "outputs": [
    {
     "data": {
      "text/html": [],
      "text/plain": [
       "<IPython.core.display.HTML object>"
      ]
     },
     "metadata": {},
     "output_type": "display_data"
    },
    {
     "name": "stdout",
     "output_type": "stream",
     "text": [
      "测试集A中预测多少0(正常)\t3133\n",
      "                           zjnsrsbh  Probability\n",
      "0  d4ef16de060fcf961683053abe9ed6fc            0\n",
      "1  a6478edf406d98f19c6838981794a18a            1\n",
      "2  9affb0dff8d024cbc8fb245947341264            0\n",
      "3  0f446fcfcd8b55c78c858923d7dd83e8            1\n",
      "4  1694cbf4342a6c58483c43c602844dcb            1\n",
      "------------分类yc{0,1} 的分数---------------\n",
      "User-id:022\n",
      "程序开始运行时间为：2019-12-22 05:20:08.140099\n",
      "程序结束运行时间为：2019-12-22 05:20:08.144994\n",
      "程序运行时间（去除打分耗时）为：0.004895\n",
      "程序的准确率为：6.16945756\n",
      "最终得分为：15.55251181\n",
      "------------概率yc[0,1]的分数---------------\n",
      "User-id:022\n",
      "程序开始运行时间为：2019-12-22 05:20:08.276925\n",
      "程序结束运行时间为：2019-12-22 05:20:08.281942\n",
      "程序运行时间（去除打分耗时）为：0.005017\n",
      "程序的准确率为：91.61382176\n",
      "最终得分为：92.45243958\n"
     ]
    }
   ],
   "source": [
    "predsA, yA = learnA.get_preds(DatasetType.Test)\n",
    "\n",
    "# 分类yc{0,1} 的分数\n",
    "tbA = pd.DataFrame()\n",
    "tbA['zjnsrsbh'] = testseta['zjnsrsbh']\n",
    "\n",
    "ycA = np.argmax(predsA, 1).tolist()\n",
    "print(f'测试集A中预测多少0(正常)\\t{ycA.count(0)}')\n",
    "tbA['Probability'] = ycA\n",
    "print(tbA.head())\n",
    "\n",
    "print('------------分类yc{0,1} 的分数---------------')\n",
    "get_score_A.post_user_id('022')\n",
    "get_score_A.post_verify_data(tbA)\n",
    "\n",
    "# 概率yc[0,1]的分数\n",
    "pr = predsA.narrow(dim=1, start=1, length=1).tolist()\n",
    "pr = [x[0] for x in pr]\n",
    "tbA['Probability'] = pr\n",
    "print('------------概率yc[0,1]的分数---------------')\n",
    "get_score_A.post_user_id('022')\n",
    "get_score_A.post_verify_data(tbA)"
   ]
  }
 ],
 "metadata": {
  "kernelspec": {
   "display_name": "Python 3",
   "language": "python",
   "name": "python3"
  },
  "language_info": {
   "codemirror_mode": {
    "name": "ipython",
    "version": 3
   },
   "file_extension": ".py",
   "mimetype": "text/x-python",
   "name": "python",
   "nbconvert_exporter": "python",
   "pygments_lexer": "ipython3",
   "version": "3.8.5"
  },
  "toc": {
   "base_numbering": 1,
   "nav_menu": {},
   "number_sections": true,
   "sideBar": true,
   "skip_h1_title": false,
   "title_cell": "Table of Contents",
   "title_sidebar": "Contents",
   "toc_cell": false,
   "toc_position": {},
   "toc_section_display": true,
   "toc_window_display": false
  }
 },
 "nbformat": 4,
 "nbformat_minor": 2
}
